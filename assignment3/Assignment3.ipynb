{
 "cells": [
  {
   "cell_type": "markdown",
   "metadata": {},
   "source": [
    "# Exercise 1 -- The Dataset\n",
    "\n",
    "The PTB Dataset is a collection of text snippets of stories from the Wall Street Journal. \n",
    "The data set divided into 3 datasets for training, validation and testing, respectively.\n",
    "In this exercise we prepare the data for neural network training and inference."
   ]
  },
  {
   "cell_type": "markdown",
   "metadata": {},
   "source": [
    "## Downloading the dataset\n",
    "\n",
    "We have downloaded the PTB training set from https://github.com/tomsercu/lstm/tree/master/data and put the files `train.txt`, `test.txt` and `valid.txt` into the subfolder `ptb_data/`."
   ]
  },
  {
   "cell_type": "markdown",
   "metadata": {},
   "source": [
    "## Some sample phrases\n",
    "\n",
    "Let's print some examples of phrases, which occur in the data set:"
   ]
  },
  {
   "cell_type": "code",
   "execution_count": 1,
   "metadata": {},
   "outputs": [
    {
     "name": "stdout",
     "output_type": "stream",
     "text": [
      "Line 7:\n",
      "\" although preliminary findings were reported more than a year ago the latest results appear in today 's new england journal of medicine a forum likely to bring new attention to the problem \n",
      "\"\n",
      "\n",
      "Line 34:\n",
      "\" yields on money-market mutual funds continued to slide amid signs that portfolio managers expect further declines in interest rates \n",
      "\"\n",
      "\n",
      "Line 67:\n",
      "\" in the new position he will oversee mazda 's u.s. sales service parts and marketing operations \n",
      "\"\n",
      "\n",
      "Line 93:\n",
      "\" south korea 's economic boom which began in N stopped this year because of prolonged labor disputes trade conflicts and sluggish exports \n",
      "\"\n",
      "\n",
      "Line 114:\n",
      "\" new england electric system bowed out of the bidding for public service co. of new hampshire saying that the risks were too high and the potential <unk> too far in the future to justify a higher offer \n",
      "\"\n",
      "\n"
     ]
    }
   ],
   "source": [
    "print_lines = (7, 34, 67, 93, 114)      # randomly chosen integers\n",
    "with open('ptb_data/train.txt') as fh:\n",
    "    for il, line in enumerate(fh):\n",
    "        if il in print_lines:\n",
    "            print('Line %i:\\n\"%s\"\\n' %(il, line))"
   ]
  },
  {
   "cell_type": "markdown",
   "metadata": {},
   "source": [
    "We see that the text has been proprocessed as\n",
    "- ... it contains the special term `<unk>` in place of rare words that do not occur frequently in the dataset\n",
    "- ... there is no punctuation (exception in abbreviations)\n",
    "- ... words are in lower case\n",
    "- ... numbers have been replaced by \"N\"\n",
    "- ... spaces have been included before some terms such as \"’ll\", \"’s\", \"n’t\"\n",
    "Furthermore we can see that each line contains still the newline character `\\n` and also an additional space in the front."
   ]
  },
  {
   "cell_type": "markdown",
   "metadata": {},
   "source": [
    "## Adding `<eos>`\n",
    "\n",
    "In order to represent the text as arrays, we need to add one further preprocessing step: each newline character should be replaced with the special sequence `<eos>`. We do this for our example sentences below:"
   ]
  },
  {
   "cell_type": "code",
   "execution_count": 2,
   "metadata": {},
   "outputs": [
    {
     "name": "stdout",
     "output_type": "stream",
     "text": [
      "Line 7:\n",
      "\" although preliminary findings were reported more than a year ago the latest results appear in today 's new england journal of medicine a forum likely to bring new attention to the problem <eos>\"\n",
      "\n",
      "Line 34:\n",
      "\" yields on money-market mutual funds continued to slide amid signs that portfolio managers expect further declines in interest rates <eos>\"\n",
      "\n",
      "Line 67:\n",
      "\" in the new position he will oversee mazda 's u.s. sales service parts and marketing operations <eos>\"\n",
      "\n",
      "Line 93:\n",
      "\" south korea 's economic boom which began in N stopped this year because of prolonged labor disputes trade conflicts and sluggish exports <eos>\"\n",
      "\n",
      "Line 114:\n",
      "\" new england electric system bowed out of the bidding for public service co. of new hampshire saying that the risks were too high and the potential <unk> too far in the future to justify a higher offer <eos>\"\n",
      "\n"
     ]
    }
   ],
   "source": [
    "print_lines = (7, 34, 67, 93, 114)      # randomly chosen integers\n",
    "with open('ptb_data/train.txt') as fh:\n",
    "    for il, line in enumerate(fh):\n",
    "        if il in print_lines:\n",
    "            print('Line %i:\\n\"%s\"\\n' %(il, line.strip('\\n') + '<eos>'))"
   ]
  },
  {
   "cell_type": "markdown",
   "metadata": {},
   "source": [
    "## Assessing the size of the splits\n",
    "\n",
    "Here we count the number of words in each of the splits of the training data. For that puropose we define a function, which performs the word counting for us:"
   ]
  },
  {
   "cell_type": "code",
   "execution_count": 3,
   "metadata": {},
   "outputs": [],
   "source": [
    "def count_words(fname):\n",
    "    tmp = []\n",
    "    with open(fname) as fh:\n",
    "        for line in fh:\n",
    "            tmp2 = line.strip().split() + ['<eos>']\n",
    "            for el in tmp2:\n",
    "                tmp.append(line)\n",
    "    return len(tmp)"
   ]
  },
  {
   "cell_type": "markdown",
   "metadata": {},
   "source": [
    "Now we can easily determine the number of words in each of the splits of the PTB data:"
   ]
  },
  {
   "cell_type": "code",
   "execution_count": 4,
   "metadata": {},
   "outputs": [
    {
     "name": "stdout",
     "output_type": "stream",
     "text": [
      "The training data contains: 929589 words\n",
      "The validation data contains: 73760 words\n",
      "The test data contains: 82430 words\n"
     ]
    }
   ],
   "source": [
    "print('The training data contains:', count_words('ptb_data/train.txt'), 'words')\n",
    "print('The validation data contains:', count_words('ptb_data/valid.txt'), 'words')\n",
    "print('The test data contains:', count_words('ptb_data/test.txt'), 'words')"
   ]
  },
  {
   "cell_type": "markdown",
   "metadata": {},
   "source": [
    "## Building a dictionary\n",
    "\n",
    "Here we take the example code from https://github.com/pytorch/examples/blob/main/word_language_model/data.py as our data loading routine as it implements everything we need. It includes a dictionary of the words in the data."
   ]
  },
  {
   "cell_type": "code",
   "execution_count": 5,
   "metadata": {},
   "outputs": [
    {
     "data": {
      "text/plain": [
       "10000"
      ]
     },
     "execution_count": 5,
     "metadata": {},
     "output_type": "execute_result"
    }
   ],
   "source": [
    "from corpus import Corpus\n",
    "corpus = Corpus('ptb_data')\n",
    "len(corpus.dictionary)"
   ]
  },
  {
   "cell_type": "markdown",
   "metadata": {},
   "source": [
    "We see that there are in total 10000 unique words in the dataset. The `Corpus` class contains a dictionary as class attribute, which in turn contains the assignment of an unique integer label to each unique word. As an illustration we print every 1000th word in the dictionary:"
   ]
  },
  {
   "cell_type": "code",
   "execution_count": 6,
   "metadata": {},
   "outputs": [
    {
     "name": "stdout",
     "output_type": "stream",
     "text": [
      "['aer', 'dec.', 'polled', 'furniture', 'sort', 'root', 'geneva', 'tale', 'interpreted', 'gte']\n"
     ]
    }
   ],
   "source": [
    "words = corpus.dictionary.idx2word[::1000]\n",
    "print(words)"
   ]
  },
  {
   "cell_type": "markdown",
   "metadata": {},
   "source": [
    "Furthermore the `Corpus` class contains also a lookup table of which word corresponds to which integer label. We illustrate this by printing the integers corresponding ot the words in the variable `words` assigned above:"
   ]
  },
  {
   "cell_type": "code",
   "execution_count": 7,
   "metadata": {},
   "outputs": [
    {
     "name": "stdout",
     "output_type": "stream",
     "text": [
      "[0, 1000, 2000, 3000, 4000, 5000, 6000, 7000, 8000, 9000]\n"
     ]
    }
   ],
   "source": [
    "tmpstr = []\n",
    "for word in words:\n",
    "    tmpstr.append(corpus.dictionary.word2idx[word])\n",
    "print(tmpstr)"
   ]
  },
  {
   "cell_type": "markdown",
   "metadata": {},
   "source": [
    "With these preparations we are ready to embark on the task of training a Elman RNN on the data."
   ]
  },
  {
   "cell_type": "markdown",
   "metadata": {},
   "source": [
    "# Exercise 2 -- Training and evaluating the Elman recurrent neural network model\n",
    "\n",
    "We now assemble and train an Elman recurrent neural network (RNN). Given a series of inputs $\\mathbf{x} = (x_1, x_2, \\ldots, x_{t-1}, x_{t}, x_{t+1}, \\ldots, x_{l_{\\mathrm{seq}}})$, the Elman RNN can be recursively defined via the relations\n",
    "\n",
    "$$f(h_{t-1}, x_t) = \\sigma(W_h h_{t-1} + W_{x} x_t + b_h)$$\n",
    "\n",
    "and\n",
    "\n",
    "$$g(h_t) = \\sigma(W_y h_t + b_y)$$\n",
    "\n",
    "where $h_{t}$ is the so-called *hidden state* at time $t$. Furthermore $W_h$, $W_{x}$, $W_{y}$, $b_h$ and $b_y$ are the learnable weights and biases of linear neural networks used in the hidden state propagation (function $f$) and prediction of output at time $t$ (function $g$). $\\sigma$ is a non-linearity, commonly a $\\tanh$ or $\\mathrm{RELU}$ function. The image below visualizes how the the output of the RNN at time $t$ is given as a function of the input $x_t$ and the hidden state $h_t$ at time $t$. The hidden state encodes thereby the *history* or sequence of previous inputs."
   ]
  },
  {
   "cell_type": "code",
   "execution_count": 8,
   "metadata": {},
   "outputs": [
    {
     "data": {
      "image/png": "[encoded data removed]",
      "text/plain": [
       "<PIL.PngImagePlugin.PngImageFile image mode=RGBA size=782x448>"
      ]
     },
     "metadata": {},
     "output_type": "display_data"
    }
   ],
   "source": [
    "from PIL import Image\n",
    "pil_im = Image.open('RNN_scheme.png')\n",
    "display(pil_im)"
   ]
  },
  {
   "cell_type": "markdown",
   "metadata": {},
   "source": [
    "## Implementing the Elman RNN\n",
    "\n",
    "We have implemented the network described above using pytorch. We thereby leverage the implementations of the RNN layer in pytorch, `torch.nn.RNN()` (https://pytorch.org/docs/stable/generated/torch.nn.RNN.html) and the embedding layer `torch.nn.Embedding()` (https://pytorch.org/docs/stable/generated/torch.nn.Embedding.html). We implement a custom model class `MyNetwork()` and the details of the implementation can be seen in the code snippet below.\n"
   ]
  },
  {
   "cell_type": "code",
   "execution_count": 9,
   "metadata": {},
   "outputs": [
    {
     "data": {
      "text/html": [
       "<style>pre { line-height: 125%; }\n",
       "td.linenos .normal { color: inherit; background-color: transparent; padding-left: 5px; padding-right: 5px; }\n",
       "span.linenos { color: inherit; background-color: transparent; padding-left: 5px; padding-right: 5px; }\n",
       "td.linenos .special { color: #000000; background-color: #ffffc0; padding-left: 5px; padding-right: 5px; }\n",
       "span.linenos.special { color: #000000; background-color: #ffffc0; padding-left: 5px; padding-right: 5px; }\n",
       ".output_html .hll { background-color: #ffffcc }\n",
       ".output_html { background: #f8f8f8; }\n",
       ".output_html .c { color: #3D7B7B; font-style: italic } /* Comment */\n",
       ".output_html .err { border: 1px solid #FF0000 } /* Error */\n",
       ".output_html .k { color: #008000; font-weight: bold } /* Keyword */\n",
       ".output_html .o { color: #666666 } /* Operator */\n",
       ".output_html .ch { color: #3D7B7B; font-style: italic } /* Comment.Hashbang */\n",
       ".output_html .cm { color: #3D7B7B; font-style: italic } /* Comment.Multiline */\n",
       ".output_html .cp { color: #9C6500 } /* Comment.Preproc */\n",
       ".output_html .cpf { color: #3D7B7B; font-style: italic } /* Comment.PreprocFile */\n",
       ".output_html .c1 { color: #3D7B7B; font-style: italic } /* Comment.Single */\n",
       ".output_html .cs { color: #3D7B7B; font-style: italic } /* Comment.Special */\n",
       ".output_html .gd { color: #A00000 } /* Generic.Deleted */\n",
       ".output_html .ge { font-style: italic } /* Generic.Emph */\n",
       ".output_html .gr { color: #E40000 } /* Generic.Error */\n",
       ".output_html .gh { color: #000080; font-weight: bold } /* Generic.Heading */\n",
       ".output_html .gi { color: #008400 } /* Generic.Inserted */\n",
       ".output_html .go { color: #717171 } /* Generic.Output */\n",
       ".output_html .gp { color: #000080; font-weight: bold } /* Generic.Prompt */\n",
       ".output_html .gs { font-weight: bold } /* Generic.Strong */\n",
       ".output_html .gu { color: #800080; font-weight: bold } /* Generic.Subheading */\n",
       ".output_html .gt { color: #0044DD } /* Generic.Traceback */\n",
       ".output_html .kc { color: #008000; font-weight: bold } /* Keyword.Constant */\n",
       ".output_html .kd { color: #008000; font-weight: bold } /* Keyword.Declaration */\n",
       ".output_html .kn { color: #008000; font-weight: bold } /* Keyword.Namespace */\n",
       ".output_html .kp { color: #008000 } /* Keyword.Pseudo */\n",
       ".output_html .kr { color: #008000; font-weight: bold } /* Keyword.Reserved */\n",
       ".output_html .kt { color: #B00040 } /* Keyword.Type */\n",
       ".output_html .m { color: #666666 } /* Literal.Number */\n",
       ".output_html .s { color: #BA2121 } /* Literal.String */\n",
       ".output_html .na { color: #687822 } /* Name.Attribute */\n",
       ".output_html .nb { color: #008000 } /* Name.Builtin */\n",
       ".output_html .nc { color: #0000FF; font-weight: bold } /* Name.Class */\n",
       ".output_html .no { color: #880000 } /* Name.Constant */\n",
       ".output_html .nd { color: #AA22FF } /* Name.Decorator */\n",
       ".output_html .ni { color: #717171; font-weight: bold } /* Name.Entity */\n",
       ".output_html .ne { color: #CB3F38; font-weight: bold } /* Name.Exception */\n",
       ".output_html .nf { color: #0000FF } /* Name.Function */\n",
       ".output_html .nl { color: #767600 } /* Name.Label */\n",
       ".output_html .nn { color: #0000FF; font-weight: bold } /* Name.Namespace */\n",
       ".output_html .nt { color: #008000; font-weight: bold } /* Name.Tag */\n",
       ".output_html .nv { color: #19177C } /* Name.Variable */\n",
       ".output_html .ow { color: #AA22FF; font-weight: bold } /* Operator.Word */\n",
       ".output_html .w { color: #bbbbbb } /* Text.Whitespace */\n",
       ".output_html .mb { color: #666666 } /* Literal.Number.Bin */\n",
       ".output_html .mf { color: #666666 } /* Literal.Number.Float */\n",
       ".output_html .mh { color: #666666 } /* Literal.Number.Hex */\n",
       ".output_html .mi { color: #666666 } /* Literal.Number.Integer */\n",
       ".output_html .mo { color: #666666 } /* Literal.Number.Oct */\n",
       ".output_html .sa { color: #BA2121 } /* Literal.String.Affix */\n",
       ".output_html .sb { color: #BA2121 } /* Literal.String.Backtick */\n",
       ".output_html .sc { color: #BA2121 } /* Literal.String.Char */\n",
       ".output_html .dl { color: #BA2121 } /* Literal.String.Delimiter */\n",
       ".output_html .sd { color: #BA2121; font-style: italic } /* Literal.String.Doc */\n",
       ".output_html .s2 { color: #BA2121 } /* Literal.String.Double */\n",
       ".output_html .se { color: #AA5D1F; font-weight: bold } /* Literal.String.Escape */\n",
       ".output_html .sh { color: #BA2121 } /* Literal.String.Heredoc */\n",
       ".output_html .si { color: #A45A77; font-weight: bold } /* Literal.String.Interpol */\n",
       ".output_html .sx { color: #008000 } /* Literal.String.Other */\n",
       ".output_html .sr { color: #A45A77 } /* Literal.String.Regex */\n",
       ".output_html .s1 { color: #BA2121 } /* Literal.String.Single */\n",
       ".output_html .ss { color: #19177C } /* Literal.String.Symbol */\n",
       ".output_html .bp { color: #008000 } /* Name.Builtin.Pseudo */\n",
       ".output_html .fm { color: #0000FF } /* Name.Function.Magic */\n",
       ".output_html .vc { color: #19177C } /* Name.Variable.Class */\n",
       ".output_html .vg { color: #19177C } /* Name.Variable.Global */\n",
       ".output_html .vi { color: #19177C } /* Name.Variable.Instance */\n",
       ".output_html .vm { color: #19177C } /* Name.Variable.Magic */\n",
       ".output_html .il { color: #666666 } /* Literal.Number.Integer.Long */</style><div class=\"highlight\"><pre><span></span><span class=\"kn\">import</span> <span class=\"nn\">torch</span>\n",
       "<span class=\"kn\">import</span> <span class=\"nn\">torch.nn</span> <span class=\"k\">as</span> <span class=\"nn\">nn</span>\n",
       "<span class=\"kn\">import</span> <span class=\"nn\">torch.nn.functional</span> <span class=\"k\">as</span> <span class=\"nn\">F</span>\n",
       "\n",
       "\n",
       "<span class=\"c1\"># Define the Elman network class</span>\n",
       "<span class=\"k\">class</span> <span class=\"nc\">MyNetwork</span><span class=\"p\">(</span><span class=\"n\">nn</span><span class=\"o\">.</span><span class=\"n\">Module</span><span class=\"p\">):</span>\n",
       "    <span class=\"k\">def</span> <span class=\"fm\">__init__</span><span class=\"p\">(</span><span class=\"bp\">self</span><span class=\"p\">,</span> <span class=\"n\">embedding_dim</span><span class=\"o\">=</span><span class=\"mi\">100</span><span class=\"p\">,</span> <span class=\"n\">hidden_size</span><span class=\"o\">=</span><span class=\"mi\">100</span><span class=\"p\">,</span> <span class=\"n\">nlayers</span><span class=\"o\">=</span><span class=\"mi\">1</span><span class=\"p\">,</span> <span class=\"n\">vocab_size</span><span class=\"o\">=</span><span class=\"mi\">10000</span><span class=\"p\">,</span> <span class=\"n\">rnn_type</span><span class=\"o\">=</span><span class=\"s1\">&#39;RNN&#39;</span><span class=\"p\">):</span>\n",
       "        <span class=\"nb\">super</span><span class=\"p\">(</span><span class=\"n\">MyNetwork</span><span class=\"p\">,</span> <span class=\"bp\">self</span><span class=\"p\">)</span><span class=\"o\">.</span><span class=\"fm\">__init__</span><span class=\"p\">()</span>\n",
       "        \n",
       "        <span class=\"c1\"># Define the embedding layer</span>\n",
       "        <span class=\"bp\">self</span><span class=\"o\">.</span><span class=\"n\">embedding</span> <span class=\"o\">=</span> <span class=\"n\">nn</span><span class=\"o\">.</span><span class=\"n\">Embedding</span><span class=\"p\">(</span><span class=\"n\">vocab_size</span><span class=\"p\">,</span> <span class=\"n\">embedding_dim</span><span class=\"p\">)</span>\n",
       "        \n",
       "        <span class=\"c1\"># Define the RNN layer</span>\n",
       "        <span class=\"k\">if</span> <span class=\"n\">rnn_type</span> <span class=\"o\">==</span> <span class=\"s1\">&#39;RNN&#39;</span><span class=\"p\">:</span>\n",
       "            <span class=\"c1\"># standard Elman RNN</span>\n",
       "            <span class=\"bp\">self</span><span class=\"o\">.</span><span class=\"n\">rnn</span> <span class=\"o\">=</span> <span class=\"n\">nn</span><span class=\"o\">.</span><span class=\"n\">RNN</span><span class=\"p\">(</span><span class=\"n\">embedding_dim</span><span class=\"p\">,</span> <span class=\"n\">hidden_size</span><span class=\"p\">,</span> <span class=\"n\">num_layers</span><span class=\"o\">=</span><span class=\"n\">nlayers</span><span class=\"p\">)</span>\n",
       "        <span class=\"k\">elif</span> <span class=\"n\">rnn_type</span> <span class=\"o\">==</span> <span class=\"s1\">&#39;LSTM&#39;</span><span class=\"p\">:</span>\n",
       "            <span class=\"bp\">self</span><span class=\"o\">.</span><span class=\"n\">rnn</span> <span class=\"o\">=</span> <span class=\"n\">nn</span><span class=\"o\">.</span><span class=\"n\">LSTM</span><span class=\"p\">(</span><span class=\"n\">embedding_dim</span><span class=\"p\">,</span> <span class=\"n\">hidden_size</span><span class=\"p\">,</span> <span class=\"n\">num_layers</span><span class=\"o\">=</span><span class=\"n\">nlayers</span><span class=\"p\">)</span>\n",
       "        <span class=\"k\">else</span><span class=\"p\">:</span>\n",
       "            <span class=\"k\">raise</span> <span class=\"ne\">NotImplementedError</span><span class=\"p\">()</span>\n",
       "        \n",
       "        <span class=\"c1\"># Define the output layer</span>\n",
       "        <span class=\"bp\">self</span><span class=\"o\">.</span><span class=\"n\">output_layer</span> <span class=\"o\">=</span> <span class=\"n\">nn</span><span class=\"o\">.</span><span class=\"n\">Linear</span><span class=\"p\">(</span><span class=\"n\">hidden_size</span><span class=\"p\">,</span> <span class=\"n\">vocab_size</span><span class=\"p\">)</span>\n",
       "\n",
       "        <span class=\"bp\">self</span><span class=\"o\">.</span><span class=\"n\">hidden_size</span> <span class=\"o\">=</span> <span class=\"n\">hidden_size</span>\n",
       "        <span class=\"bp\">self</span><span class=\"o\">.</span><span class=\"n\">nlayers</span> <span class=\"o\">=</span> <span class=\"n\">nlayers</span>\n",
       "        <span class=\"bp\">self</span><span class=\"o\">.</span><span class=\"n\">vocab_size</span> <span class=\"o\">=</span> <span class=\"n\">vocab_size</span>\n",
       "        <span class=\"bp\">self</span><span class=\"o\">.</span><span class=\"n\">rnn_type</span> <span class=\"o\">=</span> <span class=\"n\">rnn_type</span>\n",
       "        <span class=\"bp\">self</span><span class=\"o\">.</span><span class=\"n\">epoch</span> <span class=\"o\">=</span> <span class=\"mi\">0</span>\n",
       "        <span class=\"bp\">self</span><span class=\"o\">.</span><span class=\"n\">time</span> <span class=\"o\">=</span> <span class=\"mi\">0</span>\n",
       "        <span class=\"bp\">self</span><span class=\"o\">.</span><span class=\"n\">train_loss</span> <span class=\"o\">=</span> <span class=\"p\">[]</span>\n",
       "        <span class=\"bp\">self</span><span class=\"o\">.</span><span class=\"n\">val_loss</span> <span class=\"o\">=</span> <span class=\"p\">[]</span>\n",
       "    \n",
       "    \n",
       "    <span class=\"k\">def</span> <span class=\"nf\">forward</span><span class=\"p\">(</span><span class=\"bp\">self</span><span class=\"p\">,</span> <span class=\"nb\">input</span><span class=\"p\">,</span> <span class=\"n\">hidden</span><span class=\"o\">=</span><span class=\"kc\">None</span><span class=\"p\">):</span>\n",
       "        <span class=\"c1\"># Apply word embedding to input</span>\n",
       "        <span class=\"n\">embedded</span> <span class=\"o\">=</span> <span class=\"bp\">self</span><span class=\"o\">.</span><span class=\"n\">embedding</span><span class=\"p\">(</span><span class=\"nb\">input</span><span class=\"p\">)</span>\n",
       "\n",
       "        <span class=\"c1\"># Forward pass through the RNN layer</span>\n",
       "        <span class=\"k\">if</span> <span class=\"n\">hidden</span> <span class=\"ow\">is</span> <span class=\"ow\">not</span> <span class=\"kc\">None</span><span class=\"p\">:</span>\n",
       "            <span class=\"n\">output</span><span class=\"p\">,</span> <span class=\"n\">hidden</span> <span class=\"o\">=</span> <span class=\"bp\">self</span><span class=\"o\">.</span><span class=\"n\">rnn</span><span class=\"p\">(</span><span class=\"n\">embedded</span><span class=\"p\">,</span> <span class=\"n\">hidden</span><span class=\"p\">)</span>\n",
       "        <span class=\"k\">else</span><span class=\"p\">:</span>\n",
       "            <span class=\"n\">output</span><span class=\"p\">,</span> <span class=\"n\">hidden</span> <span class=\"o\">=</span> <span class=\"bp\">self</span><span class=\"o\">.</span><span class=\"n\">rnn</span><span class=\"p\">(</span><span class=\"n\">embedded</span><span class=\"p\">)</span>\n",
       "\n",
       "        <span class=\"c1\"># Apply the output layer and return the output</span>\n",
       "        <span class=\"n\">output</span> <span class=\"o\">=</span> <span class=\"bp\">self</span><span class=\"o\">.</span><span class=\"n\">output_layer</span><span class=\"p\">(</span><span class=\"n\">output</span><span class=\"p\">)</span><span class=\"o\">.</span><span class=\"n\">view</span><span class=\"p\">(</span><span class=\"o\">-</span><span class=\"mi\">1</span><span class=\"p\">,</span> <span class=\"bp\">self</span><span class=\"o\">.</span><span class=\"n\">vocab_size</span><span class=\"p\">)</span>\n",
       "        \n",
       "        <span class=\"k\">return</span> <span class=\"n\">output</span><span class=\"p\">,</span> <span class=\"n\">hidden</span>\n",
       "    \n",
       "    \n",
       "    <span class=\"k\">def</span> <span class=\"nf\">init_hidden</span><span class=\"p\">(</span><span class=\"bp\">self</span><span class=\"p\">,</span> <span class=\"n\">batch_size</span><span class=\"p\">,</span> <span class=\"n\">method</span><span class=\"o\">=</span><span class=\"s1\">&#39;zeros&#39;</span><span class=\"p\">):</span>\n",
       "        <span class=\"n\">weight</span> <span class=\"o\">=</span> <span class=\"nb\">next</span><span class=\"p\">(</span><span class=\"bp\">self</span><span class=\"o\">.</span><span class=\"n\">parameters</span><span class=\"p\">())</span>\n",
       "        <span class=\"k\">if</span> <span class=\"bp\">self</span><span class=\"o\">.</span><span class=\"n\">rnn_type</span> <span class=\"o\">==</span> <span class=\"s1\">&#39;LSTM&#39;</span><span class=\"p\">:</span>\n",
       "            <span class=\"k\">if</span> <span class=\"n\">method</span> <span class=\"o\">==</span> <span class=\"s1\">&#39;zeros&#39;</span><span class=\"p\">:</span>\n",
       "                <span class=\"k\">return</span> <span class=\"p\">(</span><span class=\"n\">weight</span><span class=\"o\">.</span><span class=\"n\">new_zeros</span><span class=\"p\">(</span><span class=\"bp\">self</span><span class=\"o\">.</span><span class=\"n\">nlayers</span><span class=\"p\">,</span> <span class=\"n\">batch_size</span><span class=\"p\">,</span> <span class=\"bp\">self</span><span class=\"o\">.</span><span class=\"n\">hidden_size</span><span class=\"p\">),</span>\n",
       "                        <span class=\"n\">weight</span><span class=\"o\">.</span><span class=\"n\">new_zeros</span><span class=\"p\">(</span><span class=\"bp\">self</span><span class=\"o\">.</span><span class=\"n\">nlayers</span><span class=\"p\">,</span> <span class=\"n\">batch_size</span><span class=\"p\">,</span> <span class=\"bp\">self</span><span class=\"o\">.</span><span class=\"n\">hidden_size</span><span class=\"p\">))</span>\n",
       "            <span class=\"k\">elif</span> <span class=\"n\">method</span> <span class=\"o\">==</span> <span class=\"s1\">&#39;uniform&#39;</span><span class=\"p\">:</span>\n",
       "                <span class=\"k\">return</span> <span class=\"p\">(</span><span class=\"n\">weight</span><span class=\"o\">.</span><span class=\"n\">uniform</span><span class=\"p\">(</span><span class=\"bp\">self</span><span class=\"o\">.</span><span class=\"n\">nlayers</span><span class=\"p\">,</span> <span class=\"n\">batch_size</span><span class=\"p\">,</span> <span class=\"bp\">self</span><span class=\"o\">.</span><span class=\"n\">hidden_size</span><span class=\"p\">),</span>\n",
       "                        <span class=\"n\">weight</span><span class=\"o\">.</span><span class=\"n\">uniform</span><span class=\"p\">(</span><span class=\"bp\">self</span><span class=\"o\">.</span><span class=\"n\">nlayers</span><span class=\"p\">,</span> <span class=\"n\">batch_size</span><span class=\"p\">,</span> <span class=\"bp\">self</span><span class=\"o\">.</span><span class=\"n\">hidden_size</span><span class=\"p\">))</span>\n",
       "            <span class=\"k\">else</span><span class=\"p\">:</span>\n",
       "                <span class=\"k\">raise</span> <span class=\"ne\">NotImplementedError</span><span class=\"p\">()</span>\n",
       "        <span class=\"k\">else</span><span class=\"p\">:</span>\n",
       "            <span class=\"k\">if</span> <span class=\"n\">method</span> <span class=\"o\">==</span> <span class=\"s1\">&#39;zeros&#39;</span><span class=\"p\">:</span>\n",
       "                <span class=\"k\">return</span> <span class=\"n\">weight</span><span class=\"o\">.</span><span class=\"n\">new_zeros</span><span class=\"p\">(</span><span class=\"bp\">self</span><span class=\"o\">.</span><span class=\"n\">nlayers</span><span class=\"p\">,</span> <span class=\"n\">batch_size</span><span class=\"p\">,</span> <span class=\"bp\">self</span><span class=\"o\">.</span><span class=\"n\">hidden_size</span><span class=\"p\">)</span>\n",
       "            <span class=\"k\">elif</span> <span class=\"n\">method</span> <span class=\"o\">==</span> <span class=\"s1\">&#39;uniform&#39;</span><span class=\"p\">:</span>\n",
       "                <span class=\"k\">return</span> <span class=\"n\">weight</span><span class=\"o\">.</span><span class=\"n\">uniform</span><span class=\"p\">(</span><span class=\"bp\">self</span><span class=\"o\">.</span><span class=\"n\">nlayers</span><span class=\"p\">,</span> <span class=\"n\">batch_size</span><span class=\"p\">,</span> <span class=\"bp\">self</span><span class=\"o\">.</span><span class=\"n\">hidden_size</span><span class=\"p\">)</span>\n",
       "            <span class=\"k\">else</span><span class=\"p\">:</span>\n",
       "                <span class=\"k\">raise</span> <span class=\"ne\">NotImplementedError</span><span class=\"p\">()</span>\n",
       "</pre></div>\n"
      ],
      "text/latex": [
       "\\begin{Verbatim}[commandchars=\\\\\\{\\}]\n",
       "\\PY{k+kn}{import} \\PY{n+nn}{torch}\n",
       "\\PY{k+kn}{import} \\PY{n+nn}{torch}\\PY{n+nn}{.}\\PY{n+nn}{nn} \\PY{k}{as} \\PY{n+nn}{nn}\n",
       "\\PY{k+kn}{import} \\PY{n+nn}{torch}\\PY{n+nn}{.}\\PY{n+nn}{nn}\\PY{n+nn}{.}\\PY{n+nn}{functional} \\PY{k}{as} \\PY{n+nn}{F}\n",
       "\n",
       "\n",
       "\\PY{c+c1}{\\PYZsh{} Define the Elman network class}\n",
       "\\PY{k}{class} \\PY{n+nc}{MyNetwork}\\PY{p}{(}\\PY{n}{nn}\\PY{o}{.}\\PY{n}{Module}\\PY{p}{)}\\PY{p}{:}\n",
       "    \\PY{k}{def} \\PY{n+nf+fm}{\\PYZus{}\\PYZus{}init\\PYZus{}\\PYZus{}}\\PY{p}{(}\\PY{n+nb+bp}{self}\\PY{p}{,} \\PY{n}{embedding\\PYZus{}dim}\\PY{o}{=}\\PY{l+m+mi}{100}\\PY{p}{,} \\PY{n}{hidden\\PYZus{}size}\\PY{o}{=}\\PY{l+m+mi}{100}\\PY{p}{,} \\PY{n}{nlayers}\\PY{o}{=}\\PY{l+m+mi}{1}\\PY{p}{,} \\PY{n}{vocab\\PYZus{}size}\\PY{o}{=}\\PY{l+m+mi}{10000}\\PY{p}{,} \\PY{n}{rnn\\PYZus{}type}\\PY{o}{=}\\PY{l+s+s1}{\\PYZsq{}}\\PY{l+s+s1}{RNN}\\PY{l+s+s1}{\\PYZsq{}}\\PY{p}{)}\\PY{p}{:}\n",
       "        \\PY{n+nb}{super}\\PY{p}{(}\\PY{n}{MyNetwork}\\PY{p}{,} \\PY{n+nb+bp}{self}\\PY{p}{)}\\PY{o}{.}\\PY{n+nf+fm}{\\PYZus{}\\PYZus{}init\\PYZus{}\\PYZus{}}\\PY{p}{(}\\PY{p}{)}\n",
       "        \n",
       "        \\PY{c+c1}{\\PYZsh{} Define the embedding layer}\n",
       "        \\PY{n+nb+bp}{self}\\PY{o}{.}\\PY{n}{embedding} \\PY{o}{=} \\PY{n}{nn}\\PY{o}{.}\\PY{n}{Embedding}\\PY{p}{(}\\PY{n}{vocab\\PYZus{}size}\\PY{p}{,} \\PY{n}{embedding\\PYZus{}dim}\\PY{p}{)}\n",
       "        \n",
       "        \\PY{c+c1}{\\PYZsh{} Define the RNN layer}\n",
       "        \\PY{k}{if} \\PY{n}{rnn\\PYZus{}type} \\PY{o}{==} \\PY{l+s+s1}{\\PYZsq{}}\\PY{l+s+s1}{RNN}\\PY{l+s+s1}{\\PYZsq{}}\\PY{p}{:}\n",
       "            \\PY{c+c1}{\\PYZsh{} standard Elman RNN}\n",
       "            \\PY{n+nb+bp}{self}\\PY{o}{.}\\PY{n}{rnn} \\PY{o}{=} \\PY{n}{nn}\\PY{o}{.}\\PY{n}{RNN}\\PY{p}{(}\\PY{n}{embedding\\PYZus{}dim}\\PY{p}{,} \\PY{n}{hidden\\PYZus{}size}\\PY{p}{,} \\PY{n}{num\\PYZus{}layers}\\PY{o}{=}\\PY{n}{nlayers}\\PY{p}{)}\n",
       "        \\PY{k}{elif} \\PY{n}{rnn\\PYZus{}type} \\PY{o}{==} \\PY{l+s+s1}{\\PYZsq{}}\\PY{l+s+s1}{LSTM}\\PY{l+s+s1}{\\PYZsq{}}\\PY{p}{:}\n",
       "            \\PY{n+nb+bp}{self}\\PY{o}{.}\\PY{n}{rnn} \\PY{o}{=} \\PY{n}{nn}\\PY{o}{.}\\PY{n}{LSTM}\\PY{p}{(}\\PY{n}{embedding\\PYZus{}dim}\\PY{p}{,} \\PY{n}{hidden\\PYZus{}size}\\PY{p}{,} \\PY{n}{num\\PYZus{}layers}\\PY{o}{=}\\PY{n}{nlayers}\\PY{p}{)}\n",
       "        \\PY{k}{else}\\PY{p}{:}\n",
       "            \\PY{k}{raise} \\PY{n+ne}{NotImplementedError}\\PY{p}{(}\\PY{p}{)}\n",
       "        \n",
       "        \\PY{c+c1}{\\PYZsh{} Define the output layer}\n",
       "        \\PY{n+nb+bp}{self}\\PY{o}{.}\\PY{n}{output\\PYZus{}layer} \\PY{o}{=} \\PY{n}{nn}\\PY{o}{.}\\PY{n}{Linear}\\PY{p}{(}\\PY{n}{hidden\\PYZus{}size}\\PY{p}{,} \\PY{n}{vocab\\PYZus{}size}\\PY{p}{)}\n",
       "\n",
       "        \\PY{n+nb+bp}{self}\\PY{o}{.}\\PY{n}{hidden\\PYZus{}size} \\PY{o}{=} \\PY{n}{hidden\\PYZus{}size}\n",
       "        \\PY{n+nb+bp}{self}\\PY{o}{.}\\PY{n}{nlayers} \\PY{o}{=} \\PY{n}{nlayers}\n",
       "        \\PY{n+nb+bp}{self}\\PY{o}{.}\\PY{n}{vocab\\PYZus{}size} \\PY{o}{=} \\PY{n}{vocab\\PYZus{}size}\n",
       "        \\PY{n+nb+bp}{self}\\PY{o}{.}\\PY{n}{rnn\\PYZus{}type} \\PY{o}{=} \\PY{n}{rnn\\PYZus{}type}\n",
       "        \\PY{n+nb+bp}{self}\\PY{o}{.}\\PY{n}{epoch} \\PY{o}{=} \\PY{l+m+mi}{0}\n",
       "        \\PY{n+nb+bp}{self}\\PY{o}{.}\\PY{n}{time} \\PY{o}{=} \\PY{l+m+mi}{0}\n",
       "        \\PY{n+nb+bp}{self}\\PY{o}{.}\\PY{n}{train\\PYZus{}loss} \\PY{o}{=} \\PY{p}{[}\\PY{p}{]}\n",
       "        \\PY{n+nb+bp}{self}\\PY{o}{.}\\PY{n}{val\\PYZus{}loss} \\PY{o}{=} \\PY{p}{[}\\PY{p}{]}\n",
       "    \n",
       "    \n",
       "    \\PY{k}{def} \\PY{n+nf}{forward}\\PY{p}{(}\\PY{n+nb+bp}{self}\\PY{p}{,} \\PY{n+nb}{input}\\PY{p}{,} \\PY{n}{hidden}\\PY{o}{=}\\PY{k+kc}{None}\\PY{p}{)}\\PY{p}{:}\n",
       "        \\PY{c+c1}{\\PYZsh{} Apply word embedding to input}\n",
       "        \\PY{n}{embedded} \\PY{o}{=} \\PY{n+nb+bp}{self}\\PY{o}{.}\\PY{n}{embedding}\\PY{p}{(}\\PY{n+nb}{input}\\PY{p}{)}\n",
       "\n",
       "        \\PY{c+c1}{\\PYZsh{} Forward pass through the RNN layer}\n",
       "        \\PY{k}{if} \\PY{n}{hidden} \\PY{o+ow}{is} \\PY{o+ow}{not} \\PY{k+kc}{None}\\PY{p}{:}\n",
       "            \\PY{n}{output}\\PY{p}{,} \\PY{n}{hidden} \\PY{o}{=} \\PY{n+nb+bp}{self}\\PY{o}{.}\\PY{n}{rnn}\\PY{p}{(}\\PY{n}{embedded}\\PY{p}{,} \\PY{n}{hidden}\\PY{p}{)}\n",
       "        \\PY{k}{else}\\PY{p}{:}\n",
       "            \\PY{n}{output}\\PY{p}{,} \\PY{n}{hidden} \\PY{o}{=} \\PY{n+nb+bp}{self}\\PY{o}{.}\\PY{n}{rnn}\\PY{p}{(}\\PY{n}{embedded}\\PY{p}{)}\n",
       "\n",
       "        \\PY{c+c1}{\\PYZsh{} Apply the output layer and return the output}\n",
       "        \\PY{n}{output} \\PY{o}{=} \\PY{n+nb+bp}{self}\\PY{o}{.}\\PY{n}{output\\PYZus{}layer}\\PY{p}{(}\\PY{n}{output}\\PY{p}{)}\\PY{o}{.}\\PY{n}{view}\\PY{p}{(}\\PY{o}{\\PYZhy{}}\\PY{l+m+mi}{1}\\PY{p}{,} \\PY{n+nb+bp}{self}\\PY{o}{.}\\PY{n}{vocab\\PYZus{}size}\\PY{p}{)}\n",
       "        \n",
       "        \\PY{k}{return} \\PY{n}{output}\\PY{p}{,} \\PY{n}{hidden}\n",
       "    \n",
       "    \n",
       "    \\PY{k}{def} \\PY{n+nf}{init\\PYZus{}hidden}\\PY{p}{(}\\PY{n+nb+bp}{self}\\PY{p}{,} \\PY{n}{batch\\PYZus{}size}\\PY{p}{,} \\PY{n}{method}\\PY{o}{=}\\PY{l+s+s1}{\\PYZsq{}}\\PY{l+s+s1}{zeros}\\PY{l+s+s1}{\\PYZsq{}}\\PY{p}{)}\\PY{p}{:}\n",
       "        \\PY{n}{weight} \\PY{o}{=} \\PY{n+nb}{next}\\PY{p}{(}\\PY{n+nb+bp}{self}\\PY{o}{.}\\PY{n}{parameters}\\PY{p}{(}\\PY{p}{)}\\PY{p}{)}\n",
       "        \\PY{k}{if} \\PY{n+nb+bp}{self}\\PY{o}{.}\\PY{n}{rnn\\PYZus{}type} \\PY{o}{==} \\PY{l+s+s1}{\\PYZsq{}}\\PY{l+s+s1}{LSTM}\\PY{l+s+s1}{\\PYZsq{}}\\PY{p}{:}\n",
       "            \\PY{k}{if} \\PY{n}{method} \\PY{o}{==} \\PY{l+s+s1}{\\PYZsq{}}\\PY{l+s+s1}{zeros}\\PY{l+s+s1}{\\PYZsq{}}\\PY{p}{:}\n",
       "                \\PY{k}{return} \\PY{p}{(}\\PY{n}{weight}\\PY{o}{.}\\PY{n}{new\\PYZus{}zeros}\\PY{p}{(}\\PY{n+nb+bp}{self}\\PY{o}{.}\\PY{n}{nlayers}\\PY{p}{,} \\PY{n}{batch\\PYZus{}size}\\PY{p}{,} \\PY{n+nb+bp}{self}\\PY{o}{.}\\PY{n}{hidden\\PYZus{}size}\\PY{p}{)}\\PY{p}{,}\n",
       "                        \\PY{n}{weight}\\PY{o}{.}\\PY{n}{new\\PYZus{}zeros}\\PY{p}{(}\\PY{n+nb+bp}{self}\\PY{o}{.}\\PY{n}{nlayers}\\PY{p}{,} \\PY{n}{batch\\PYZus{}size}\\PY{p}{,} \\PY{n+nb+bp}{self}\\PY{o}{.}\\PY{n}{hidden\\PYZus{}size}\\PY{p}{)}\\PY{p}{)}\n",
       "            \\PY{k}{elif} \\PY{n}{method} \\PY{o}{==} \\PY{l+s+s1}{\\PYZsq{}}\\PY{l+s+s1}{uniform}\\PY{l+s+s1}{\\PYZsq{}}\\PY{p}{:}\n",
       "                \\PY{k}{return} \\PY{p}{(}\\PY{n}{weight}\\PY{o}{.}\\PY{n}{uniform}\\PY{p}{(}\\PY{n+nb+bp}{self}\\PY{o}{.}\\PY{n}{nlayers}\\PY{p}{,} \\PY{n}{batch\\PYZus{}size}\\PY{p}{,} \\PY{n+nb+bp}{self}\\PY{o}{.}\\PY{n}{hidden\\PYZus{}size}\\PY{p}{)}\\PY{p}{,}\n",
       "                        \\PY{n}{weight}\\PY{o}{.}\\PY{n}{uniform}\\PY{p}{(}\\PY{n+nb+bp}{self}\\PY{o}{.}\\PY{n}{nlayers}\\PY{p}{,} \\PY{n}{batch\\PYZus{}size}\\PY{p}{,} \\PY{n+nb+bp}{self}\\PY{o}{.}\\PY{n}{hidden\\PYZus{}size}\\PY{p}{)}\\PY{p}{)}\n",
       "            \\PY{k}{else}\\PY{p}{:}\n",
       "                \\PY{k}{raise} \\PY{n+ne}{NotImplementedError}\\PY{p}{(}\\PY{p}{)}\n",
       "        \\PY{k}{else}\\PY{p}{:}\n",
       "            \\PY{k}{if} \\PY{n}{method} \\PY{o}{==} \\PY{l+s+s1}{\\PYZsq{}}\\PY{l+s+s1}{zeros}\\PY{l+s+s1}{\\PYZsq{}}\\PY{p}{:}\n",
       "                \\PY{k}{return} \\PY{n}{weight}\\PY{o}{.}\\PY{n}{new\\PYZus{}zeros}\\PY{p}{(}\\PY{n+nb+bp}{self}\\PY{o}{.}\\PY{n}{nlayers}\\PY{p}{,} \\PY{n}{batch\\PYZus{}size}\\PY{p}{,} \\PY{n+nb+bp}{self}\\PY{o}{.}\\PY{n}{hidden\\PYZus{}size}\\PY{p}{)}\n",
       "            \\PY{k}{elif} \\PY{n}{method} \\PY{o}{==} \\PY{l+s+s1}{\\PYZsq{}}\\PY{l+s+s1}{uniform}\\PY{l+s+s1}{\\PYZsq{}}\\PY{p}{:}\n",
       "                \\PY{k}{return} \\PY{n}{weight}\\PY{o}{.}\\PY{n}{uniform}\\PY{p}{(}\\PY{n+nb+bp}{self}\\PY{o}{.}\\PY{n}{nlayers}\\PY{p}{,} \\PY{n}{batch\\PYZus{}size}\\PY{p}{,} \\PY{n+nb+bp}{self}\\PY{o}{.}\\PY{n}{hidden\\PYZus{}size}\\PY{p}{)}\n",
       "            \\PY{k}{else}\\PY{p}{:}\n",
       "                \\PY{k}{raise} \\PY{n+ne}{NotImplementedError}\\PY{p}{(}\\PY{p}{)}\n",
       "\\end{Verbatim}\n"
      ],
      "text/plain": [
       "import torch\n",
       "import torch.nn as nn\n",
       "import torch.nn.functional as F\n",
       "\n",
       "\n",
       "# Define the Elman network class\n",
       "class MyNetwork(nn.Module):\n",
       "    def __init__(self, embedding_dim=100, hidden_size=100, nlayers=1, vocab_size=10000, rnn_type='RNN'):\n",
       "        super(MyNetwork, self).__init__()\n",
       "        \n",
       "        # Define the embedding layer\n",
       "        self.embedding = nn.Embedding(vocab_size, embedding_dim)\n",
       "        \n",
       "        # Define the RNN layer\n",
       "        if rnn_type == 'RNN':\n",
       "            # standard Elman RNN\n",
       "            self.rnn = nn.RNN(embedding_dim, hidden_size, num_layers=nlayers)\n",
       "        elif rnn_type == 'LSTM':\n",
       "            self.rnn = nn.LSTM(embedding_dim, hidden_size, num_layers=nlayers)\n",
       "        else:\n",
       "            raise NotImplementedError()\n",
       "        \n",
       "        # Define the output layer\n",
       "        self.output_layer = nn.Linear(hidden_size, vocab_size)\n",
       "\n",
       "        self.hidden_size = hidden_size\n",
       "        self.nlayers = nlayers\n",
       "        self.vocab_size = vocab_size\n",
       "        self.rnn_type = rnn_type\n",
       "        self.epoch = 0\n",
       "        self.time = 0\n",
       "        self.train_loss = []\n",
       "        self.val_loss = []\n",
       "    \n",
       "    \n",
       "    def forward(self, input, hidden=None):\n",
       "        # Apply word embedding to input\n",
       "        embedded = self.embedding(input)\n",
       "\n",
       "        # Forward pass through the RNN layer\n",
       "        if hidden is not None:\n",
       "            output, hidden = self.rnn(embedded, hidden)\n",
       "        else:\n",
       "            output, hidden = self.rnn(embedded)\n",
       "\n",
       "        # Apply the output layer and return the output\n",
       "        output = self.output_layer(output).view(-1, self.vocab_size)\n",
       "        \n",
       "        return output, hidden\n",
       "    \n",
       "    \n",
       "    def init_hidden(self, batch_size, method='zeros'):\n",
       "        weight = next(self.parameters())\n",
       "        if self.rnn_type == 'LSTM':\n",
       "            if method == 'zeros':\n",
       "                return (weight.new_zeros(self.nlayers, batch_size, self.hidden_size),\n",
       "                        weight.new_zeros(self.nlayers, batch_size, self.hidden_size))\n",
       "            elif method == 'uniform':\n",
       "                return (weight.uniform(self.nlayers, batch_size, self.hidden_size),\n",
       "                        weight.uniform(self.nlayers, batch_size, self.hidden_size))\n",
       "            else:\n",
       "                raise NotImplementedError()\n",
       "        else:\n",
       "            if method == 'zeros':\n",
       "                return weight.new_zeros(self.nlayers, batch_size, self.hidden_size)\n",
       "            elif method == 'uniform':\n",
       "                return weight.uniform(self.nlayers, batch_size, self.hidden_size)\n",
       "            else:\n",
       "                raise NotImplementedError()\n",
       "\n"
      ]
     },
     "execution_count": 9,
     "metadata": {},
     "output_type": "execute_result"
    }
   ],
   "source": [
    "from IPython.display import Code\n",
    "Code(filename='mymodel.py', language='python')"
   ]
  },
  {
   "cell_type": "markdown",
   "metadata": {},
   "source": [
    "We initialize the network using the code snippet below and use our gpu."
   ]
  },
  {
   "cell_type": "code",
   "execution_count": 10,
   "metadata": {},
   "outputs": [],
   "source": [
    "import torch\n",
    "from mymodel import MyNetwork\n",
    "device = torch.device(\"cuda\")\n",
    "model = MyNetwork().to(device)"
   ]
  },
  {
   "cell_type": "markdown",
   "metadata": {},
   "source": [
    "## Implementing a data loading routine\n",
    "\n",
    "Before we can train the network, we need to come up with a dataloading routine. The goal is to split the whole sequence of integers representing the entire text string of the dataset into $l_{\\mathrm{seq}}$ sequences, of which $b$ are loaded at each training iteration. We follow here the implementation of this strategy as in the `main.py` script of the pytorch word language model example found at\n",
    "\n",
    "https://github.com/pytorch/examples/tree/main/word_language_model\n",
    "\n",
    "rather than a straightforward implementation of the ideas laid out in the instructions, since the strategy used in the pytorhc example leads to lower resource consumption. We start by loading the text using the routine we have developed in exercise 1 and choosing some batch size $b$ and sequence length $l_{\\mathrm{seq}}$."
   ]
  },
  {
   "cell_type": "code",
   "execution_count": 11,
   "metadata": {},
   "outputs": [],
   "source": [
    "corpus = Corpus('ptb_data')\n",
    "batch_size = 100\n",
    "l_seq = 20"
   ]
  },
  {
   "cell_type": "markdown",
   "metadata": {},
   "source": [
    "Next we divide each of the data sets into $b$ sequences using the `batchify()` function of the pytorch language model example."
   ]
  },
  {
   "cell_type": "code",
   "execution_count": 12,
   "metadata": {},
   "outputs": [],
   "source": [
    "def batchify(data, bsz):\n",
    "    \"\"\" Credit for this function:\n",
    "        https://github.com/pytorch/examples/blob/main/word_language_model/main.py\n",
    "    \"\"\"\n",
    "    # Work out how cleanly we can divide the dataset into bsz parts.\n",
    "    nbatch = data.size(0) // bsz\n",
    "    # Trim off any extra elements that wouldn't cleanly fit (remainders).\n",
    "    data = data.narrow(0, 0, nbatch * bsz)\n",
    "    # Evenly divide the data across the bsz batches.\n",
    "    data = data.view(bsz, -1).t().contiguous()\n",
    "    return data.to(device)\n",
    "\n",
    "train_data = batchify(corpus.train, batch_size)\n",
    "val_data = batchify(corpus.valid, batch_size)\n",
    "test_data = batchify(corpus.test, batch_size)"
   ]
  },
  {
   "cell_type": "markdown",
   "metadata": {},
   "source": [
    "Let's check the shape of the tensor containing the training data and also compare the first few rows and coulmns to the training data in the original `corpus.train`."
   ]
  },
  {
   "cell_type": "code",
   "execution_count": 13,
   "metadata": {
    "scrolled": true
   },
   "outputs": [
    {
     "name": "stdout",
     "output_type": "stream",
     "text": [
      "torch.Size([9295, 100])\n",
      "tensor([[   0,  467,   48],\n",
      "        [   1,  160,  166],\n",
      "        [   2, 1112, 3174],\n",
      "        [   3,  566, 3161],\n",
      "        [   4,  749,  498],\n",
      "        [   5,   93, 2970],\n",
      "        [   6, 1123,  181],\n",
      "        [   7,   24, 2587],\n",
      "        [   8, 2006,   34],\n",
      "        [   9, 1752,  250]], device='cuda:0')\n",
      "tensor([0, 1, 2, 3, 4, 5, 6, 7, 8, 9])\n",
      "tensor([ 467,  160, 1112,  566,  749,   93, 1123,   24, 2006, 1752])\n",
      "tensor([  48,  166, 3174, 3161,  498, 2970,  181, 2587,   34,  250])\n"
     ]
    }
   ],
   "source": [
    "print(train_data.shape)\n",
    "print(train_data[:10,:3])\n",
    "\n",
    "# This is the first colum of train_data[:10,:3]\n",
    "print(corpus.train[:10])\n",
    "# This is the second colum of train_data[:10,:3]\n",
    "print(corpus.train[train_data.shape[0]:train_data.shape[0]+10])\n",
    "# This is the third colum of train_data[:10,:3]\n",
    "print(corpus.train[2*train_data.shape[0]:2*train_data.shape[0]+10])"
   ]
  },
  {
   "cell_type": "markdown",
   "metadata": {},
   "source": [
    "We see that we have split the data into $b$ sequences and stored them in a tensor. In a next step we will need to further split these sequences into sequences of size $l_{\\mathrm{seq}}$. To that end we follow the same strategy as in the pytorch example and define another function, which will return $b$ sequences of length $l_{\\mathrm{seq}}$ starting with a specified index $i$. The function returns furthermore the input data to the RNN as well as the correct labels (targets)."
   ]
  },
  {
   "cell_type": "code",
   "execution_count": 14,
   "metadata": {},
   "outputs": [],
   "source": [
    "def get_batch(source, i):\n",
    "    seq_len = min(l_seq, len(source) - 1 - i)\n",
    "    data = source[i:i+seq_len]\n",
    "    target = source[i+1:i+1+seq_len].view(-1)\n",
    "    return data, target"
   ]
  },
  {
   "cell_type": "markdown",
   "metadata": {},
   "source": [
    "We check the output of this function and note that the targets are given as a flattened array, which is the reason, why we return a view `.view(-1, self.vocab_size)` of the output in our model in `mymodel.py`."
   ]
  },
  {
   "cell_type": "code",
   "execution_count": 15,
   "metadata": {},
   "outputs": [
    {
     "name": "stdout",
     "output_type": "stream",
     "text": [
      "torch.Size([20, 100])\n",
      "torch.Size([2000])\n",
      "tensor([[   0,  467,   48],\n",
      "        [   1,  160,  166],\n",
      "        [   2, 1112, 3174],\n",
      "        [   3,  566, 3161],\n",
      "        [   4,  749,  498],\n",
      "        [   5,   93, 2970],\n",
      "        [   6, 1123,  181],\n",
      "        [   7,   24, 2587],\n",
      "        [   8, 2006,   34],\n",
      "        [   9, 1752,  250]], device='cuda:0')\n",
      "tensor([   1,  160,  166,  160,   34,  152, 2679, 5910,   26,  114],\n",
      "       device='cuda:0')\n"
     ]
    }
   ],
   "source": [
    "data, targets = get_batch(train_data, 0)\n",
    "print(data.shape)\n",
    "print(targets.shape)\n",
    "print(data[:10,:3])\n",
    "print(targets[:10])"
   ]
  },
  {
   "cell_type": "markdown",
   "metadata": {},
   "source": [
    "With this data loading strategy implemented, the core of the training loop will be:\n",
    "```\n",
    "for batch, i in enumerate(range(0, train_data.size(0) - 1, l_seq)):\n",
    "    data, targets = get_batch(train_data, i)\n",
    "    ...\n",
    "```\n",
    "i.e., in each iteration, we will load $b$ sequences of length $l_{\\mathrm{seq}}$, which are mutually non-overlapping. This strategy is thus equivalent to a naive implementation of the ideas given in the instructions."
   ]
  },
  {
   "cell_type": "markdown",
   "metadata": {},
   "source": [
    "## Training the Elman RNN\n",
    "\n",
    "We are now ready to train the network. We use the pytorch function `CrossEntropyLoss()` as a loss function and the standard stochastic gradient descent optimizer `SGD()`."
   ]
  },
  {
   "cell_type": "code",
   "execution_count": 16,
   "metadata": {},
   "outputs": [],
   "source": [
    "import torch.optim as optim\n",
    "lr = 1\n",
    "loss_fn = torch.nn.CrossEntropyLoss()\n",
    "optimizer = optim.SGD(model.parameters(), lr = lr, weight_decay = 0, momentum = 0.0)"
   ]
  },
  {
   "cell_type": "markdown",
   "metadata": {},
   "source": [
    "Next we write out the training loop, which performs one epoch of training. Based on our observations before, it is pretty straightforward to write up."
   ]
  },
  {
   "cell_type": "code",
   "execution_count": 17,
   "metadata": {},
   "outputs": [],
   "source": [
    "import time\n",
    "import math\n",
    "def train():\n",
    "    model.train()\n",
    "    \n",
    "    for batch, i in enumerate(range(0, train_data.size(0) - 1, l_seq)):\n",
    "        data, targets = get_batch(train_data, i)\n",
    "        \n",
    "        optimizer.zero_grad()\n",
    "        \n",
    "        output, hidden = model(data)\n",
    "        loss = loss_fn(output, targets)\n",
    "        loss.backward()\n",
    "        \n",
    "        optimizer.step()\n",
    "    \n",
    "    model.epoch += 1"
   ]
  },
  {
   "cell_type": "markdown",
   "metadata": {},
   "source": [
    "We also need a function to evaluate the performance of our model. To that end, we reuse the function `evaluate()` from the pytorch language model example in the code below:"
   ]
  },
  {
   "cell_type": "code",
   "execution_count": 18,
   "metadata": {},
   "outputs": [],
   "source": [
    "def evaluate(data_source):\n",
    "    model.eval()\n",
    "    total_loss = 0.\n",
    "    ntokens = len(corpus.dictionary)\n",
    "    \n",
    "    hidden = model.init_hidden(batch_size)\n",
    "    \n",
    "    with torch.no_grad():\n",
    "        for i in range(0, data_source.size(0) - 1, l_seq):\n",
    "            data, targets = get_batch(data_source, i)\n",
    "            output, hidden = model(data)\n",
    "            total_loss += len(data) * loss_fn(output, targets).item()\n",
    "    return total_loss / (len(data_source) - 1)"
   ]
  },
  {
   "cell_type": "markdown",
   "metadata": {},
   "source": [
    "Furthermore we also create a convenience function `train_nepochs()`, which performs the training of the RNN for a certain number of epochs."
   ]
  },
  {
   "cell_type": "code",
   "execution_count": 19,
   "metadata": {},
   "outputs": [],
   "source": [
    "def train_nepochs(nepochs, fname, fname_best):\n",
    "\n",
    "    # Loop over epochs\n",
    "    for epoch in range(1, nepochs+1):\n",
    "        \n",
    "        epoch_start_time = time.time()\n",
    "        train()\n",
    "        \n",
    "        model.train_loss.append(evaluate(train_data))\n",
    "        model.val_loss.append(evaluate(val_data))\n",
    "        \n",
    "        time_epoch = time.time() - epoch_start_time\n",
    "        model.time += time_epoch\n",
    "        \n",
    "        print('|          {:3d} |   {:9.1f}s |   {:5.2f} |   {:5.2f} |    {:8.2f} |    {:8.2f} |'\\\n",
    "              .format(model.epoch, time_epoch, model.train_loss[-1], model.val_loss[-1], \n",
    "                  math.exp(model.train_loss[-1]), math.exp(model.val_loss[-1])))\n",
    "        print('-' * 78)\n",
    "        \n",
    "        # Save the model if the validation loss is the best we've seen so far.\n",
    "        if len(model.val_loss) == 1 or model.val_loss[-1] < min(model.val_loss[:-1]):\n",
    "            with open(fname_best, 'wb') as f:\n",
    "                torch.save(model, f)\n",
    "        \n",
    "        with open(fname, 'wb') as f:\n",
    "            torch.save(model, f)"
   ]
  },
  {
   "cell_type": "markdown",
   "metadata": {},
   "source": [
    "Finally we can execute the whole training scheme and loop over epochs."
   ]
  },
  {
   "cell_type": "code",
   "execution_count": 20,
   "metadata": {},
   "outputs": [
    {
     "name": "stdout",
     "output_type": "stream",
     "text": [
      "------------------------------------------------------------------------------\n",
      "|              |             |       loss        |        perplexity         |\n",
      "| end of epoch |     time    |-------------------|---------------------------|\n",
      "|              |             |  train  |  valid  |    train    |    valid    |\n",
      "------------------------------------------------------------------------------\n",
      "------------------------------------------------------------------------------\n",
      "|          100 |      2666.0s |    4.77 |    5.25 |      117.87 |      190.88 |\n",
      "------------------------------------------------------------------------------\n"
     ]
    }
   ],
   "source": [
    "from fcns import print_log_head, load_model\n",
    "from os.path import exists\n",
    "\n",
    "fname = 'exercise2.torch'\n",
    "fname_best = 'exercise2_best.torch'\n",
    "\n",
    "if not exists(fname):\n",
    "    nepochs = 100\n",
    "    print_log_head()\n",
    "    train_nepochs(nepochs, fname, fname_best)\n",
    "else:\n",
    "    model = load_model(fname)"
   ]
  },
  {
   "cell_type": "markdown",
   "metadata": {},
   "source": [
    "We plot now the loss of the model on the training data and the validation data in the figure below. Note how the training loss improves much more during training than the validation loss, indicating a certain amount of overfitting to the training data. Despite of this the validation loss still continued to improve as a function of elapsed epoch until about epoch 33 for which we observed the smallest loss on the validation data. Furthermore we observe two large spikes in the training and validation loss, which are signatures of the *exploding gradient problem* in training RNNs."
   ]
  },
  {
   "cell_type": "code",
   "execution_count": 21,
   "metadata": {},
   "outputs": [
    {
     "data": {
      "text/plain": [
       "<matplotlib.legend.Legend at 0x7fd470e666d0>"
      ]
     },
     "execution_count": 21,
     "metadata": {},
     "output_type": "execute_result"
    },
    {
     "data": {
      "image/png": "[encoded data removed]",
      "text/plain": [
       "<Figure size 640x480 with 1 Axes>"
      ]
     },
     "metadata": {},
     "output_type": "display_data"
    }
   ],
   "source": [
    "import matplotlib.pyplot as plt\n",
    "import numpy as np\n",
    "fig, ax = plt.subplots()\n",
    "\n",
    "ax.plot(np.arange(1, len(model.train_loss)+1), model.train_loss, label='train loss')\n",
    "ax.plot(np.arange(1, len(model.val_loss)+1), model.val_loss, label='validation loss')\n",
    "ax.legend()"
   ]
  },
  {
   "cell_type": "markdown",
   "metadata": {},
   "source": [
    "## Evaluating the best obtained model\n",
    "\n",
    "We will now evaluate the best model we have obtained. This is easily achieved by just loading the saved model from disk and running it on the test data."
   ]
  },
  {
   "cell_type": "code",
   "execution_count": 22,
   "metadata": {},
   "outputs": [
    {
     "name": "stdout",
     "output_type": "stream",
     "text": [
      "Best model obtained in epoch                   76\n",
      "The perpelexity in the validation set is   191.84\n",
      "The perpelexity in the test set is         179.94\n"
     ]
    }
   ],
   "source": [
    "model = torch.load(fname_best)\n",
    "print('Best model obtained in epoch                  ', model.epoch)\n",
    "test_loss = evaluate(val_data)\n",
    "print('The perpelexity in the validation set is {:8.2f}'.format(math.exp(test_loss)))\n",
    "test_loss = evaluate(test_data)\n",
    "print('The perpelexity in the test set is       {:8.2f}'.format(math.exp(test_loss)))"
   ]
  },
  {
   "cell_type": "markdown",
   "metadata": {},
   "source": [
    "The best model was obtained after 76 epochs, indicating a rather slow and ineffiecient learning. We see that this preplexity is much larger than the perplexity obtained by state-of-the-art language models (c.f. https://paperswithcode.com/sota/language-modelling-on-penn-treebank-word), but that is not so surprising as we use a very simple model here with no optimizations. It is interesting to note that the performance on the test data was better than on the validation data, which could be an indication that the test data is more similar to the training data set than the validation data is. We will see in exercise 3 how we can improve the model performance."
   ]
  },
  {
   "cell_type": "markdown",
   "metadata": {},
   "source": [
    "## Generating sample phrases\n",
    "\n",
    "We now use our Elman RNN to generate some sample phrases. We implement here two of the methods described in the instructions, namely the *greedy* and *sampling* methods. Using the *greedy* method, the output is taken to be the output with the largest likelihood over all classes. In the *sampling* method on the other hand, the output is determined with a certain probability, taken to be the probability for the word predicted by the RNN. The code for these samling methods is printed below:"
   ]
  },
  {
   "cell_type": "code",
   "execution_count": 23,
   "metadata": {},
   "outputs": [],
   "source": [
    "import numpy as np\n",
    "import torch.nn.functional as F\n",
    "def generate_sample_phrase(seed_phrase, ngen, method='sample'):\n",
    "    model.eval()\n",
    "    hidden = model.init_hidden(1)\n",
    "    \n",
    "    for word in seed_phrase.split():\n",
    "        inp = torch.tensor(corpus.dictionary.word2idx[word]).to(device).view(-1,1)\n",
    "        output, hidden = model(inp, hidden)\n",
    "    \n",
    "    out_phrase = seed_phrase\n",
    "    for i in range(ngen):\n",
    "        P = F.softmax(output, dim=1).cpu().detach().numpy().reshape(-1)\n",
    "                \n",
    "        if method == 'sample':\n",
    "            new_idx = np.random.choice(np.arange(1, 10001), 1, p=P)[0]\n",
    "        elif method == 'greedy':\n",
    "            new_idx = np.argmax(P)\n",
    "        else:\n",
    "            raise NotImplementedError('')\n",
    "        \n",
    "        new_word = corpus.dictionary.idx2word[new_idx]\n",
    "        \n",
    "        out_phrase += f' {new_word}'\n",
    "        \n",
    "        inp = torch.tensor(new_idx).to(device).view(-1,1)\n",
    "        output, hidden = model(inp, hidden)\n",
    "    \n",
    "    return out_phrase"
   ]
  },
  {
   "cell_type": "markdown",
   "metadata": {},
   "source": [
    "We generate now two phrases using the *sampling* method. We see that the two phrases differ as we expect from a probabilistic method. Thehis indicates that we need to refine and improve our model more."
   ]
  },
  {
   "cell_type": "code",
   "execution_count": 24,
   "metadata": {},
   "outputs": [
    {
     "name": "stdout",
     "output_type": "stream",
     "text": [
      "i have to added maturities make describes pierre researchers its booked smokers norman\n",
      "i have to besides link make order expected make few restructured board historically\n",
      "the house is negotiate show its estate traveling permit decision smokers pierre inc.\n",
      "the house is sorrell classified heavy smokers skiing stop relying view egyptian N\n"
     ]
    }
   ],
   "source": [
    "print(generate_sample_phrase('i have to', 10, method='sample'))\n",
    "print(generate_sample_phrase('i have to', 10, method='sample'))\n",
    "\n",
    "print(generate_sample_phrase('the house is', 10, method='sample'))\n",
    "print(generate_sample_phrase('the house is', 10, method='sample'))"
   ]
  },
  {
   "cell_type": "markdown",
   "metadata": {},
   "source": [
    "Next we also use the *greedy* method to generate example phrases. Two phrases for the same input sequence do not differ, since the network predicts the same maximum probabilities in the two runs as one would expect. Furthermore one can see that there seems to be a tendency for the *greedy* method to get stuck in a loop of repeating the same words, which are ubiquitous in the data set and in the english language. Furthermore the sequences `<unk>` and `<eos>` probably appear semi-randomly in the data and have rather high probabilities to appear anywhere."
   ]
  },
  {
   "cell_type": "code",
   "execution_count": 25,
   "metadata": {},
   "outputs": [
    {
     "name": "stdout",
     "output_type": "stream",
     "text": [
      "i have to be <unk> <eos> the <unk> of the <unk> of the\n",
      "i have to be <unk> <eos> the <unk> of the <unk> of the\n",
      "the house is a <unk> <unk> <eos> the <unk> of the <unk> of\n",
      "the house is a <unk> <unk> <eos> the <unk> of the <unk> of\n"
     ]
    }
   ],
   "source": [
    "print(generate_sample_phrase('i have to', 10, method='greedy'))\n",
    "print(generate_sample_phrase('i have to', 10, method='greedy'))\n",
    "\n",
    "print(generate_sample_phrase('the house is', 10, method='greedy'))\n",
    "print(generate_sample_phrase('the house is', 10, method='greedy'))"
   ]
  },
  {
   "cell_type": "markdown",
   "metadata": {},
   "source": [
    "# Exercise 3 -- Improving the recurrent model\n",
    "\n",
    "In this exercise we will try different ways to improve the performance of the RNN model on the PTB data set."
   ]
  },
  {
   "cell_type": "markdown",
   "metadata": {},
   "source": [
    "## Gradient clipping\n",
    "\n",
    "As a first step, we consider the effect of gradient clipping. Gradient clipping reduces the maximum magnitude of the gradient during parameter update to a selectable value $M$. In other words during gradient descent, new parameters $\\theta_k$ are determined by applying\n",
    "$$\n",
    "\\theta_k = \\theta_{k-1} - \\gamma \\nabla J(\\theta_{k-1})\n",
    "$$\n",
    "where $\\nabla J(\\theta_{k-1})$ is the gradient and $\\gamma$ the learning rate. Gradient clipping then corresponds to introduction of a function\n",
    "$$\n",
    "clip_M(\\theta) = \n",
    "\\begin{cases}\n",
    "\\theta & \\mathrm{if} ||\\theta|| \\leq M \\\\\n",
    "M \\frac{\\theta}{||\\theta||} \\qquad & \\mathrm{if} ||\\theta|| \\leq M\n",
    "\\end{cases}\n",
    "$$\n",
    "which is applied during parameter update as follows:\n",
    "$$\n",
    "\\theta_k = \\theta_{k-1} - \\gamma clip_M(\\theta)(\\nabla J(\\theta_{k-1})).\n",
    "$$\n",
    "We set our model and training loops up as in exercise 2, but use the gradient clipping routine `clip_grad_norm_()` provided by pytorch in the `train()` function and also increase the learning rate as that should be safely possible with gradient clipping. "
   ]
  },
  {
   "cell_type": "code",
   "execution_count": 26,
   "metadata": {},
   "outputs": [],
   "source": [
    "import time\n",
    "import math\n",
    "\n",
    "def train():\n",
    "    model.train()\n",
    "    \n",
    "    for batch, i in enumerate(range(0, train_data.size(0) - 1, l_seq)):\n",
    "        data, targets = get_batch(train_data, i, l_seq)\n",
    "        \n",
    "        optimizer.zero_grad()\n",
    "        \n",
    "        output, hidden = model(data)\n",
    "        loss = loss_fn(output, targets)\n",
    "        loss.backward()\n",
    "        \n",
    "        torch.nn.utils.clip_grad_norm_(model.parameters(), clip)\n",
    "        optimizer.step()\n",
    "    \n",
    "    model.epoch += 1"
   ]
  },
  {
   "cell_type": "markdown",
   "metadata": {},
   "source": [
    "With everything in place, we can proceed with the training of our model:"
   ]
  },
  {
   "cell_type": "code",
   "execution_count": 27,
   "metadata": {},
   "outputs": [
    {
     "name": "stdout",
     "output_type": "stream",
     "text": [
      "------------------------------------------------------------------------------\n",
      "|              |             |       loss        |        perplexity         |\n",
      "| end of epoch |     time    |-------------------|---------------------------|\n",
      "|              |             |  train  |  valid  |    train    |    valid    |\n",
      "------------------------------------------------------------------------------\n",
      "------------------------------------------------------------------------------\n",
      "|           50 |      1326.4s |    4.57 |    5.34 |       96.87 |      209.00 |\n",
      "------------------------------------------------------------------------------\n"
     ]
    }
   ],
   "source": [
    "nepochs = 50\n",
    "clip = .25\n",
    "fname = 'exercise3_gc.torch'\n",
    "fname_best = 'exercise3_gc_best.torch'\n",
    "\n",
    "from fcns import print_log_head, load_model\n",
    "from os.path import exists\n",
    "\n",
    "if not exists(fname):\n",
    "    model = MyNetwork().to(device)\n",
    "    loss_fn = torch.nn.CrossEntropyLoss()\n",
    "    optimizer = optim.SGD(model.parameters(), lr = lr, weight_decay = 0, momentum = 0.0)\n",
    "    print_log_head()\n",
    "    train_nepochs(nepochs, fname, fname_best)\n",
    "else:\n",
    "    model = load_model(fname)"
   ]
  },
  {
   "cell_type": "markdown",
   "metadata": {},
   "source": [
    "We plot now the training and validation loss of the model in the figure below. Compared to the loss obtained in exercise 2, we find that the loss is a lot smoother as a function of epoch due to the effect of the gradient clipping. This indicates also, that the spikeyness observed in connection with exercise 2 is related to the *exploding gradient* problem in RNNs. Furthermore we observe a tendency to overfit to the training data from about epoch 5 onwards. Despite this the validation loss continues to improve until about epoch 30."
   ]
  },
  {
   "cell_type": "code",
   "execution_count": 28,
   "metadata": {},
   "outputs": [
    {
     "data": {
      "text/plain": [
       "<matplotlib.legend.Legend at 0x7fd470fd0550>"
      ]
     },
     "execution_count": 28,
     "metadata": {},
     "output_type": "execute_result"
    },
    {
     "data": {
      "image/png": "[encoded data removed]",
      "text/plain": [
       "<Figure size 640x480 with 1 Axes>"
      ]
     },
     "metadata": {},
     "output_type": "display_data"
    }
   ],
   "source": [
    "import matplotlib.pyplot as plt\n",
    "import numpy as np\n",
    "fig, ax = plt.subplots()\n",
    "\n",
    "ax.plot(np.arange(1, len(model.train_loss)+1), model.train_loss, label='train loss')\n",
    "ax.plot(np.arange(1, len(model.val_loss)+1), model.val_loss, label='validation loss')\n",
    "ax.legend()"
   ]
  },
  {
   "cell_type": "markdown",
   "metadata": {},
   "source": [
    "As a last performance metric for the evaluation of gradient clipping, we compute the perplexity of the best obtained model on the test data."
   ]
  },
  {
   "cell_type": "code",
   "execution_count": 29,
   "metadata": {},
   "outputs": [
    {
     "name": "stdout",
     "output_type": "stream",
     "text": [
      "Best model obtained in epoch                   24\n",
      "The perpelexity in the validation set is   204.37\n",
      "The perpelexity in the test set is         192.71\n"
     ]
    }
   ],
   "source": [
    "model = torch.load(fname_best)\n",
    "test_loss = evaluate(val_data)\n",
    "print('Best model obtained in epoch                  ', model.epoch)\n",
    "print('The perpelexity in the validation set is {:8.2f}'.format(math.exp(test_loss)))\n",
    "test_loss = evaluate(test_data)\n",
    "print('The perpelexity in the test set is       {:8.2f}'.format(math.exp(test_loss)))"
   ]
  },
  {
   "cell_type": "markdown",
   "metadata": {},
   "source": [
    "The best loss was obtained after 24 epochs of training, showing that the higher learning rate enabled by gradient clipping allowed us to train our model faster and more efficiently. In comparison with the performance observed in exercise 2, we get here slightly worse performance, which is likely connected to the 5 times larger learning rate and a smaller learning rate would probably allow for better performance of the model. We will explore the effect of a learning rate scheduler further below."
   ]
  },
  {
   "cell_type": "markdown",
   "metadata": {},
   "source": [
    "## Improving the flow of information\n",
    "\n",
    "In order to improve the flow of information, we pass the hidden state on to the next training iteration. This is simply achieved by adding the hidden state to the inputs of the `model()` call. However we also need to prevent the model from backpropagating through the training iterations. We achieve this by wrapping the hidden state tensor into a new tensor, which is detached from its \"history\" in each iteration of the training loop. The following code snippets show the approach.\n",
    "\n",
    "We first define a function to detach the hidden state from backpropagation."
   ]
  },
  {
   "cell_type": "code",
   "execution_count": 30,
   "metadata": {},
   "outputs": [
    {
     "data": {
      "text/html": [
       "<style>pre { line-height: 125%; }\n",
       "td.linenos .normal { color: inherit; background-color: transparent; padding-left: 5px; padding-right: 5px; }\n",
       "span.linenos { color: inherit; background-color: transparent; padding-left: 5px; padding-right: 5px; }\n",
       "td.linenos .special { color: #000000; background-color: #ffffc0; padding-left: 5px; padding-right: 5px; }\n",
       "span.linenos.special { color: #000000; background-color: #ffffc0; padding-left: 5px; padding-right: 5px; }\n",
       ".output_html .hll { background-color: #ffffcc }\n",
       ".output_html { background: #f8f8f8; }\n",
       ".output_html .c { color: #3D7B7B; font-style: italic } /* Comment */\n",
       ".output_html .err { border: 1px solid #FF0000 } /* Error */\n",
       ".output_html .k { color: #008000; font-weight: bold } /* Keyword */\n",
       ".output_html .o { color: #666666 } /* Operator */\n",
       ".output_html .ch { color: #3D7B7B; font-style: italic } /* Comment.Hashbang */\n",
       ".output_html .cm { color: #3D7B7B; font-style: italic } /* Comment.Multiline */\n",
       ".output_html .cp { color: #9C6500 } /* Comment.Preproc */\n",
       ".output_html .cpf { color: #3D7B7B; font-style: italic } /* Comment.PreprocFile */\n",
       ".output_html .c1 { color: #3D7B7B; font-style: italic } /* Comment.Single */\n",
       ".output_html .cs { color: #3D7B7B; font-style: italic } /* Comment.Special */\n",
       ".output_html .gd { color: #A00000 } /* Generic.Deleted */\n",
       ".output_html .ge { font-style: italic } /* Generic.Emph */\n",
       ".output_html .gr { color: #E40000 } /* Generic.Error */\n",
       ".output_html .gh { color: #000080; font-weight: bold } /* Generic.Heading */\n",
       ".output_html .gi { color: #008400 } /* Generic.Inserted */\n",
       ".output_html .go { color: #717171 } /* Generic.Output */\n",
       ".output_html .gp { color: #000080; font-weight: bold } /* Generic.Prompt */\n",
       ".output_html .gs { font-weight: bold } /* Generic.Strong */\n",
       ".output_html .gu { color: #800080; font-weight: bold } /* Generic.Subheading */\n",
       ".output_html .gt { color: #0044DD } /* Generic.Traceback */\n",
       ".output_html .kc { color: #008000; font-weight: bold } /* Keyword.Constant */\n",
       ".output_html .kd { color: #008000; font-weight: bold } /* Keyword.Declaration */\n",
       ".output_html .kn { color: #008000; font-weight: bold } /* Keyword.Namespace */\n",
       ".output_html .kp { color: #008000 } /* Keyword.Pseudo */\n",
       ".output_html .kr { color: #008000; font-weight: bold } /* Keyword.Reserved */\n",
       ".output_html .kt { color: #B00040 } /* Keyword.Type */\n",
       ".output_html .m { color: #666666 } /* Literal.Number */\n",
       ".output_html .s { color: #BA2121 } /* Literal.String */\n",
       ".output_html .na { color: #687822 } /* Name.Attribute */\n",
       ".output_html .nb { color: #008000 } /* Name.Builtin */\n",
       ".output_html .nc { color: #0000FF; font-weight: bold } /* Name.Class */\n",
       ".output_html .no { color: #880000 } /* Name.Constant */\n",
       ".output_html .nd { color: #AA22FF } /* Name.Decorator */\n",
       ".output_html .ni { color: #717171; font-weight: bold } /* Name.Entity */\n",
       ".output_html .ne { color: #CB3F38; font-weight: bold } /* Name.Exception */\n",
       ".output_html .nf { color: #0000FF } /* Name.Function */\n",
       ".output_html .nl { color: #767600 } /* Name.Label */\n",
       ".output_html .nn { color: #0000FF; font-weight: bold } /* Name.Namespace */\n",
       ".output_html .nt { color: #008000; font-weight: bold } /* Name.Tag */\n",
       ".output_html .nv { color: #19177C } /* Name.Variable */\n",
       ".output_html .ow { color: #AA22FF; font-weight: bold } /* Operator.Word */\n",
       ".output_html .w { color: #bbbbbb } /* Text.Whitespace */\n",
       ".output_html .mb { color: #666666 } /* Literal.Number.Bin */\n",
       ".output_html .mf { color: #666666 } /* Literal.Number.Float */\n",
       ".output_html .mh { color: #666666 } /* Literal.Number.Hex */\n",
       ".output_html .mi { color: #666666 } /* Literal.Number.Integer */\n",
       ".output_html .mo { color: #666666 } /* Literal.Number.Oct */\n",
       ".output_html .sa { color: #BA2121 } /* Literal.String.Affix */\n",
       ".output_html .sb { color: #BA2121 } /* Literal.String.Backtick */\n",
       ".output_html .sc { color: #BA2121 } /* Literal.String.Char */\n",
       ".output_html .dl { color: #BA2121 } /* Literal.String.Delimiter */\n",
       ".output_html .sd { color: #BA2121; font-style: italic } /* Literal.String.Doc */\n",
       ".output_html .s2 { color: #BA2121 } /* Literal.String.Double */\n",
       ".output_html .se { color: #AA5D1F; font-weight: bold } /* Literal.String.Escape */\n",
       ".output_html .sh { color: #BA2121 } /* Literal.String.Heredoc */\n",
       ".output_html .si { color: #A45A77; font-weight: bold } /* Literal.String.Interpol */\n",
       ".output_html .sx { color: #008000 } /* Literal.String.Other */\n",
       ".output_html .sr { color: #A45A77 } /* Literal.String.Regex */\n",
       ".output_html .s1 { color: #BA2121 } /* Literal.String.Single */\n",
       ".output_html .ss { color: #19177C } /* Literal.String.Symbol */\n",
       ".output_html .bp { color: #008000 } /* Name.Builtin.Pseudo */\n",
       ".output_html .fm { color: #0000FF } /* Name.Function.Magic */\n",
       ".output_html .vc { color: #19177C } /* Name.Variable.Class */\n",
       ".output_html .vg { color: #19177C } /* Name.Variable.Global */\n",
       ".output_html .vi { color: #19177C } /* Name.Variable.Instance */\n",
       ".output_html .vm { color: #19177C } /* Name.Variable.Magic */\n",
       ".output_html .il { color: #666666 } /* Literal.Number.Integer.Long */</style><div class=\"highlight\"><pre><span></span><span class=\"k\">def</span> <span class=\"nf\">repackage_hidden</span><span class=\"p\">(</span><span class=\"n\">h</span><span class=\"p\">):</span>\n",
       "<span class=\"w\">    </span><span class=\"sd\">&quot;&quot;&quot; Credit for this function:</span>\n",
       "<span class=\"sd\">        https://github.com/pytorch/examples/blob/main/word_language_model/main.py</span>\n",
       "<span class=\"sd\">    &quot;&quot;&quot;</span>\n",
       "    <span class=\"k\">if</span> <span class=\"nb\">isinstance</span><span class=\"p\">(</span><span class=\"n\">h</span><span class=\"p\">,</span> <span class=\"n\">torch</span><span class=\"o\">.</span><span class=\"n\">Tensor</span><span class=\"p\">):</span>\n",
       "        <span class=\"k\">return</span> <span class=\"n\">h</span><span class=\"o\">.</span><span class=\"n\">detach</span><span class=\"p\">()</span>\n",
       "    <span class=\"k\">else</span><span class=\"p\">:</span>\n",
       "        <span class=\"k\">return</span> <span class=\"nb\">tuple</span><span class=\"p\">(</span><span class=\"n\">repackage_hidden</span><span class=\"p\">(</span><span class=\"n\">v</span><span class=\"p\">)</span> <span class=\"k\">for</span> <span class=\"n\">v</span> <span class=\"ow\">in</span> <span class=\"n\">h</span><span class=\"p\">)</span>\n",
       "</pre></div>\n"
      ],
      "text/latex": [
       "\\begin{Verbatim}[commandchars=\\\\\\{\\}]\n",
       "\\PY{k}{def} \\PY{n+nf}{repackage\\PYZus{}hidden}\\PY{p}{(}\\PY{n}{h}\\PY{p}{)}\\PY{p}{:}\n",
       "\\PY{+w}{    }\\PY{l+s+sd}{\\PYZdq{}\\PYZdq{}\\PYZdq{} Credit for this function:}\n",
       "\\PY{l+s+sd}{        https://github.com/pytorch/examples/blob/main/word\\PYZus{}language\\PYZus{}model/main.py}\n",
       "\\PY{l+s+sd}{    \\PYZdq{}\\PYZdq{}\\PYZdq{}}\n",
       "    \\PY{k}{if} \\PY{n+nb}{isinstance}\\PY{p}{(}\\PY{n}{h}\\PY{p}{,} \\PY{n}{torch}\\PY{o}{.}\\PY{n}{Tensor}\\PY{p}{)}\\PY{p}{:}\n",
       "        \\PY{k}{return} \\PY{n}{h}\\PY{o}{.}\\PY{n}{detach}\\PY{p}{(}\\PY{p}{)}\n",
       "    \\PY{k}{else}\\PY{p}{:}\n",
       "        \\PY{k}{return} \\PY{n+nb}{tuple}\\PY{p}{(}\\PY{n}{repackage\\PYZus{}hidden}\\PY{p}{(}\\PY{n}{v}\\PY{p}{)} \\PY{k}{for} \\PY{n}{v} \\PY{o+ow}{in} \\PY{n}{h}\\PY{p}{)}\n",
       "\\end{Verbatim}\n"
      ],
      "text/plain": [
       "def repackage_hidden(h):\n",
       "    \"\"\" Credit for this function:\n",
       "        https://github.com/pytorch/examples/blob/main/word_language_model/main.py\n",
       "    \"\"\"\n",
       "    if isinstance(h, torch.Tensor):\n",
       "        return h.detach()\n",
       "    else:\n",
       "        return tuple(repackage_hidden(v) for v in h)"
      ]
     },
     "execution_count": 30,
     "metadata": {},
     "output_type": "execute_result"
    }
   ],
   "source": [
    "from fcns import repackage_hidden\n",
    "from IPython.display import Code\n",
    "Code(data=''.join([line for line in open('fcns.py')][34:42]), language='python')"
   ]
  },
  {
   "cell_type": "markdown",
   "metadata": {},
   "source": [
    "Next we update the `forward()` function of our model to include the hidden state passing."
   ]
  },
  {
   "cell_type": "code",
   "execution_count": 31,
   "metadata": {},
   "outputs": [
    {
     "data": {
      "text/html": [
       "<style>pre { line-height: 125%; }\n",
       "td.linenos .normal { color: inherit; background-color: transparent; padding-left: 5px; padding-right: 5px; }\n",
       "span.linenos { color: inherit; background-color: transparent; padding-left: 5px; padding-right: 5px; }\n",
       "td.linenos .special { color: #000000; background-color: #ffffc0; padding-left: 5px; padding-right: 5px; }\n",
       "span.linenos.special { color: #000000; background-color: #ffffc0; padding-left: 5px; padding-right: 5px; }\n",
       ".output_html .hll { background-color: #ffffcc }\n",
       ".output_html { background: #f8f8f8; }\n",
       ".output_html .c { color: #3D7B7B; font-style: italic } /* Comment */\n",
       ".output_html .err { border: 1px solid #FF0000 } /* Error */\n",
       ".output_html .k { color: #008000; font-weight: bold } /* Keyword */\n",
       ".output_html .o { color: #666666 } /* Operator */\n",
       ".output_html .ch { color: #3D7B7B; font-style: italic } /* Comment.Hashbang */\n",
       ".output_html .cm { color: #3D7B7B; font-style: italic } /* Comment.Multiline */\n",
       ".output_html .cp { color: #9C6500 } /* Comment.Preproc */\n",
       ".output_html .cpf { color: #3D7B7B; font-style: italic } /* Comment.PreprocFile */\n",
       ".output_html .c1 { color: #3D7B7B; font-style: italic } /* Comment.Single */\n",
       ".output_html .cs { color: #3D7B7B; font-style: italic } /* Comment.Special */\n",
       ".output_html .gd { color: #A00000 } /* Generic.Deleted */\n",
       ".output_html .ge { font-style: italic } /* Generic.Emph */\n",
       ".output_html .gr { color: #E40000 } /* Generic.Error */\n",
       ".output_html .gh { color: #000080; font-weight: bold } /* Generic.Heading */\n",
       ".output_html .gi { color: #008400 } /* Generic.Inserted */\n",
       ".output_html .go { color: #717171 } /* Generic.Output */\n",
       ".output_html .gp { color: #000080; font-weight: bold } /* Generic.Prompt */\n",
       ".output_html .gs { font-weight: bold } /* Generic.Strong */\n",
       ".output_html .gu { color: #800080; font-weight: bold } /* Generic.Subheading */\n",
       ".output_html .gt { color: #0044DD } /* Generic.Traceback */\n",
       ".output_html .kc { color: #008000; font-weight: bold } /* Keyword.Constant */\n",
       ".output_html .kd { color: #008000; font-weight: bold } /* Keyword.Declaration */\n",
       ".output_html .kn { color: #008000; font-weight: bold } /* Keyword.Namespace */\n",
       ".output_html .kp { color: #008000 } /* Keyword.Pseudo */\n",
       ".output_html .kr { color: #008000; font-weight: bold } /* Keyword.Reserved */\n",
       ".output_html .kt { color: #B00040 } /* Keyword.Type */\n",
       ".output_html .m { color: #666666 } /* Literal.Number */\n",
       ".output_html .s { color: #BA2121 } /* Literal.String */\n",
       ".output_html .na { color: #687822 } /* Name.Attribute */\n",
       ".output_html .nb { color: #008000 } /* Name.Builtin */\n",
       ".output_html .nc { color: #0000FF; font-weight: bold } /* Name.Class */\n",
       ".output_html .no { color: #880000 } /* Name.Constant */\n",
       ".output_html .nd { color: #AA22FF } /* Name.Decorator */\n",
       ".output_html .ni { color: #717171; font-weight: bold } /* Name.Entity */\n",
       ".output_html .ne { color: #CB3F38; font-weight: bold } /* Name.Exception */\n",
       ".output_html .nf { color: #0000FF } /* Name.Function */\n",
       ".output_html .nl { color: #767600 } /* Name.Label */\n",
       ".output_html .nn { color: #0000FF; font-weight: bold } /* Name.Namespace */\n",
       ".output_html .nt { color: #008000; font-weight: bold } /* Name.Tag */\n",
       ".output_html .nv { color: #19177C } /* Name.Variable */\n",
       ".output_html .ow { color: #AA22FF; font-weight: bold } /* Operator.Word */\n",
       ".output_html .w { color: #bbbbbb } /* Text.Whitespace */\n",
       ".output_html .mb { color: #666666 } /* Literal.Number.Bin */\n",
       ".output_html .mf { color: #666666 } /* Literal.Number.Float */\n",
       ".output_html .mh { color: #666666 } /* Literal.Number.Hex */\n",
       ".output_html .mi { color: #666666 } /* Literal.Number.Integer */\n",
       ".output_html .mo { color: #666666 } /* Literal.Number.Oct */\n",
       ".output_html .sa { color: #BA2121 } /* Literal.String.Affix */\n",
       ".output_html .sb { color: #BA2121 } /* Literal.String.Backtick */\n",
       ".output_html .sc { color: #BA2121 } /* Literal.String.Char */\n",
       ".output_html .dl { color: #BA2121 } /* Literal.String.Delimiter */\n",
       ".output_html .sd { color: #BA2121; font-style: italic } /* Literal.String.Doc */\n",
       ".output_html .s2 { color: #BA2121 } /* Literal.String.Double */\n",
       ".output_html .se { color: #AA5D1F; font-weight: bold } /* Literal.String.Escape */\n",
       ".output_html .sh { color: #BA2121 } /* Literal.String.Heredoc */\n",
       ".output_html .si { color: #A45A77; font-weight: bold } /* Literal.String.Interpol */\n",
       ".output_html .sx { color: #008000 } /* Literal.String.Other */\n",
       ".output_html .sr { color: #A45A77 } /* Literal.String.Regex */\n",
       ".output_html .s1 { color: #BA2121 } /* Literal.String.Single */\n",
       ".output_html .ss { color: #19177C } /* Literal.String.Symbol */\n",
       ".output_html .bp { color: #008000 } /* Name.Builtin.Pseudo */\n",
       ".output_html .fm { color: #0000FF } /* Name.Function.Magic */\n",
       ".output_html .vc { color: #19177C } /* Name.Variable.Class */\n",
       ".output_html .vg { color: #19177C } /* Name.Variable.Global */\n",
       ".output_html .vi { color: #19177C } /* Name.Variable.Instance */\n",
       ".output_html .vm { color: #19177C } /* Name.Variable.Magic */\n",
       ".output_html .il { color: #666666 } /* Literal.Number.Integer.Long */</style><div class=\"highlight\"><pre><span></span>    <span class=\"k\">def</span> <span class=\"nf\">forward</span><span class=\"p\">(</span><span class=\"bp\">self</span><span class=\"p\">,</span> <span class=\"nb\">input</span><span class=\"p\">,</span> <span class=\"n\">hidden</span><span class=\"o\">=</span><span class=\"kc\">None</span><span class=\"p\">):</span>\n",
       "        <span class=\"c1\"># Apply word embedding to input</span>\n",
       "        <span class=\"n\">embedded</span> <span class=\"o\">=</span> <span class=\"bp\">self</span><span class=\"o\">.</span><span class=\"n\">embedding</span><span class=\"p\">(</span><span class=\"nb\">input</span><span class=\"p\">)</span>\n",
       "\n",
       "        <span class=\"c1\"># Forward pass through the RNN layer</span>\n",
       "        <span class=\"k\">if</span> <span class=\"n\">hidden</span> <span class=\"ow\">is</span> <span class=\"ow\">not</span> <span class=\"kc\">None</span><span class=\"p\">:</span>\n",
       "            <span class=\"n\">output</span><span class=\"p\">,</span> <span class=\"n\">hidden</span> <span class=\"o\">=</span> <span class=\"bp\">self</span><span class=\"o\">.</span><span class=\"n\">rnn</span><span class=\"p\">(</span><span class=\"n\">embedded</span><span class=\"p\">,</span> <span class=\"n\">hidden</span><span class=\"p\">)</span>\n",
       "        <span class=\"k\">else</span><span class=\"p\">:</span>\n",
       "            <span class=\"n\">output</span><span class=\"p\">,</span> <span class=\"n\">hidden</span> <span class=\"o\">=</span> <span class=\"bp\">self</span><span class=\"o\">.</span><span class=\"n\">rnn</span><span class=\"p\">(</span><span class=\"n\">embedded</span><span class=\"p\">)</span>\n",
       "</pre></div>\n"
      ],
      "text/latex": [
       "\\begin{Verbatim}[commandchars=\\\\\\{\\}]\n",
       "    \\PY{k}{def} \\PY{n+nf}{forward}\\PY{p}{(}\\PY{n+nb+bp}{self}\\PY{p}{,} \\PY{n+nb}{input}\\PY{p}{,} \\PY{n}{hidden}\\PY{o}{=}\\PY{k+kc}{None}\\PY{p}{)}\\PY{p}{:}\n",
       "        \\PY{c+c1}{\\PYZsh{} Apply word embedding to input}\n",
       "        \\PY{n}{embedded} \\PY{o}{=} \\PY{n+nb+bp}{self}\\PY{o}{.}\\PY{n}{embedding}\\PY{p}{(}\\PY{n+nb}{input}\\PY{p}{)}\n",
       "\n",
       "        \\PY{c+c1}{\\PYZsh{} Forward pass through the RNN layer}\n",
       "        \\PY{k}{if} \\PY{n}{hidden} \\PY{o+ow}{is} \\PY{o+ow}{not} \\PY{k+kc}{None}\\PY{p}{:}\n",
       "            \\PY{n}{output}\\PY{p}{,} \\PY{n}{hidden} \\PY{o}{=} \\PY{n+nb+bp}{self}\\PY{o}{.}\\PY{n}{rnn}\\PY{p}{(}\\PY{n}{embedded}\\PY{p}{,} \\PY{n}{hidden}\\PY{p}{)}\n",
       "        \\PY{k}{else}\\PY{p}{:}\n",
       "            \\PY{n}{output}\\PY{p}{,} \\PY{n}{hidden} \\PY{o}{=} \\PY{n+nb+bp}{self}\\PY{o}{.}\\PY{n}{rnn}\\PY{p}{(}\\PY{n}{embedded}\\PY{p}{)}\n",
       "\\end{Verbatim}\n"
      ],
      "text/plain": [
       "    def forward(self, input, hidden=None):\n",
       "        # Apply word embedding to input\n",
       "        embedded = self.embedding(input)\n",
       "\n",
       "        # Forward pass through the RNN layer\n",
       "        if hidden is not None:\n",
       "            output, hidden = self.rnn(embedded, hidden)\n",
       "        else:\n",
       "            output, hidden = self.rnn(embedded)\n"
      ]
     },
     "execution_count": 31,
     "metadata": {},
     "output_type": "execute_result"
    }
   ],
   "source": [
    "Code(data=''.join([line for line in open('mymodel.py')][35:45]), language='python')"
   ]
  },
  {
   "cell_type": "markdown",
   "metadata": {},
   "source": [
    "We the need to modify the call to `model()` and use our new function `repackage_hidden()` to detach the hidden stat in each iteration."
   ]
  },
  {
   "cell_type": "code",
   "execution_count": 32,
   "metadata": {},
   "outputs": [],
   "source": [
    "import time\n",
    "import math\n",
    "\n",
    "def train():\n",
    "    model.train()\n",
    "    hidden = model.init_hidden(batch_size)\n",
    "    \n",
    "    for batch, i in enumerate(range(0, train_data.size(0) - 1, l_seq)):\n",
    "        data, targets = get_batch(train_data, i, l_seq)\n",
    "        \n",
    "        optimizer.zero_grad()\n",
    "        hidden = repackage_hidden(hidden)\n",
    "        output, hidden = model(data, hidden)\n",
    "        loss = loss_fn(output, targets)\n",
    "        loss.backward()\n",
    "        \n",
    "        torch.nn.utils.clip_grad_norm_(model.parameters(), clip)\n",
    "        optimizer.step()\n",
    "    \n",
    "    model.epoch += 1"
   ]
  },
  {
   "cell_type": "markdown",
   "metadata": {},
   "source": [
    "Similarly we modify the `evaluate()`function to also pass the hidden state to the model and detach the hidden state:"
   ]
  },
  {
   "cell_type": "code",
   "execution_count": 33,
   "metadata": {},
   "outputs": [],
   "source": [
    "def evaluate(data_source):\n",
    "    # Turn on evaluation mode which disables dropout.\n",
    "    model.eval()\n",
    "    total_loss = 0.\n",
    "    ntokens = len(corpus.dictionary)\n",
    "    \n",
    "    hidden = model.init_hidden(batch_size)\n",
    "    \n",
    "    with torch.no_grad():\n",
    "        for i in range(0, data_source.size(0) - 1, l_seq):\n",
    "            data, targets = get_batch(data_source, i)\n",
    "            output, hidden = model(data, hidden)\n",
    "            hidden = repackage_hidden(hidden)\n",
    "            total_loss += len(data) * loss_fn(output, targets).item()\n",
    "    return total_loss / (len(data_source) - 1)"
   ]
  },
  {
   "cell_type": "markdown",
   "metadata": {},
   "source": [
    "With all code modifications in place, we can now train our model with improved information flow."
   ]
  },
  {
   "cell_type": "code",
   "execution_count": 34,
   "metadata": {},
   "outputs": [
    {
     "name": "stdout",
     "output_type": "stream",
     "text": [
      "------------------------------------------------------------------------------\n",
      "|              |             |       loss        |        perplexity         |\n",
      "| end of epoch |     time    |-------------------|---------------------------|\n",
      "|              |             |  train  |  valid  |    train    |    valid    |\n",
      "------------------------------------------------------------------------------\n",
      "------------------------------------------------------------------------------\n",
      "|           50 |      1322.0s |    4.55 |    5.31 |       94.87 |      202.31 |\n",
      "------------------------------------------------------------------------------\n"
     ]
    }
   ],
   "source": [
    "# Loop over epochs.\n",
    "best_val_loss = None\n",
    "fname = 'exercise3_iif.torch'\n",
    "fname_best = 'exercise3_iif_best.torch'\n",
    "\n",
    "from fcns import print_log_head, load_model\n",
    "from os.path import exists\n",
    "\n",
    "if not exists(fname):\n",
    "    model = MyNetwork().to(device)\n",
    "    loss_fn = torch.nn.CrossEntropyLoss()\n",
    "    optimizer = optim.SGD(model.parameters(), lr = lr, weight_decay = 0, momentum = 0.0)\n",
    "    print_log_head()\n",
    "    train_nepochs(nepochs, fname, fname_best)\n",
    "else:\n",
    "    model = load_model(fname)"
   ]
  },
  {
   "cell_type": "markdown",
   "metadata": {},
   "source": [
    "We plot the train and validation loss as a function of epoch below. Overall the loss looks very similar to the previous part, where we introduced gradient clipping. "
   ]
  },
  {
   "cell_type": "code",
   "execution_count": 35,
   "metadata": {},
   "outputs": [
    {
     "data": {
      "text/plain": [
       "<matplotlib.legend.Legend at 0x7fd47054c150>"
      ]
     },
     "execution_count": 35,
     "metadata": {},
     "output_type": "execute_result"
    },
    {
     "data": {
      "image/png": "[encoded data removed]",
      "text/plain": [
       "<Figure size 640x480 with 1 Axes>"
      ]
     },
     "metadata": {},
     "output_type": "display_data"
    }
   ],
   "source": [
    "import matplotlib.pyplot as plt\n",
    "import numpy as np\n",
    "fig, ax = plt.subplots()\n",
    "\n",
    "ax.plot(np.arange(1, len(model.train_loss)+1), model.train_loss, label='train loss')\n",
    "ax.plot(np.arange(1, len(model.val_loss)+1), model.val_loss, label='validation loss')\n",
    "ax.legend()"
   ]
  },
  {
   "cell_type": "markdown",
   "metadata": {},
   "source": [
    "The best loss was obtained after 26 epochs of training and we achieved slightly better performance without modifying the learning rate compared to the previous section, but still not as good as we observed in exercise 2. This shows that improving the information flow by passing the hidden state does not just straight-up improve the RNN by enabling to learn longer term dependencies, but the RNN must also be able to learn these long-term dependencies, which is sensitively dependent on other design- and hyper-parameters."
   ]
  },
  {
   "cell_type": "code",
   "execution_count": 36,
   "metadata": {},
   "outputs": [
    {
     "name": "stdout",
     "output_type": "stream",
     "text": [
      "Best model obtained in epoch                   26\n",
      "The perpelexity in the validation set is   196.72\n",
      "The perpelexity in the test set is         187.00\n"
     ]
    }
   ],
   "source": [
    "model = torch.load(fname_best)\n",
    "test_loss = evaluate(val_data)\n",
    "print('Best model obtained in epoch                  ', model.epoch)\n",
    "print('The perpelexity in the validation set is {:8.2f}'.format(math.exp(test_loss)))\n",
    "test_loss = evaluate(test_data)\n",
    "print('The perpelexity in the test set is       {:8.2f}'.format(math.exp(test_loss)))"
   ]
  },
  {
   "cell_type": "markdown",
   "metadata": {},
   "source": [
    "## Gated units\n",
    "\n",
    "We now replace the Elman RNN by the LSTM. This is easily done using pytorch's `LSTM()` layer. We have followed the ideas outlined in https://github.com/pytorch/examples/blob/main/word_language_model/main.py and included an argument `rnn_type` in the definition of the `MyNetwork()` class, which allows to switch over from the Elman RNN to the LSTM unit."
   ]
  },
  {
   "cell_type": "code",
   "execution_count": 37,
   "metadata": {},
   "outputs": [],
   "source": [
    "model = MyNetwork(rnn_type='LSTM').to(device)\n",
    "loss_fn = torch.nn.CrossEntropyLoss()\n",
    "optimizer = optim.SGD(model.parameters(), lr = lr, weight_decay = 0, momentum = 0.0)"
   ]
  },
  {
   "cell_type": "code",
   "execution_count": 38,
   "metadata": {},
   "outputs": [
    {
     "name": "stdout",
     "output_type": "stream",
     "text": [
      "------------------------------------------------------------------------------\n",
      "|              |             |       loss        |        perplexity         |\n",
      "| end of epoch |     time    |-------------------|---------------------------|\n",
      "|              |             |  train  |  valid  |    train    |    valid    |\n",
      "------------------------------------------------------------------------------\n",
      "------------------------------------------------------------------------------\n",
      "|           50 |      1498.2s |    4.31 |    5.14 |       74.41 |      171.24 |\n",
      "------------------------------------------------------------------------------\n"
     ]
    }
   ],
   "source": [
    "fname = 'exercise3_lstm.torch'\n",
    "fname_best = 'exercise3_lstm_best.torch'\n",
    "\n",
    "if not exists(fname):\n",
    "    print_log_head()\n",
    "    train_nepochs(nepochs, fname, fname_best)\n",
    "else:\n",
    "    model = load_model(fname)"
   ]
  },
  {
   "cell_type": "markdown",
   "metadata": {},
   "source": [
    "We observe that the loss in the LSTM is a lot smoother as a function of epoch than what we have obtained thus far for the Elman RNN, suggesting that the LSTM is a bit easier to train. We observe quite some overfitting to the training data from about epoch 27 onwards."
   ]
  },
  {
   "cell_type": "code",
   "execution_count": 39,
   "metadata": {},
   "outputs": [
    {
     "data": {
      "text/plain": [
       "<matplotlib.legend.Legend at 0x7fd470572e90>"
      ]
     },
     "execution_count": 39,
     "metadata": {},
     "output_type": "execute_result"
    },
    {
     "data": {
      "image/png": "[encoded data removed]",
      "text/plain": [
       "<Figure size 640x480 with 1 Axes>"
      ]
     },
     "metadata": {},
     "output_type": "display_data"
    }
   ],
   "source": [
    "import matplotlib.pyplot as plt\n",
    "import numpy as np\n",
    "fig, ax = plt.subplots()\n",
    "\n",
    "ax.plot(np.arange(1, len(model.train_loss)+1), model.train_loss, label='train loss')\n",
    "ax.plot(np.arange(1, len(model.val_loss)+1), model.val_loss, label='validation loss')\n",
    "ax.legend()"
   ]
  },
  {
   "cell_type": "markdown",
   "metadata": {},
   "source": [
    "The best model was obtained after 27 epochs of training. It performs much better than the Elman RNN judging from the perplexity scores. We continue to see the trend, that the perplexity on the validation data is worse than it is on the test data."
   ]
  },
  {
   "cell_type": "code",
   "execution_count": 40,
   "metadata": {},
   "outputs": [
    {
     "name": "stdout",
     "output_type": "stream",
     "text": [
      "Best model obtained in epoch                   27\n",
      "The perpelexity in the validation set is   163.27\n",
      "The perpelexity in the test set is         154.51\n"
     ]
    }
   ],
   "source": [
    "model = torch.load(fname_best)\n",
    "test_loss = evaluate(val_data)\n",
    "print('Best model obtained in epoch                  ', model.epoch)\n",
    "print('The perpelexity in the validation set is {:8.2f}'.format(math.exp(test_loss)))\n",
    "test_loss = evaluate(test_data)\n",
    "print('The perpelexity in the test set is       {:8.2f}'.format(math.exp(test_loss)))"
   ]
  },
  {
   "cell_type": "markdown",
   "metadata": {},
   "source": [
    "## Improving the model further\n",
    "\n",
    "As a last part of this assignment we consider further improvements to the model."
   ]
  },
  {
   "cell_type": "markdown",
   "metadata": {},
   "source": [
    "### Increasing the number of layers\n",
    "\n",
    "First we will increase the number of layers to increase the expressiveness of the model."
   ]
  },
  {
   "cell_type": "code",
   "execution_count": 41,
   "metadata": {},
   "outputs": [
    {
     "name": "stdout",
     "output_type": "stream",
     "text": [
      "------------------------------------------------------------------------------\n",
      "|              |             |       loss        |        perplexity         |\n",
      "| end of epoch |     time    |-------------------|---------------------------|\n",
      "|              |             |  train  |  valid  |    train    |    valid    |\n",
      "------------------------------------------------------------------------------\n",
      "------------------------------------------------------------------------------\n",
      "|           50 |      1708.6s |    4.25 |    5.12 |       69.98 |      166.55 |\n",
      "------------------------------------------------------------------------------\n"
     ]
    }
   ],
   "source": [
    "fname = 'exercise3_lnl.torch'\n",
    "fname_best = 'exercise3_lnl_best.torch'\n",
    "\n",
    "if not exists(fname):\n",
    "    model = MyNetwork(rnn_type='LSTM', nlayers=2).to(device)\n",
    "    loss_fn = torch.nn.CrossEntropyLoss()\n",
    "    optimizer = optim.SGD(model.parameters(), lr = lr, weight_decay = 0, momentum = 0.0)\n",
    "    print_log_head()\n",
    "    train_nepochs(nepochs, fname, fname_best)\n",
    "else:\n",
    "    model = load_model(fname)"
   ]
  },
  {
   "cell_type": "markdown",
   "metadata": {},
   "source": [
    "The loss as a function of epoch continues to look similar to the other loss curves we have observed thus far. There is a strong overfitting to the training data present after about epoch 20."
   ]
  },
  {
   "cell_type": "code",
   "execution_count": 42,
   "metadata": {},
   "outputs": [
    {
     "data": {
      "text/plain": [
       "<matplotlib.legend.Legend at 0x7fd47046d450>"
      ]
     },
     "execution_count": 42,
     "metadata": {},
     "output_type": "execute_result"
    },
    {
     "data": {
      "image/png": "[encoded data removed]",
      "text/plain": [
       "<Figure size 640x480 with 1 Axes>"
      ]
     },
     "metadata": {},
     "output_type": "display_data"
    }
   ],
   "source": [
    "import matplotlib.pyplot as plt\n",
    "import numpy as np\n",
    "fig, ax = plt.subplots()\n",
    "\n",
    "ax.plot(np.arange(1, len(model.train_loss)+1), model.train_loss, label='train loss')\n",
    "ax.plot(np.arange(1, len(model.val_loss)+1), model.val_loss, label='validation loss')\n",
    "ax.legend()"
   ]
  },
  {
   "cell_type": "markdown",
   "metadata": {},
   "source": [
    "The best model was now obtained after 22 epochs of training and it performed a bit better than the model considering only one layer., suggesting that the model is able to learn more of the patterns inherent to the data set."
   ]
  },
  {
   "cell_type": "code",
   "execution_count": 43,
   "metadata": {},
   "outputs": [
    {
     "name": "stdout",
     "output_type": "stream",
     "text": [
      "Best model obtained in epoch                   22\n",
      "The perpelexity in the validation set is   154.07\n",
      "The perpelexity in the test set is         147.82\n"
     ]
    }
   ],
   "source": [
    "model = torch.load(fname_best)\n",
    "test_loss = evaluate(val_data)\n",
    "print('Best model obtained in epoch                  ', model.epoch)\n",
    "print('The perpelexity in the validation set is {:8.2f}'.format(math.exp(test_loss)))\n",
    "test_loss = evaluate(test_data)\n",
    "print('The perpelexity in the test set is       {:8.2f}'.format(math.exp(test_loss)))"
   ]
  },
  {
   "cell_type": "markdown",
   "metadata": {},
   "source": [
    "### Use a learning rate scheduler\n",
    "\n",
    "As a second improvement we consider the effect of introducing a learning rate scheduler. To that end we modify the code in the `train_nepochs()` function to include the scheduler code. We use here the pytorch `torch.optim.lr_scheduler.ReduceLROnPlateau` scheduler, which reduces the learning rate after a selectable period of no improvements in the loss."
   ]
  },
  {
   "cell_type": "code",
   "execution_count": 44,
   "metadata": {},
   "outputs": [],
   "source": [
    "def train_nepochs(nepochs, fname, fname_best):\n",
    "    \n",
    "    for epoch in range(1, nepochs+1):\n",
    "        \n",
    "        epoch_start_time = time.time()\n",
    "        train()\n",
    "        \n",
    "        model.train_loss.append(evaluate(train_data))\n",
    "        model.val_loss.append(evaluate(val_data))\n",
    "\n",
    "        scheduler.step(model.val_loss[-1])\n",
    "        \n",
    "        time_epoch = time.time() - epoch_start_time\n",
    "        model.time += time_epoch\n",
    "        \n",
    "        print('|          {:3d} |   {:9.1f}s |   {:5.2f} |   {:5.2f} |    {:8.2f} |    {:8.2f} |'\\\n",
    "              .format(model.epoch, time_epoch, model.train_loss[-1], model.val_loss[-1], \n",
    "                  math.exp(model.train_loss[-1]), math.exp(model.val_loss[-1])))\n",
    "        print('-' * 78)\n",
    "        \n",
    "        # Save the model if the validation loss is the best we've seen so far.\n",
    "        if len(model.val_loss) == 1 or model.val_loss[-1] < min(model.val_loss[:-1]):\n",
    "            with open(fname_best, 'wb') as f:\n",
    "                torch.save(model, f)\n",
    "        \n",
    "        with open(fname, 'wb') as f:\n",
    "            torch.save(model, f)"
   ]
  },
  {
   "cell_type": "markdown",
   "metadata": {},
   "source": [
    "We train the network starting with the same parameters as before. The learning rate scheduler should reduce the learning rate step by step as we approch the minimum of the loss."
   ]
  },
  {
   "cell_type": "code",
   "execution_count": 45,
   "metadata": {},
   "outputs": [
    {
     "name": "stdout",
     "output_type": "stream",
     "text": [
      "------------------------------------------------------------------------------\n",
      "|              |             |       loss        |        perplexity         |\n",
      "| end of epoch |     time    |-------------------|---------------------------|\n",
      "|              |             |  train  |  valid  |    train    |    valid    |\n",
      "------------------------------------------------------------------------------\n",
      "------------------------------------------------------------------------------\n",
      "|           50 |      1778.5s |    4.32 |    5.03 |       74.89 |      152.34 |\n",
      "------------------------------------------------------------------------------\n"
     ]
    }
   ],
   "source": [
    "fname = 'exercise3_lrsched.torch'\n",
    "fname_best = 'exercise3_lrsched_best.torch'\n",
    "\n",
    "if not exists(fname):\n",
    "    model = MyNetwork(rnn_type='LSTM', nlayers=2).to(device)\n",
    "    loss_fn = torch.nn.CrossEntropyLoss()\n",
    "    optimizer = optim.SGD(model.parameters(), lr = lr, weight_decay = 0, momentum = 0.0)\n",
    "    scheduler = torch.optim.lr_scheduler.ReduceLROnPlateau(optimizer, 'min', patience=3, factor=0.5)\n",
    "    print_log_head()\n",
    "    train_nepochs(nepochs, fname, fname_best)\n",
    "else:\n",
    "    model = load_model(fname)"
   ]
  },
  {
   "cell_type": "markdown",
   "metadata": {},
   "source": [
    "Using the learning rate scheduler we obtain a loss curve, which flattens out after about 35 epochs of training. There is quite a clear evidence of the learning rate scheduler adjusting the learning rate as we observe some jumps in the learning rate. A strong overfitting on the training set continues to be present."
   ]
  },
  {
   "cell_type": "code",
   "execution_count": 46,
   "metadata": {},
   "outputs": [
    {
     "data": {
      "text/plain": [
       "<matplotlib.legend.Legend at 0x7fd47048af50>"
      ]
     },
     "execution_count": 46,
     "metadata": {},
     "output_type": "execute_result"
    },
    {
     "data": {
      "image/png": "[encoded data removed]",
      "text/plain": [
       "<Figure size 640x480 with 1 Axes>"
      ]
     },
     "metadata": {},
     "output_type": "display_data"
    }
   ],
   "source": [
    "import matplotlib.pyplot as plt\n",
    "import numpy as np\n",
    "fig, ax = plt.subplots()\n",
    "\n",
    "ax.plot(np.arange(1, len(model.train_loss)+1), model.train_loss, label='train loss')\n",
    "ax.plot(np.arange(1, len(model.val_loss)+1), model.val_loss, label='validation loss')\n",
    "ax.legend()"
   ]
  },
  {
   "cell_type": "markdown",
   "metadata": {},
   "source": [
    "With the 2 layers in the LSTM network and using a learning rate shceduler we reach an improved perplexity rating of 146.25 on the test set:"
   ]
  },
  {
   "cell_type": "code",
   "execution_count": 47,
   "metadata": {
    "editable": true,
    "slideshow": {
     "slide_type": ""
    },
    "tags": []
   },
   "outputs": [
    {
     "name": "stdout",
     "output_type": "stream",
     "text": [
      "Best model obtained in epoch                   44\n",
      "The perpelexity in the validation set is   152.29\n",
      "The perpelexity in the test set is         146.25\n"
     ]
    }
   ],
   "source": [
    "model = torch.load(fname_best)\n",
    "test_loss = evaluate(val_data)\n",
    "print('Best model obtained in epoch                  ', model.epoch)\n",
    "print('The perpelexity in the validation set is {:8.2f}'.format(math.exp(test_loss)))\n",
    "test_loss = evaluate(test_data)\n",
    "print('The perpelexity in the test set is       {:8.2f}'.format(math.exp(test_loss)))"
   ]
  }
 ],
 "metadata": {
  "kernelspec": {
   "display_name": "pytorch",
   "language": "python",
   "name": "pytorch"
  },
  "language_info": {
   "codemirror_mode": {
    "name": "ipython",
    "version": 3
   },
   "file_extension": ".py",
   "mimetype": "text/x-python",
   "name": "python",
   "nbconvert_exporter": "python",
   "pygments_lexer": "ipython3",
   "version": "3.11.5"
  },
  "widgets": {
   "application/vnd.jupyter.widget-state+json": {
    "state": {},
    "version_major": 2,
    "version_minor": 0
   }
  }
 },
 "nbformat": 4,
 "nbformat_minor": 4
}
