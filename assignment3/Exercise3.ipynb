{
 "cells": [
  {
   "cell_type": "markdown",
   "metadata": {},
   "source": [
    "# Exercise 3 -- Improving the recurrent model\n",
    "\n",
    "In this exercise we will try different ways to improve the performance of the RNN model on the PTB data set."
   ]
  },
  {
   "cell_type": "markdown",
   "metadata": {},
   "source": [
    "## Gradient clipping\n",
    "\n",
    "As a first step, we consider the effect of gradient clipping. Gradient clipping reduces the maximum magnitude of the gradient during parameter update to a selectable value $M$. In other words during gradient descent, new parameters $\\theta_k$ are determined by applying\n",
    "$$\n",
    "\\theta_k = \\theta_{k-1} - \\gamma \\nabla J(\\theta_{k-1})\n",
    "$$\n",
    "where $\\nabla J(\\theta_{k-1})$ is the gradient and $\\gamma$ the learning rate. Gradient clipping then corresponds to introduction of a function\n",
    "$$\n",
    "clip_M(\\theta) = \n",
    "\\begin{cases}\n",
    "\\theta & \\mathrm{if} ||\\theta|| \\leq M \\\\\n",
    "M \\frac{\\theta}{||\\theta||} \\qquad & \\mathrm{if} ||\\theta|| \\leq M\n",
    "\\end{cases}\n",
    "$$\n",
    "which is applied during parameter update as follows:\n",
    "$$\n",
    "\\theta_k = \\theta_{k-1} - \\gamma clip_M(\\theta)(\\nabla J(\\theta_{k-1})).\n",
    "$$\n",
    "We set our model and training loops up as in exercise 2, but use the gradient clipping routine `clip_grad_norm_()` provided by pytorch in the `train()` function and also increase the learning rate as that should be safely possible with gradient clipping. "
   ]
  },
  {
   "cell_type": "code",
   "execution_count": 1,
   "metadata": {},
   "outputs": [],
   "source": [
    "import torch\n",
    "from mymodel import MyNetwork\n",
    "torch.manual_seed(3932324365)\n",
    "device = torch.device(\"cuda\")\n",
    "model = MyNetwork().to(device)"
   ]
  },
  {
   "cell_type": "code",
   "execution_count": 2,
   "metadata": {},
   "outputs": [],
   "source": [
    "from corpus import Corpus\n",
    "corpus = Corpus('ptb_data')\n",
    "\n",
    "batch_size = 100\n",
    "l_seq = 20\n",
    "\n",
    "from fcns import batchify, get_batch\n",
    "train_data = batchify(corpus.train, batch_size).to(device)\n",
    "val_data = batchify(corpus.valid, batch_size).to(device)\n",
    "test_data = batchify(corpus.test, batch_size).to(device)"
   ]
  },
  {
   "cell_type": "code",
   "execution_count": 3,
   "metadata": {},
   "outputs": [],
   "source": [
    "import torch.optim as optim\n",
    "lr = 5\n",
    "loss_fn = torch.nn.CrossEntropyLoss()\n",
    "optimizer = optim.SGD(model.parameters(), lr = lr, weight_decay = 0, momentum = 0.0)"
   ]
  },
  {
   "cell_type": "code",
   "execution_count": 4,
   "metadata": {},
   "outputs": [],
   "source": [
    "import time\n",
    "import math\n",
    "\n",
    "def train():\n",
    "    model.train()\n",
    "    \n",
    "    for batch, i in enumerate(range(0, train_data.size(0) - 1, l_seq)):\n",
    "        data, targets = get_batch(train_data, i, l_seq)\n",
    "        \n",
    "        optimizer.zero_grad()\n",
    "        \n",
    "        output, hidden = model(data)\n",
    "        loss = loss_fn(output, targets)\n",
    "        loss.backward()\n",
    "        \n",
    "        torch.nn.utils.clip_grad_norm_(model.parameters(), clip)\n",
    "        optimizer.step()\n",
    "    \n",
    "    model.epoch += 1"
   ]
  },
  {
   "cell_type": "code",
   "execution_count": 5,
   "metadata": {},
   "outputs": [],
   "source": [
    "def evaluate(data_source):\n",
    "    # Turn on evaluation mode which disables dropout.\n",
    "    model.eval()\n",
    "    total_loss = 0.\n",
    "    ntokens = len(corpus.dictionary)\n",
    "    \n",
    "    hidden = model.init_hidden(batch_size)\n",
    "    \n",
    "    with torch.no_grad():\n",
    "        for i in range(0, data_source.size(0) - 1, l_seq):\n",
    "            data, targets = get_batch(data_source, i, l_seq)\n",
    "            output, hidden = model(data, hidden)\n",
    "            total_loss += len(data) * loss_fn(output, targets).item()\n",
    "    return total_loss / (len(data_source) - 1)"
   ]
  },
  {
   "cell_type": "code",
   "execution_count": 6,
   "metadata": {},
   "outputs": [],
   "source": [
    "def train_nepochs(nepochs, fname, fname_best):\n",
    "    \n",
    "    for epoch in range(1, nepochs+1):\n",
    "        \n",
    "        epoch_start_time = time.time()\n",
    "        train()\n",
    "        \n",
    "        model.train_loss.append(evaluate(train_data))\n",
    "        model.val_loss.append(evaluate(val_data))\n",
    "        \n",
    "        time_epoch = time.time() - epoch_start_time\n",
    "        model.time += time_epoch\n",
    "        \n",
    "        print('|          {:3d} |   {:9.1f}s |   {:5.2f} |   {:5.2f} |    {:8.2f} |    {:8.2f} |'\\\n",
    "              .format(model.epoch, time_epoch, model.train_loss[-1], model.val_loss[-1], \n",
    "                  math.exp(model.train_loss[-1]), math.exp(model.val_loss[-1])))\n",
    "        print('-' * 78)\n",
    "        \n",
    "        # Save the model if the validation loss is the best we've seen so far.\n",
    "        if len(model.val_loss) == 1 or model.val_loss[-1] < min(model.val_loss[:-1]):\n",
    "            with open(fname_best, 'wb') as f:\n",
    "                torch.save(model, f)\n",
    "        \n",
    "        with open(fname, 'wb') as f:\n",
    "            torch.save(model, f)"
   ]
  },
  {
   "cell_type": "markdown",
   "metadata": {},
   "source": [
    "With everything in place, we can proceed with the training of our model:"
   ]
  },
  {
   "cell_type": "code",
   "execution_count": 7,
   "metadata": {},
   "outputs": [
    {
     "name": "stdout",
     "output_type": "stream",
     "text": [
      "------------------------------------------------------------------------------\n",
      "|              |             |       loss        |        perplexity         |\n",
      "| end of epoch |     time    |-------------------|---------------------------|\n",
      "|              |             |  train  |  valid  |    train    |    valid    |\n",
      "------------------------------------------------------------------------------\n",
      "------------------------------------------------------------------------------\n",
      "|            1 |        26.1s |    6.11 |    6.09 |      450.37 |      442.64 |\n",
      "------------------------------------------------------------------------------\n",
      "|            2 |        25.9s |    5.90 |    5.90 |      365.07 |      364.23 |\n",
      "------------------------------------------------------------------------------\n",
      "|            3 |        26.1s |    5.76 |    5.77 |      317.16 |      321.54 |\n",
      "------------------------------------------------------------------------------\n",
      "|            4 |        26.3s |    5.66 |    5.69 |      286.28 |      295.39 |\n",
      "------------------------------------------------------------------------------\n",
      "|            5 |        26.5s |    5.57 |    5.62 |      263.53 |      277.17 |\n",
      "------------------------------------------------------------------------------\n",
      "|            6 |        26.7s |    5.50 |    5.57 |      245.65 |      263.09 |\n",
      "------------------------------------------------------------------------------\n",
      "|            7 |        27.0s |    5.45 |    5.54 |      232.69 |      253.65 |\n",
      "------------------------------------------------------------------------------\n",
      "|            8 |        26.6s |    5.40 |    5.50 |      220.88 |      244.67 |\n",
      "------------------------------------------------------------------------------\n",
      "|            9 |        26.7s |    5.36 |    5.48 |      212.47 |      238.99 |\n",
      "------------------------------------------------------------------------------\n",
      "|           10 |        26.7s |    5.32 |    5.45 |      204.27 |      233.34 |\n",
      "------------------------------------------------------------------------------\n",
      "|           11 |        26.7s |    5.28 |    5.43 |      196.77 |      227.83 |\n",
      "------------------------------------------------------------------------------\n",
      "|           12 |        26.7s |    5.25 |    5.41 |      190.99 |      224.22 |\n",
      "------------------------------------------------------------------------------\n",
      "|           13 |        26.7s |    5.22 |    5.40 |      185.31 |      220.42 |\n",
      "------------------------------------------------------------------------------\n",
      "|           14 |        26.8s |    5.20 |    5.38 |      181.07 |      217.87 |\n",
      "------------------------------------------------------------------------------\n",
      "|           15 |        26.9s |    5.17 |    5.37 |      176.57 |      214.94 |\n",
      "------------------------------------------------------------------------------\n",
      "|           16 |        26.7s |    5.16 |    5.37 |      174.41 |      214.70 |\n",
      "------------------------------------------------------------------------------\n",
      "|           17 |        27.0s |    5.13 |    5.35 |      169.39 |      210.89 |\n",
      "------------------------------------------------------------------------------\n",
      "|           18 |        26.9s |    5.11 |    5.34 |      166.47 |      209.49 |\n",
      "------------------------------------------------------------------------------\n",
      "|           19 |        26.9s |    5.10 |    5.34 |      163.20 |      207.47 |\n",
      "------------------------------------------------------------------------------\n",
      "|           20 |        26.9s |    5.09 |    5.34 |      162.23 |      208.27 |\n",
      "------------------------------------------------------------------------------\n",
      "|           21 |        26.9s |    5.06 |    5.32 |      158.34 |      205.19 |\n",
      "------------------------------------------------------------------------------\n",
      "|           22 |        27.0s |    5.06 |    5.32 |      156.85 |      204.95 |\n",
      "------------------------------------------------------------------------------\n",
      "|           23 |        27.0s |    5.03 |    5.31 |      153.00 |      201.90 |\n",
      "------------------------------------------------------------------------------\n",
      "|           24 |        26.9s |    5.02 |    5.31 |      151.56 |      201.81 |\n",
      "------------------------------------------------------------------------------\n",
      "|           25 |        27.5s |    5.00 |    5.30 |      148.93 |      200.26 |\n",
      "------------------------------------------------------------------------------\n",
      "|           26 |        28.0s |    4.99 |    5.29 |      146.56 |      198.59 |\n",
      "------------------------------------------------------------------------------\n",
      "|           27 |        27.3s |    4.98 |    5.29 |      144.90 |      198.04 |\n",
      "------------------------------------------------------------------------------\n",
      "|           28 |        27.1s |    4.97 |    5.29 |      143.48 |      197.74 |\n",
      "------------------------------------------------------------------------------\n",
      "|           29 |        27.3s |    4.95 |    5.28 |      141.75 |      196.87 |\n",
      "------------------------------------------------------------------------------\n",
      "|           30 |        27.5s |    4.94 |    5.28 |      139.75 |      195.63 |\n",
      "------------------------------------------------------------------------------\n",
      "|           31 |        27.4s |    4.93 |    5.28 |      138.47 |      195.47 |\n",
      "------------------------------------------------------------------------------\n",
      "|           32 |        27.5s |    4.92 |    5.27 |      137.23 |      195.09 |\n",
      "------------------------------------------------------------------------------\n",
      "|           33 |        27.6s |    4.92 |    5.27 |      136.34 |      195.11 |\n",
      "------------------------------------------------------------------------------\n",
      "|           34 |        28.0s |    4.90 |    5.27 |      134.39 |      193.92 |\n",
      "------------------------------------------------------------------------------\n",
      "|           35 |        27.9s |    4.89 |    5.27 |      133.20 |      193.54 |\n",
      "------------------------------------------------------------------------------\n",
      "|           36 |        27.8s |    4.88 |    5.26 |      131.64 |      192.91 |\n",
      "------------------------------------------------------------------------------\n",
      "|           37 |        27.9s |    4.88 |    5.26 |      131.14 |      193.13 |\n",
      "------------------------------------------------------------------------------\n",
      "|           38 |        27.7s |    4.87 |    5.26 |      130.22 |      192.98 |\n",
      "------------------------------------------------------------------------------\n",
      "|           39 |        27.8s |    4.86 |    5.26 |      129.03 |      192.58 |\n",
      "------------------------------------------------------------------------------\n",
      "|           40 |        27.7s |    4.85 |    5.26 |      127.87 |      192.04 |\n",
      "------------------------------------------------------------------------------\n",
      "|           41 |        27.9s |    4.84 |    5.25 |      126.35 |      191.27 |\n",
      "------------------------------------------------------------------------------\n",
      "|           42 |        27.9s |    4.83 |    5.25 |      125.30 |      190.84 |\n",
      "------------------------------------------------------------------------------\n",
      "|           43 |        28.0s |    4.82 |    5.25 |      124.29 |      190.56 |\n",
      "------------------------------------------------------------------------------\n",
      "|           44 |        28.1s |    4.82 |    5.25 |      123.64 |      190.86 |\n",
      "------------------------------------------------------------------------------\n",
      "|           45 |        28.0s |    4.81 |    5.25 |      122.50 |      190.20 |\n",
      "------------------------------------------------------------------------------\n",
      "|           46 |        28.0s |    4.80 |    5.25 |      121.60 |      190.11 |\n",
      "------------------------------------------------------------------------------\n",
      "|           47 |        28.0s |    4.79 |    5.25 |      120.69 |      189.86 |\n",
      "------------------------------------------------------------------------------\n",
      "|           48 |        28.3s |    4.79 |    5.25 |      120.86 |      191.02 |\n",
      "------------------------------------------------------------------------------\n",
      "|           49 |        28.7s |    4.78 |    5.25 |      119.52 |      190.13 |\n",
      "------------------------------------------------------------------------------\n",
      "|           50 |        28.2s |    4.78 |    5.25 |      118.59 |      189.63 |\n",
      "------------------------------------------------------------------------------\n"
     ]
    }
   ],
   "source": [
    "# Loop over epochs.\n",
    "best_val_loss = None\n",
    "nepochs = 50\n",
    "log_interval = 1000\n",
    "clip = .25\n",
    "fname = 'exercise3_gc.torch'\n",
    "fname_best = 'exercise3_gc_best.torch'\n",
    "\n",
    "from fcns import print_log_head, load_model\n",
    "from os.path import exists\n",
    "\n",
    "if not exists(fname):\n",
    "    print_log_head()\n",
    "    train_nepochs(nepochs, fname, fname_best)\n",
    "else:\n",
    "    model = load_model(fname)"
   ]
  },
  {
   "cell_type": "markdown",
   "metadata": {},
   "source": [
    "We plot now the training and validation loss of the model in the figure below. Compared to the loss obtained in exercise 2, we find that the loss is a lot smoother as a function of epoch due to the effect of the gradient clipping. This indicates also, that the spikeyness observed in connection with exercise 2 is related to the *exploding gradient* problem in RNNs. Furthermore we observe a tendency to overfit to the training data from about epoch 5 onwards. Despite this the validation loss continues to improve until about epoch 30."
   ]
  },
  {
   "cell_type": "code",
   "execution_count": 8,
   "metadata": {},
   "outputs": [
    {
     "data": {
      "text/plain": [
       "<matplotlib.legend.Legend at 0x7f7594a8c710>"
      ]
     },
     "execution_count": 8,
     "metadata": {},
     "output_type": "execute_result"
    },
    {
     "data": {
      "image/png": "[encoded data removed]",
      "text/plain": [
       "<Figure size 640x480 with 1 Axes>"
      ]
     },
     "metadata": {},
     "output_type": "display_data"
    }
   ],
   "source": [
    "import matplotlib.pyplot as plt\n",
    "import numpy as np\n",
    "fig, ax = plt.subplots()\n",
    "\n",
    "ax.plot(np.arange(1, len(model.train_loss)+1), model.train_loss, label='train loss')\n",
    "ax.plot(np.arange(1, len(model.val_loss)+1), model.val_loss, label='validation loss')\n",
    "ax.legend()"
   ]
  },
  {
   "cell_type": "markdown",
   "metadata": {},
   "source": [
    "As a last performance metric for the evaluation of gradient clipping, we compute the perplexity of the best obtained model on the test data."
   ]
  },
  {
   "cell_type": "code",
   "execution_count": 9,
   "metadata": {},
   "outputs": [
    {
     "name": "stdout",
     "output_type": "stream",
     "text": [
      "Best model obtained in epoch                   50\n",
      "The perpelexity in the validation set is   189.63\n",
      "The perpelexity in the test set is         178.29\n"
     ]
    }
   ],
   "source": [
    "model = torch.load(fname_best)\n",
    "test_loss = evaluate(val_data)\n",
    "print('Best model obtained in epoch                  ', model.epoch)\n",
    "print('The perpelexity in the validation set is {:8.2f}'.format(math.exp(test_loss)))\n",
    "test_loss = evaluate(test_data)\n",
    "print('The perpelexity in the test set is       {:8.2f}'.format(math.exp(test_loss)))"
   ]
  },
  {
   "cell_type": "markdown",
   "metadata": {},
   "source": [
    "The best loss was obtained after 30 epochs of training, showing that the higher learning rate enabled by gradient clipping allowed us to train our model faster and more efficiently. In comparison with the performance observed in exercise 2, we get here worse performance, which is likely connected to the 10 times larger learning rate and a smaller learning rate would probably allow for better performance. We will explore the effect of a learning rate scheduler further below."
   ]
  },
  {
   "cell_type": "markdown",
   "metadata": {},
   "source": [
    "## Improving the flow of information\n",
    "\n",
    "In order to improve the flow of information, we pass the hidden state on to the next training iteration. This is simply achieved by adding the hidden state to the inputs of the `model()` call. However we also need to prevent the model from backpropagating through the training iterations. We achieve this by wrapping the hidden state tensor into a new tensor, which is detached from its \"history\" in each iteration of the training loop. The following code snippets show the approach."
   ]
  },
  {
   "cell_type": "code",
   "execution_count": 10,
   "metadata": {},
   "outputs": [
    {
     "data": {
      "text/html": [
       "<style>pre { line-height: 125%; }\n",
       "td.linenos .normal { color: inherit; background-color: transparent; padding-left: 5px; padding-right: 5px; }\n",
       "span.linenos { color: inherit; background-color: transparent; padding-left: 5px; padding-right: 5px; }\n",
       "td.linenos .special { color: #000000; background-color: #ffffc0; padding-left: 5px; padding-right: 5px; }\n",
       "span.linenos.special { color: #000000; background-color: #ffffc0; padding-left: 5px; padding-right: 5px; }\n",
       ".output_html .hll { background-color: #ffffcc }\n",
       ".output_html { background: #f8f8f8; }\n",
       ".output_html .c { color: #3D7B7B; font-style: italic } /* Comment */\n",
       ".output_html .err { border: 1px solid #FF0000 } /* Error */\n",
       ".output_html .k { color: #008000; font-weight: bold } /* Keyword */\n",
       ".output_html .o { color: #666666 } /* Operator */\n",
       ".output_html .ch { color: #3D7B7B; font-style: italic } /* Comment.Hashbang */\n",
       ".output_html .cm { color: #3D7B7B; font-style: italic } /* Comment.Multiline */\n",
       ".output_html .cp { color: #9C6500 } /* Comment.Preproc */\n",
       ".output_html .cpf { color: #3D7B7B; font-style: italic } /* Comment.PreprocFile */\n",
       ".output_html .c1 { color: #3D7B7B; font-style: italic } /* Comment.Single */\n",
       ".output_html .cs { color: #3D7B7B; font-style: italic } /* Comment.Special */\n",
       ".output_html .gd { color: #A00000 } /* Generic.Deleted */\n",
       ".output_html .ge { font-style: italic } /* Generic.Emph */\n",
       ".output_html .gr { color: #E40000 } /* Generic.Error */\n",
       ".output_html .gh { color: #000080; font-weight: bold } /* Generic.Heading */\n",
       ".output_html .gi { color: #008400 } /* Generic.Inserted */\n",
       ".output_html .go { color: #717171 } /* Generic.Output */\n",
       ".output_html .gp { color: #000080; font-weight: bold } /* Generic.Prompt */\n",
       ".output_html .gs { font-weight: bold } /* Generic.Strong */\n",
       ".output_html .gu { color: #800080; font-weight: bold } /* Generic.Subheading */\n",
       ".output_html .gt { color: #0044DD } /* Generic.Traceback */\n",
       ".output_html .kc { color: #008000; font-weight: bold } /* Keyword.Constant */\n",
       ".output_html .kd { color: #008000; font-weight: bold } /* Keyword.Declaration */\n",
       ".output_html .kn { color: #008000; font-weight: bold } /* Keyword.Namespace */\n",
       ".output_html .kp { color: #008000 } /* Keyword.Pseudo */\n",
       ".output_html .kr { color: #008000; font-weight: bold } /* Keyword.Reserved */\n",
       ".output_html .kt { color: #B00040 } /* Keyword.Type */\n",
       ".output_html .m { color: #666666 } /* Literal.Number */\n",
       ".output_html .s { color: #BA2121 } /* Literal.String */\n",
       ".output_html .na { color: #687822 } /* Name.Attribute */\n",
       ".output_html .nb { color: #008000 } /* Name.Builtin */\n",
       ".output_html .nc { color: #0000FF; font-weight: bold } /* Name.Class */\n",
       ".output_html .no { color: #880000 } /* Name.Constant */\n",
       ".output_html .nd { color: #AA22FF } /* Name.Decorator */\n",
       ".output_html .ni { color: #717171; font-weight: bold } /* Name.Entity */\n",
       ".output_html .ne { color: #CB3F38; font-weight: bold } /* Name.Exception */\n",
       ".output_html .nf { color: #0000FF } /* Name.Function */\n",
       ".output_html .nl { color: #767600 } /* Name.Label */\n",
       ".output_html .nn { color: #0000FF; font-weight: bold } /* Name.Namespace */\n",
       ".output_html .nt { color: #008000; font-weight: bold } /* Name.Tag */\n",
       ".output_html .nv { color: #19177C } /* Name.Variable */\n",
       ".output_html .ow { color: #AA22FF; font-weight: bold } /* Operator.Word */\n",
       ".output_html .w { color: #bbbbbb } /* Text.Whitespace */\n",
       ".output_html .mb { color: #666666 } /* Literal.Number.Bin */\n",
       ".output_html .mf { color: #666666 } /* Literal.Number.Float */\n",
       ".output_html .mh { color: #666666 } /* Literal.Number.Hex */\n",
       ".output_html .mi { color: #666666 } /* Literal.Number.Integer */\n",
       ".output_html .mo { color: #666666 } /* Literal.Number.Oct */\n",
       ".output_html .sa { color: #BA2121 } /* Literal.String.Affix */\n",
       ".output_html .sb { color: #BA2121 } /* Literal.String.Backtick */\n",
       ".output_html .sc { color: #BA2121 } /* Literal.String.Char */\n",
       ".output_html .dl { color: #BA2121 } /* Literal.String.Delimiter */\n",
       ".output_html .sd { color: #BA2121; font-style: italic } /* Literal.String.Doc */\n",
       ".output_html .s2 { color: #BA2121 } /* Literal.String.Double */\n",
       ".output_html .se { color: #AA5D1F; font-weight: bold } /* Literal.String.Escape */\n",
       ".output_html .sh { color: #BA2121 } /* Literal.String.Heredoc */\n",
       ".output_html .si { color: #A45A77; font-weight: bold } /* Literal.String.Interpol */\n",
       ".output_html .sx { color: #008000 } /* Literal.String.Other */\n",
       ".output_html .sr { color: #A45A77 } /* Literal.String.Regex */\n",
       ".output_html .s1 { color: #BA2121 } /* Literal.String.Single */\n",
       ".output_html .ss { color: #19177C } /* Literal.String.Symbol */\n",
       ".output_html .bp { color: #008000 } /* Name.Builtin.Pseudo */\n",
       ".output_html .fm { color: #0000FF } /* Name.Function.Magic */\n",
       ".output_html .vc { color: #19177C } /* Name.Variable.Class */\n",
       ".output_html .vg { color: #19177C } /* Name.Variable.Global */\n",
       ".output_html .vi { color: #19177C } /* Name.Variable.Instance */\n",
       ".output_html .vm { color: #19177C } /* Name.Variable.Magic */\n",
       ".output_html .il { color: #666666 } /* Literal.Number.Integer.Long */</style><div class=\"highlight\"><pre><span></span><span class=\"k\">def</span> <span class=\"nf\">repackage_hidden</span><span class=\"p\">(</span><span class=\"n\">h</span><span class=\"p\">):</span>\n",
       "<span class=\"w\">    </span><span class=\"sd\">&quot;&quot;&quot; Credit for this function:</span>\n",
       "<span class=\"sd\">        https://github.com/pytorch/examples/blob/main/word_language_model/main.py</span>\n",
       "<span class=\"sd\">    &quot;&quot;&quot;</span>\n",
       "    <span class=\"k\">if</span> <span class=\"nb\">isinstance</span><span class=\"p\">(</span><span class=\"n\">h</span><span class=\"p\">,</span> <span class=\"n\">torch</span><span class=\"o\">.</span><span class=\"n\">Tensor</span><span class=\"p\">):</span>\n",
       "        <span class=\"k\">return</span> <span class=\"n\">h</span><span class=\"o\">.</span><span class=\"n\">detach</span><span class=\"p\">()</span>\n",
       "    <span class=\"k\">else</span><span class=\"p\">:</span>\n",
       "        <span class=\"k\">return</span> <span class=\"nb\">tuple</span><span class=\"p\">(</span><span class=\"n\">repackage_hidden</span><span class=\"p\">(</span><span class=\"n\">v</span><span class=\"p\">)</span> <span class=\"k\">for</span> <span class=\"n\">v</span> <span class=\"ow\">in</span> <span class=\"n\">h</span><span class=\"p\">)</span>\n",
       "</pre></div>\n"
      ],
      "text/latex": [
       "\\begin{Verbatim}[commandchars=\\\\\\{\\}]\n",
       "\\PY{k}{def} \\PY{n+nf}{repackage\\PYZus{}hidden}\\PY{p}{(}\\PY{n}{h}\\PY{p}{)}\\PY{p}{:}\n",
       "\\PY{+w}{    }\\PY{l+s+sd}{\\PYZdq{}\\PYZdq{}\\PYZdq{} Credit for this function:}\n",
       "\\PY{l+s+sd}{        https://github.com/pytorch/examples/blob/main/word\\PYZus{}language\\PYZus{}model/main.py}\n",
       "\\PY{l+s+sd}{    \\PYZdq{}\\PYZdq{}\\PYZdq{}}\n",
       "    \\PY{k}{if} \\PY{n+nb}{isinstance}\\PY{p}{(}\\PY{n}{h}\\PY{p}{,} \\PY{n}{torch}\\PY{o}{.}\\PY{n}{Tensor}\\PY{p}{)}\\PY{p}{:}\n",
       "        \\PY{k}{return} \\PY{n}{h}\\PY{o}{.}\\PY{n}{detach}\\PY{p}{(}\\PY{p}{)}\n",
       "    \\PY{k}{else}\\PY{p}{:}\n",
       "        \\PY{k}{return} \\PY{n+nb}{tuple}\\PY{p}{(}\\PY{n}{repackage\\PYZus{}hidden}\\PY{p}{(}\\PY{n}{v}\\PY{p}{)} \\PY{k}{for} \\PY{n}{v} \\PY{o+ow}{in} \\PY{n}{h}\\PY{p}{)}\n",
       "\\end{Verbatim}\n"
      ],
      "text/plain": [
       "def repackage_hidden(h):\n",
       "    \"\"\" Credit for this function:\n",
       "        https://github.com/pytorch/examples/blob/main/word_language_model/main.py\n",
       "    \"\"\"\n",
       "    if isinstance(h, torch.Tensor):\n",
       "        return h.detach()\n",
       "    else:\n",
       "        return tuple(repackage_hidden(v) for v in h)"
      ]
     },
     "execution_count": 10,
     "metadata": {},
     "output_type": "execute_result"
    }
   ],
   "source": [
    "from fcns import repackage_hidden\n",
    "from IPython.display import Code\n",
    "Code(data=''.join([line for line in open('fcns.py')][34:42]), language='python')"
   ]
  },
  {
   "cell_type": "code",
   "execution_count": 11,
   "metadata": {},
   "outputs": [
    {
     "data": {
      "text/html": [
       "<style>pre { line-height: 125%; }\n",
       "td.linenos .normal { color: inherit; background-color: transparent; padding-left: 5px; padding-right: 5px; }\n",
       "span.linenos { color: inherit; background-color: transparent; padding-left: 5px; padding-right: 5px; }\n",
       "td.linenos .special { color: #000000; background-color: #ffffc0; padding-left: 5px; padding-right: 5px; }\n",
       "span.linenos.special { color: #000000; background-color: #ffffc0; padding-left: 5px; padding-right: 5px; }\n",
       ".output_html .hll { background-color: #ffffcc }\n",
       ".output_html { background: #f8f8f8; }\n",
       ".output_html .c { color: #3D7B7B; font-style: italic } /* Comment */\n",
       ".output_html .err { border: 1px solid #FF0000 } /* Error */\n",
       ".output_html .k { color: #008000; font-weight: bold } /* Keyword */\n",
       ".output_html .o { color: #666666 } /* Operator */\n",
       ".output_html .ch { color: #3D7B7B; font-style: italic } /* Comment.Hashbang */\n",
       ".output_html .cm { color: #3D7B7B; font-style: italic } /* Comment.Multiline */\n",
       ".output_html .cp { color: #9C6500 } /* Comment.Preproc */\n",
       ".output_html .cpf { color: #3D7B7B; font-style: italic } /* Comment.PreprocFile */\n",
       ".output_html .c1 { color: #3D7B7B; font-style: italic } /* Comment.Single */\n",
       ".output_html .cs { color: #3D7B7B; font-style: italic } /* Comment.Special */\n",
       ".output_html .gd { color: #A00000 } /* Generic.Deleted */\n",
       ".output_html .ge { font-style: italic } /* Generic.Emph */\n",
       ".output_html .gr { color: #E40000 } /* Generic.Error */\n",
       ".output_html .gh { color: #000080; font-weight: bold } /* Generic.Heading */\n",
       ".output_html .gi { color: #008400 } /* Generic.Inserted */\n",
       ".output_html .go { color: #717171 } /* Generic.Output */\n",
       ".output_html .gp { color: #000080; font-weight: bold } /* Generic.Prompt */\n",
       ".output_html .gs { font-weight: bold } /* Generic.Strong */\n",
       ".output_html .gu { color: #800080; font-weight: bold } /* Generic.Subheading */\n",
       ".output_html .gt { color: #0044DD } /* Generic.Traceback */\n",
       ".output_html .kc { color: #008000; font-weight: bold } /* Keyword.Constant */\n",
       ".output_html .kd { color: #008000; font-weight: bold } /* Keyword.Declaration */\n",
       ".output_html .kn { color: #008000; font-weight: bold } /* Keyword.Namespace */\n",
       ".output_html .kp { color: #008000 } /* Keyword.Pseudo */\n",
       ".output_html .kr { color: #008000; font-weight: bold } /* Keyword.Reserved */\n",
       ".output_html .kt { color: #B00040 } /* Keyword.Type */\n",
       ".output_html .m { color: #666666 } /* Literal.Number */\n",
       ".output_html .s { color: #BA2121 } /* Literal.String */\n",
       ".output_html .na { color: #687822 } /* Name.Attribute */\n",
       ".output_html .nb { color: #008000 } /* Name.Builtin */\n",
       ".output_html .nc { color: #0000FF; font-weight: bold } /* Name.Class */\n",
       ".output_html .no { color: #880000 } /* Name.Constant */\n",
       ".output_html .nd { color: #AA22FF } /* Name.Decorator */\n",
       ".output_html .ni { color: #717171; font-weight: bold } /* Name.Entity */\n",
       ".output_html .ne { color: #CB3F38; font-weight: bold } /* Name.Exception */\n",
       ".output_html .nf { color: #0000FF } /* Name.Function */\n",
       ".output_html .nl { color: #767600 } /* Name.Label */\n",
       ".output_html .nn { color: #0000FF; font-weight: bold } /* Name.Namespace */\n",
       ".output_html .nt { color: #008000; font-weight: bold } /* Name.Tag */\n",
       ".output_html .nv { color: #19177C } /* Name.Variable */\n",
       ".output_html .ow { color: #AA22FF; font-weight: bold } /* Operator.Word */\n",
       ".output_html .w { color: #bbbbbb } /* Text.Whitespace */\n",
       ".output_html .mb { color: #666666 } /* Literal.Number.Bin */\n",
       ".output_html .mf { color: #666666 } /* Literal.Number.Float */\n",
       ".output_html .mh { color: #666666 } /* Literal.Number.Hex */\n",
       ".output_html .mi { color: #666666 } /* Literal.Number.Integer */\n",
       ".output_html .mo { color: #666666 } /* Literal.Number.Oct */\n",
       ".output_html .sa { color: #BA2121 } /* Literal.String.Affix */\n",
       ".output_html .sb { color: #BA2121 } /* Literal.String.Backtick */\n",
       ".output_html .sc { color: #BA2121 } /* Literal.String.Char */\n",
       ".output_html .dl { color: #BA2121 } /* Literal.String.Delimiter */\n",
       ".output_html .sd { color: #BA2121; font-style: italic } /* Literal.String.Doc */\n",
       ".output_html .s2 { color: #BA2121 } /* Literal.String.Double */\n",
       ".output_html .se { color: #AA5D1F; font-weight: bold } /* Literal.String.Escape */\n",
       ".output_html .sh { color: #BA2121 } /* Literal.String.Heredoc */\n",
       ".output_html .si { color: #A45A77; font-weight: bold } /* Literal.String.Interpol */\n",
       ".output_html .sx { color: #008000 } /* Literal.String.Other */\n",
       ".output_html .sr { color: #A45A77 } /* Literal.String.Regex */\n",
       ".output_html .s1 { color: #BA2121 } /* Literal.String.Single */\n",
       ".output_html .ss { color: #19177C } /* Literal.String.Symbol */\n",
       ".output_html .bp { color: #008000 } /* Name.Builtin.Pseudo */\n",
       ".output_html .fm { color: #0000FF } /* Name.Function.Magic */\n",
       ".output_html .vc { color: #19177C } /* Name.Variable.Class */\n",
       ".output_html .vg { color: #19177C } /* Name.Variable.Global */\n",
       ".output_html .vi { color: #19177C } /* Name.Variable.Instance */\n",
       ".output_html .vm { color: #19177C } /* Name.Variable.Magic */\n",
       ".output_html .il { color: #666666 } /* Literal.Number.Integer.Long */</style><div class=\"highlight\"><pre><span></span>    <span class=\"k\">def</span> <span class=\"nf\">forward</span><span class=\"p\">(</span><span class=\"bp\">self</span><span class=\"p\">,</span> <span class=\"nb\">input</span><span class=\"p\">,</span> <span class=\"n\">hidden</span><span class=\"o\">=</span><span class=\"kc\">None</span><span class=\"p\">):</span>\n",
       "        <span class=\"c1\"># Apply word embedding to input</span>\n",
       "        <span class=\"n\">embedded</span> <span class=\"o\">=</span> <span class=\"bp\">self</span><span class=\"o\">.</span><span class=\"n\">embedding</span><span class=\"p\">(</span><span class=\"nb\">input</span><span class=\"p\">)</span>\n",
       "\n",
       "        <span class=\"c1\"># Forward pass through the RNN layer</span>\n",
       "        <span class=\"k\">if</span> <span class=\"n\">hidden</span> <span class=\"ow\">is</span> <span class=\"ow\">not</span> <span class=\"kc\">None</span><span class=\"p\">:</span>\n",
       "            <span class=\"n\">output</span><span class=\"p\">,</span> <span class=\"n\">hidden</span> <span class=\"o\">=</span> <span class=\"bp\">self</span><span class=\"o\">.</span><span class=\"n\">rnn</span><span class=\"p\">(</span><span class=\"n\">embedded</span><span class=\"p\">,</span> <span class=\"n\">hidden</span><span class=\"p\">)</span>\n",
       "        <span class=\"k\">else</span><span class=\"p\">:</span>\n",
       "            <span class=\"n\">output</span><span class=\"p\">,</span> <span class=\"n\">hidden</span> <span class=\"o\">=</span> <span class=\"bp\">self</span><span class=\"o\">.</span><span class=\"n\">rnn</span><span class=\"p\">(</span><span class=\"n\">embedded</span><span class=\"p\">)</span>\n",
       "</pre></div>\n"
      ],
      "text/latex": [
       "\\begin{Verbatim}[commandchars=\\\\\\{\\}]\n",
       "    \\PY{k}{def} \\PY{n+nf}{forward}\\PY{p}{(}\\PY{n+nb+bp}{self}\\PY{p}{,} \\PY{n+nb}{input}\\PY{p}{,} \\PY{n}{hidden}\\PY{o}{=}\\PY{k+kc}{None}\\PY{p}{)}\\PY{p}{:}\n",
       "        \\PY{c+c1}{\\PYZsh{} Apply word embedding to input}\n",
       "        \\PY{n}{embedded} \\PY{o}{=} \\PY{n+nb+bp}{self}\\PY{o}{.}\\PY{n}{embedding}\\PY{p}{(}\\PY{n+nb}{input}\\PY{p}{)}\n",
       "\n",
       "        \\PY{c+c1}{\\PYZsh{} Forward pass through the RNN layer}\n",
       "        \\PY{k}{if} \\PY{n}{hidden} \\PY{o+ow}{is} \\PY{o+ow}{not} \\PY{k+kc}{None}\\PY{p}{:}\n",
       "            \\PY{n}{output}\\PY{p}{,} \\PY{n}{hidden} \\PY{o}{=} \\PY{n+nb+bp}{self}\\PY{o}{.}\\PY{n}{rnn}\\PY{p}{(}\\PY{n}{embedded}\\PY{p}{,} \\PY{n}{hidden}\\PY{p}{)}\n",
       "        \\PY{k}{else}\\PY{p}{:}\n",
       "            \\PY{n}{output}\\PY{p}{,} \\PY{n}{hidden} \\PY{o}{=} \\PY{n+nb+bp}{self}\\PY{o}{.}\\PY{n}{rnn}\\PY{p}{(}\\PY{n}{embedded}\\PY{p}{)}\n",
       "\\end{Verbatim}\n"
      ],
      "text/plain": [
       "    def forward(self, input, hidden=None):\n",
       "        # Apply word embedding to input\n",
       "        embedded = self.embedding(input)\n",
       "\n",
       "        # Forward pass through the RNN layer\n",
       "        if hidden is not None:\n",
       "            output, hidden = self.rnn(embedded, hidden)\n",
       "        else:\n",
       "            output, hidden = self.rnn(embedded)\n"
      ]
     },
     "execution_count": 11,
     "metadata": {},
     "output_type": "execute_result"
    }
   ],
   "source": [
    "Code(data=''.join([line for line in open('mymodel.py')][35:45]), language='python')"
   ]
  },
  {
   "cell_type": "code",
   "execution_count": 12,
   "metadata": {},
   "outputs": [],
   "source": [
    "import time\n",
    "import math\n",
    "\n",
    "def train():\n",
    "    model.train()\n",
    "    hidden = model.init_hidden(batch_size)\n",
    "    \n",
    "    for batch, i in enumerate(range(0, train_data.size(0) - 1, l_seq)):\n",
    "        data, targets = get_batch(train_data, i, l_seq)\n",
    "        \n",
    "        optimizer.zero_grad()\n",
    "        hidden = repackage_hidden(hidden)\n",
    "        output, hidden = model(data, hidden)\n",
    "        loss = loss_fn(output, targets)\n",
    "        loss.backward()\n",
    "        \n",
    "        torch.nn.utils.clip_grad_norm_(model.parameters(), clip)\n",
    "        optimizer.step()\n",
    "    \n",
    "    model.epoch += 1"
   ]
  },
  {
   "cell_type": "markdown",
   "metadata": {},
   "source": [
    "Similarly we modify the `evaluate()`function to also pass the hidden state to the model and detach the hidden state:"
   ]
  },
  {
   "cell_type": "code",
   "execution_count": 13,
   "metadata": {},
   "outputs": [],
   "source": [
    "def evaluate(data_source):\n",
    "    # Turn on evaluation mode which disables dropout.\n",
    "    model.eval()\n",
    "    total_loss = 0.\n",
    "    ntokens = len(corpus.dictionary)\n",
    "    \n",
    "    hidden = model.init_hidden(batch_size)\n",
    "    \n",
    "    with torch.no_grad():\n",
    "        for i in range(0, data_source.size(0) - 1, l_seq):\n",
    "            data, targets = get_batch(data_source, i, l_seq)\n",
    "            output, hidden = model(data, hidden)\n",
    "            hidden = repackage_hidden(hidden)\n",
    "            total_loss += len(data) * loss_fn(output, targets).item()\n",
    "    return total_loss / (len(data_source) - 1)"
   ]
  },
  {
   "cell_type": "markdown",
   "metadata": {},
   "source": [
    "With all code modifications in place, we can now train our model with improved information flow."
   ]
  },
  {
   "cell_type": "code",
   "execution_count": 14,
   "metadata": {},
   "outputs": [
    {
     "name": "stdout",
     "output_type": "stream",
     "text": [
      "------------------------------------------------------------------------------\n",
      "|              |             |       loss        |        perplexity         |\n",
      "| end of epoch |     time    |-------------------|---------------------------|\n",
      "|              |             |  train  |  valid  |    train    |    valid    |\n",
      "------------------------------------------------------------------------------\n",
      "------------------------------------------------------------------------------\n",
      "|            1 |        27.4s |    6.11 |    6.09 |      448.42 |      442.51 |\n",
      "------------------------------------------------------------------------------\n",
      "|            2 |        27.3s |    5.89 |    5.89 |      361.79 |      362.06 |\n",
      "------------------------------------------------------------------------------\n",
      "|            3 |        27.2s |    5.75 |    5.77 |      315.54 |      321.24 |\n",
      "------------------------------------------------------------------------------\n",
      "|            4 |        27.4s |    5.65 |    5.69 |      285.00 |      295.36 |\n",
      "------------------------------------------------------------------------------\n",
      "|            5 |        27.2s |    5.58 |    5.63 |      264.26 |      278.78 |\n",
      "------------------------------------------------------------------------------\n",
      "|            6 |        27.1s |    5.51 |    5.59 |      248.34 |      266.49 |\n",
      "------------------------------------------------------------------------------\n",
      "|            7 |        27.0s |    5.46 |    5.54 |      234.22 |      255.70 |\n",
      "------------------------------------------------------------------------------\n",
      "|            8 |        27.1s |    5.41 |    5.52 |      224.16 |      248.47 |\n",
      "------------------------------------------------------------------------------\n",
      "|            9 |        27.2s |    5.37 |    5.49 |      215.21 |      241.67 |\n",
      "------------------------------------------------------------------------------\n",
      "|           10 |        27.0s |    5.34 |    5.47 |      208.35 |      236.95 |\n",
      "------------------------------------------------------------------------------\n",
      "|           11 |        27.1s |    5.31 |    5.45 |      201.66 |      232.33 |\n",
      "------------------------------------------------------------------------------\n",
      "|           12 |        26.9s |    5.28 |    5.43 |      196.18 |      228.79 |\n",
      "------------------------------------------------------------------------------\n",
      "|           13 |        27.0s |    5.25 |    5.42 |      191.30 |      225.77 |\n",
      "------------------------------------------------------------------------------\n",
      "|           14 |        27.0s |    5.23 |    5.41 |      187.03 |      222.90 |\n",
      "------------------------------------------------------------------------------\n",
      "|           15 |        27.0s |    5.20 |    5.39 |      182.06 |      219.04 |\n",
      "------------------------------------------------------------------------------\n",
      "|           16 |        27.0s |    5.18 |    5.38 |      178.52 |      216.92 |\n",
      "------------------------------------------------------------------------------\n",
      "|           17 |        27.1s |    5.16 |    5.37 |      174.86 |      214.95 |\n",
      "------------------------------------------------------------------------------\n",
      "|           18 |        27.1s |    5.15 |    5.36 |      172.03 |      213.36 |\n",
      "------------------------------------------------------------------------------\n",
      "|           19 |        27.0s |    5.13 |    5.36 |      169.78 |      212.48 |\n",
      "------------------------------------------------------------------------------\n",
      "|           20 |        27.1s |    5.12 |    5.35 |      166.73 |      211.04 |\n",
      "------------------------------------------------------------------------------\n",
      "|           21 |        27.1s |    5.10 |    5.34 |      163.46 |      208.33 |\n",
      "------------------------------------------------------------------------------\n",
      "|           22 |        27.1s |    5.09 |    5.33 |      161.85 |      207.37 |\n",
      "------------------------------------------------------------------------------\n",
      "|           23 |        27.0s |    5.07 |    5.33 |      159.68 |      206.80 |\n",
      "------------------------------------------------------------------------------\n",
      "|           24 |        27.0s |    5.06 |    5.32 |      157.22 |      205.11 |\n",
      "------------------------------------------------------------------------------\n",
      "|           25 |        27.0s |    5.05 |    5.32 |      155.62 |      204.58 |\n",
      "------------------------------------------------------------------------------\n",
      "|           26 |        27.1s |    5.03 |    5.31 |      152.71 |      202.33 |\n",
      "------------------------------------------------------------------------------\n",
      "|           27 |        27.1s |    5.02 |    5.31 |      151.76 |      202.54 |\n",
      "------------------------------------------------------------------------------\n",
      "|           28 |        27.0s |    5.01 |    5.31 |      150.09 |      201.52 |\n",
      "------------------------------------------------------------------------------\n",
      "|           29 |        27.0s |    4.99 |    5.30 |      147.67 |      199.42 |\n",
      "------------------------------------------------------------------------------\n",
      "|           30 |        27.0s |    5.00 |    5.31 |      147.88 |      201.48 |\n",
      "------------------------------------------------------------------------------\n",
      "|           31 |        27.1s |    4.98 |    5.29 |      145.21 |      198.98 |\n",
      "------------------------------------------------------------------------------\n",
      "|           32 |        27.1s |    4.97 |    5.29 |      143.67 |      198.04 |\n",
      "------------------------------------------------------------------------------\n",
      "|           33 |        27.0s |    4.96 |    5.29 |      142.48 |      197.73 |\n",
      "------------------------------------------------------------------------------\n",
      "|           34 |        27.0s |    4.95 |    5.28 |      141.27 |      196.98 |\n",
      "------------------------------------------------------------------------------\n",
      "|           35 |        27.0s |    4.95 |    5.29 |      141.00 |      198.13 |\n",
      "------------------------------------------------------------------------------\n",
      "|           36 |        27.0s |    4.93 |    5.28 |      138.30 |      195.64 |\n",
      "------------------------------------------------------------------------------\n",
      "|           37 |        27.0s |    4.92 |    5.27 |      136.65 |      195.06 |\n",
      "------------------------------------------------------------------------------\n",
      "|           38 |        27.1s |    4.91 |    5.27 |      136.17 |      194.52 |\n",
      "------------------------------------------------------------------------------\n",
      "|           39 |        27.1s |    4.91 |    5.27 |      135.26 |      194.75 |\n",
      "------------------------------------------------------------------------------\n",
      "|           40 |        27.0s |    4.89 |    5.26 |      133.22 |      193.28 |\n",
      "------------------------------------------------------------------------------\n",
      "|           41 |        27.0s |    4.88 |    5.26 |      132.24 |      193.16 |\n",
      "------------------------------------------------------------------------------\n",
      "|           42 |        27.1s |    4.88 |    5.26 |      131.23 |      192.27 |\n",
      "------------------------------------------------------------------------------\n",
      "|           43 |        27.0s |    4.87 |    5.26 |      130.08 |      191.89 |\n",
      "------------------------------------------------------------------------------\n",
      "|           44 |        27.1s |    4.87 |    5.26 |      129.96 |      193.07 |\n",
      "------------------------------------------------------------------------------\n",
      "|           45 |        27.0s |    4.85 |    5.25 |      127.95 |      190.95 |\n",
      "------------------------------------------------------------------------------\n",
      "|           46 |        27.0s |    4.85 |    5.25 |      127.58 |      191.33 |\n",
      "------------------------------------------------------------------------------\n",
      "|           47 |        27.1s |    4.84 |    5.25 |      126.67 |      191.47 |\n",
      "------------------------------------------------------------------------------\n",
      "|           48 |        27.0s |    4.84 |    5.26 |      127.05 |      192.96 |\n",
      "------------------------------------------------------------------------------\n",
      "|           49 |        27.0s |    4.83 |    5.25 |      124.60 |      190.51 |\n",
      "------------------------------------------------------------------------------\n",
      "|           50 |        27.0s |    4.82 |    5.25 |      123.73 |      189.72 |\n",
      "------------------------------------------------------------------------------\n"
     ]
    }
   ],
   "source": [
    "# Loop over epochs.\n",
    "best_val_loss = None\n",
    "fname = 'exercise3_iif.torch'\n",
    "fname_best = 'exercise3_iif_best.torch'\n",
    "\n",
    "from fcns import print_log_head, load_model\n",
    "from os.path import exists\n",
    "\n",
    "if not exists(fname):\n",
    "    model = MyNetwork().to(device)\n",
    "    loss_fn = torch.nn.CrossEntropyLoss()\n",
    "    optimizer = optim.SGD(model.parameters(), lr = lr, weight_decay = 0, momentum = 0.0)\n",
    "    print_log_head()\n",
    "    train_nepochs(nepochs, fname, fname_best)\n",
    "else:\n",
    "    model = load_model(fname)"
   ]
  },
  {
   "cell_type": "markdown",
   "metadata": {},
   "source": [
    "We plot the train and validation loss as a function of epoch below. Overall the loss looks very similar to the previous part, where we introduced gradient clipping. "
   ]
  },
  {
   "cell_type": "code",
   "execution_count": 15,
   "metadata": {},
   "outputs": [
    {
     "data": {
      "text/plain": [
       "<matplotlib.legend.Legend at 0x7f757a133b90>"
      ]
     },
     "execution_count": 15,
     "metadata": {},
     "output_type": "execute_result"
    },
    {
     "data": {
      "image/png": "[encoded data removed]",
      "text/plain": [
       "<Figure size 640x480 with 1 Axes>"
      ]
     },
     "metadata": {},
     "output_type": "display_data"
    }
   ],
   "source": [
    "import matplotlib.pyplot as plt\n",
    "import numpy as np\n",
    "fig, ax = plt.subplots()\n",
    "\n",
    "ax.plot(np.arange(1, len(model.train_loss)+1), model.train_loss, label='train loss')\n",
    "ax.plot(np.arange(1, len(model.val_loss)+1), model.val_loss, label='validation loss')\n",
    "ax.legend()"
   ]
  },
  {
   "cell_type": "code",
   "execution_count": 16,
   "metadata": {},
   "outputs": [
    {
     "name": "stdout",
     "output_type": "stream",
     "text": [
      "Best model obtained in epoch                   50\n",
      "The perpelexity in the validation set is   189.72\n",
      "The perpelexity in the test set is         177.91\n"
     ]
    }
   ],
   "source": [
    "model = torch.load(fname_best)\n",
    "test_loss = evaluate(val_data)\n",
    "print('Best model obtained in epoch                  ', model.epoch)\n",
    "print('The perpelexity in the validation set is {:8.2f}'.format(math.exp(test_loss)))\n",
    "test_loss = evaluate(test_data)\n",
    "print('The perpelexity in the test set is       {:8.2f}'.format(math.exp(test_loss)))"
   ]
  },
  {
   "cell_type": "markdown",
   "metadata": {},
   "source": [
    "## Gated units\n",
    "\n",
    "We now replace the Elman RNN by the LSTM. This is easily done "
   ]
  },
  {
   "cell_type": "code",
   "execution_count": 17,
   "metadata": {},
   "outputs": [],
   "source": [
    "model = MyNetwork(rnn_type='LSTM').to(device)\n",
    "loss_fn = torch.nn.CrossEntropyLoss()\n",
    "optimizer = optim.SGD(model.parameters(), lr = lr, weight_decay = 0, momentum = 0.0)"
   ]
  },
  {
   "cell_type": "code",
   "execution_count": 18,
   "metadata": {},
   "outputs": [
    {
     "name": "stdout",
     "output_type": "stream",
     "text": [
      "------------------------------------------------------------------------------\n",
      "|              |             |       loss        |        perplexity         |\n",
      "| end of epoch |     time    |-------------------|---------------------------|\n",
      "|              |             |  train  |  valid  |    train    |    valid    |\n",
      "------------------------------------------------------------------------------\n",
      "------------------------------------------------------------------------------\n",
      "|           50 |      1504.2s |    4.62 |    5.09 |      101.54 |      162.13 |\n",
      "------------------------------------------------------------------------------\n"
     ]
    }
   ],
   "source": [
    "fname = 'exercise3_lstm.torch'\n",
    "fname_best = 'exercise3_lstm_best.torch'\n",
    "\n",
    "if not exists(fname):\n",
    "    print_log_head()\n",
    "    train_nepochs(nepochs, fname, fname_best)\n",
    "else:\n",
    "    model = load_model(fname)"
   ]
  },
  {
   "cell_type": "code",
   "execution_count": 19,
   "metadata": {},
   "outputs": [
    {
     "data": {
      "text/plain": [
       "<matplotlib.legend.Legend at 0x7f757968bb90>"
      ]
     },
     "execution_count": 19,
     "metadata": {},
     "output_type": "execute_result"
    },
    {
     "data": {
      "image/png": "[encoded data removed]",
      "text/plain": [
       "<Figure size 640x480 with 1 Axes>"
      ]
     },
     "metadata": {},
     "output_type": "display_data"
    }
   ],
   "source": [
    "import matplotlib.pyplot as plt\n",
    "import numpy as np\n",
    "fig, ax = plt.subplots()\n",
    "\n",
    "ax.plot(np.arange(1, len(model.train_loss)+1), model.train_loss, label='train loss')\n",
    "ax.plot(np.arange(1, len(model.val_loss)+1), model.val_loss, label='validation loss')\n",
    "ax.legend()"
   ]
  },
  {
   "cell_type": "code",
   "execution_count": 20,
   "metadata": {},
   "outputs": [
    {
     "name": "stdout",
     "output_type": "stream",
     "text": [
      "The perpelexity in the test set is   153.93\n"
     ]
    }
   ],
   "source": [
    "model = torch.load('exercise3_lstm.torch')\n",
    "test_loss = evaluate(test_data)\n",
    "print('The perpelexity in the test set is {:8.2f}'.format(math.exp(test_loss)))"
   ]
  },
  {
   "cell_type": "markdown",
   "metadata": {},
   "source": [
    "## Improving the model further"
   ]
  },
  {
   "cell_type": "markdown",
   "metadata": {},
   "source": [
    "### Increasing the number of layers"
   ]
  },
  {
   "cell_type": "code",
   "execution_count": 21,
   "metadata": {},
   "outputs": [
    {
     "name": "stdout",
     "output_type": "stream",
     "text": [
      "------------------------------------------------------------------------------\n",
      "|              |             |       loss        |        perplexity         |\n",
      "| end of epoch |     time    |-------------------|---------------------------|\n",
      "|              |             |  train  |  valid  |    train    |    valid    |\n",
      "------------------------------------------------------------------------------\n",
      "------------------------------------------------------------------------------\n",
      "|           50 |      1731.3s |    4.62 |    5.07 |      101.28 |      159.86 |\n",
      "------------------------------------------------------------------------------\n"
     ]
    }
   ],
   "source": [
    "fname = 'exercise3_lnl.torch'\n",
    "fname_best = 'exercise3_lnl_best.torch'\n",
    "\n",
    "if not exists(fname):\n",
    "    model = MyNetwork(rnn_type='LSTM', nlayers=2).to(device)\n",
    "    loss_fn = torch.nn.CrossEntropyLoss()\n",
    "    optimizer = optim.SGD(model.parameters(), lr = lr, weight_decay = 0, momentum = 0.0)\n",
    "    print_log_head()\n",
    "    train_nepochs(nepochs, fname, fname_best)\n",
    "else:\n",
    "    model = load_model(fname)"
   ]
  },
  {
   "cell_type": "code",
   "execution_count": 22,
   "metadata": {},
   "outputs": [
    {
     "data": {
      "text/plain": [
       "<matplotlib.legend.Legend at 0x7f757a00a050>"
      ]
     },
     "execution_count": 22,
     "metadata": {},
     "output_type": "execute_result"
    },
    {
     "data": {
      "image/png": "[encoded data removed]",
      "text/plain": [
       "<Figure size 640x480 with 1 Axes>"
      ]
     },
     "metadata": {},
     "output_type": "display_data"
    }
   ],
   "source": [
    "import matplotlib.pyplot as plt\n",
    "import numpy as np\n",
    "fig, ax = plt.subplots()\n",
    "\n",
    "ax.plot(np.arange(1, len(model.train_loss)+1), model.train_loss, label='train loss')\n",
    "ax.plot(np.arange(1, len(model.val_loss)+1), model.val_loss, label='validation loss')\n",
    "ax.legend()"
   ]
  },
  {
   "cell_type": "code",
   "execution_count": 23,
   "metadata": {},
   "outputs": [
    {
     "name": "stdout",
     "output_type": "stream",
     "text": [
      "The perpelexity in the test set is   154.27\n"
     ]
    }
   ],
   "source": [
    "model = torch.load(fname_best)\n",
    "test_loss = evaluate(test_data)\n",
    "print('The perpelexity in the test set is {:8.2f}'.format(math.exp(test_loss)))"
   ]
  },
  {
   "cell_type": "markdown",
   "metadata": {},
   "source": [
    "### Use a learning rate scheduler"
   ]
  },
  {
   "cell_type": "code",
   "execution_count": 24,
   "metadata": {},
   "outputs": [],
   "source": [
    "def train_nepochs(nepochs, fname, fname_best):\n",
    "    \n",
    "    for epoch in range(1, nepochs+1):\n",
    "        \n",
    "        epoch_start_time = time.time()\n",
    "        train()\n",
    "        \n",
    "        model.train_loss.append(evaluate(train_data))\n",
    "        model.val_loss.append(evaluate(val_data))\n",
    "\n",
    "        scheduler.step(model.val_loss[-1])\n",
    "        \n",
    "        time_epoch = time.time() - epoch_start_time\n",
    "        model.time += time_epoch\n",
    "        \n",
    "        print('|          {:3d} |   {:9.1f}s |   {:5.2f} |   {:5.2f} |    {:8.2f} |    {:8.2f} |'\\\n",
    "              .format(model.epoch, time_epoch, model.train_loss[-1], model.val_loss[-1], \n",
    "                  math.exp(model.train_loss[-1]), math.exp(model.val_loss[-1])))\n",
    "        print('-' * 78)\n",
    "        \n",
    "        # Save the model if the validation loss is the best we've seen so far.\n",
    "        if len(model.val_loss) == 1 or model.val_loss[-1] < min(model.val_loss[:-1]):\n",
    "            with open(fname_best, 'wb') as f:\n",
    "                torch.save(model, f)\n",
    "        \n",
    "        with open(fname, 'wb') as f:\n",
    "            torch.save(model, f)"
   ]
  },
  {
   "cell_type": "code",
   "execution_count": 25,
   "metadata": {},
   "outputs": [
    {
     "name": "stdout",
     "output_type": "stream",
     "text": [
      "------------------------------------------------------------------------------\n",
      "|              |             |       loss        |        perplexity         |\n",
      "| end of epoch |     time    |-------------------|---------------------------|\n",
      "|              |             |  train  |  valid  |    train    |    valid    |\n",
      "------------------------------------------------------------------------------\n",
      "------------------------------------------------------------------------------\n",
      "|           50 |      1723.1s |    4.40 |    5.01 |       81.82 |      150.44 |\n",
      "------------------------------------------------------------------------------\n"
     ]
    }
   ],
   "source": [
    "lr = 10\n",
    "fname = 'exercise3_lrsched.torch'\n",
    "fname_best = 'exercise3_lrsched_best.torch'\n",
    "\n",
    "if not exists(fname):\n",
    "    model = MyNetwork(rnn_type='LSTM', nlayers=2).to(device)\n",
    "    loss_fn = torch.nn.CrossEntropyLoss()\n",
    "    optimizer = optim.SGD(model.parameters(), lr = lr, weight_decay = 0, momentum = 0.0)\n",
    "    scheduler = torch.optim.lr_scheduler.ReduceLROnPlateau(optimizer, 'min', patience=3)\n",
    "    print_log_head()\n",
    "    train_nepochs(nepochs, fname, fname_best)\n",
    "else:\n",
    "    model = load_model(fname)"
   ]
  },
  {
   "cell_type": "code",
   "execution_count": 26,
   "metadata": {},
   "outputs": [
    {
     "data": {
      "text/plain": [
       "<matplotlib.legend.Legend at 0x7f7579737610>"
      ]
     },
     "execution_count": 26,
     "metadata": {},
     "output_type": "execute_result"
    },
    {
     "data": {
      "image/png": "[encoded data removed]",
      "text/plain": [
       "<Figure size 640x480 with 1 Axes>"
      ]
     },
     "metadata": {},
     "output_type": "display_data"
    }
   ],
   "source": [
    "import matplotlib.pyplot as plt\n",
    "import numpy as np\n",
    "fig, ax = plt.subplots()\n",
    "\n",
    "ax.plot(np.arange(1, len(model.train_loss)+1), model.train_loss, label='train loss')\n",
    "ax.plot(np.arange(1, len(model.val_loss)+1), model.val_loss, label='validation loss')\n",
    "ax.legend()"
   ]
  },
  {
   "cell_type": "markdown",
   "metadata": {},
   "source": [
    "With the 2 layers in the LSTM network and using a learning rate shceduler we reach an improved perplexity rating of 142.38 on the test set:"
   ]
  },
  {
   "cell_type": "code",
   "execution_count": 27,
   "metadata": {},
   "outputs": [
    {
     "name": "stdout",
     "output_type": "stream",
     "text": [
      "The perpelexity in the test set is   143.02\n"
     ]
    }
   ],
   "source": [
    "model = torch.load(fname_best)\n",
    "test_loss = evaluate(test_data)\n",
    "print('The perpelexity in the test set is {:8.2f}'.format(math.exp(test_loss)))"
   ]
  }
 ],
 "metadata": {
  "kernelspec": {
   "display_name": "pytorch",
   "language": "python",
   "name": "pytorch"
  },
  "language_info": {
   "codemirror_mode": {
    "name": "ipython",
    "version": 3
   },
   "file_extension": ".py",
   "mimetype": "text/x-python",
   "name": "python",
   "nbconvert_exporter": "python",
   "pygments_lexer": "ipython3",
   "version": "3.11.5"
  },
  "widgets": {
   "application/vnd.jupyter.widget-state+json": {
    "state": {},
    "version_major": 2,
    "version_minor": 0
   }
  }
 },
 "nbformat": 4,
 "nbformat_minor": 4
}
