{
 "cells": [
  {
   "cell_type": "markdown",
   "metadata": {},
   "source": [
    "# Exercise 3 -- Improving the recurrent model\n",
    "\n",
    "In this exercise we will try different ways to improve the performance of the RNN model on the PTB data set."
   ]
  },
  {
   "cell_type": "markdown",
   "metadata": {},
   "source": [
    "## Gradient clipping\n",
    "\n",
    "As a first step, we consider the effect of gradient clipping. Gradient clipping reduces the maximum magnitude of the gradient during parameter update to a selectable value $M$. In other words during gradient descent, new parameters $\\theta_k$ are determined by applying\n",
    "$$\n",
    "\\theta_k = \\theta_{k-1} - \\gamma \\nabla J(\\theta_{k-1})\n",
    "$$\n",
    "where $\\nabla J(\\theta_{k-1})$ is the gradient and $\\gamma$ the learning rate. Gradient clipping then corresponds to introduction of a function\n",
    "$$\n",
    "clip_M(\\theta) = \n",
    "\\begin{cases}\n",
    "\\theta & \\mathrm{if} ||\\theta|| \\leq M \\\\\n",
    "M \\frac{\\theta}{||\\theta||} \\qquad & \\mathrm{if} ||\\theta|| \\leq M\n",
    "\\end{cases}\n",
    "$$\n",
    "which is applied during parameter update as follows:\n",
    "$$\n",
    "\\theta_k = \\theta_{k-1} - \\gamma clip_M(\\theta)(\\nabla J(\\theta_{k-1})).\n",
    "$$\n",
    "We set our model and training loops up as in exercise 2, but use the gradient clipping routine `clip_grad_norm_()` provided by pytorch in the `train()` function and also increase the learning rate as that should be safely possible with gradient clipping. "
   ]
  },
  {
   "cell_type": "code",
   "execution_count": 1,
   "metadata": {},
   "outputs": [],
   "source": [
    "import torch\n",
    "from mymodel import MyNetwork\n",
    "torch.manual_seed(3932324365)\n",
    "device = torch.device(\"cuda\")\n",
    "model = MyNetwork().to(device)"
   ]
  },
  {
   "cell_type": "code",
   "execution_count": 2,
   "metadata": {},
   "outputs": [],
   "source": [
    "from corpus import Corpus\n",
    "corpus = Corpus('ptb_data')\n",
    "\n",
    "batch_size = 100\n",
    "l_seq = 20\n",
    "\n",
    "from fcns import batchify, get_batch\n",
    "train_data = batchify(corpus.train, batch_size).to(device)\n",
    "val_data = batchify(corpus.valid, batch_size).to(device)\n",
    "test_data = batchify(corpus.test, batch_size).to(device)"
   ]
  },
  {
   "cell_type": "code",
   "execution_count": 3,
   "metadata": {},
   "outputs": [],
   "source": [
    "import torch.optim as optim\n",
    "lr = 10\n",
    "loss_fn = torch.nn.CrossEntropyLoss()\n",
    "optimizer = optim.SGD(model.parameters(), lr = lr, weight_decay = 0, momentum = 0.0)"
   ]
  },
  {
   "cell_type": "code",
   "execution_count": 4,
   "metadata": {},
   "outputs": [],
   "source": [
    "import time\n",
    "import math\n",
    "\n",
    "def train():\n",
    "    model.train()\n",
    "    \n",
    "    for batch, i in enumerate(range(0, train_data.size(0) - 1, l_seq)):\n",
    "        data, targets = get_batch(train_data, i, l_seq)\n",
    "        \n",
    "        optimizer.zero_grad()\n",
    "        \n",
    "        output, hidden = model(data)\n",
    "        loss = loss_fn(output, targets)\n",
    "        loss.backward()\n",
    "        \n",
    "        torch.nn.utils.clip_grad_norm_(model.parameters(), clip)\n",
    "        optimizer.step()"
   ]
  },
  {
   "cell_type": "code",
   "execution_count": 5,
   "metadata": {},
   "outputs": [],
   "source": [
    "def evaluate(data_source):\n",
    "    # Turn on evaluation mode which disables dropout.\n",
    "    model.eval()\n",
    "    total_loss = 0.\n",
    "    ntokens = len(corpus.dictionary)\n",
    "    \n",
    "    hidden = model.init_hidden(batch_size)\n",
    "    \n",
    "    with torch.no_grad():\n",
    "        for i in range(0, data_source.size(0) - 1, l_seq):\n",
    "            data, targets = get_batch(data_source, i, l_seq)\n",
    "            output, hidden = model(data, hidden)\n",
    "            total_loss += len(data) * loss_fn(output, targets).item()\n",
    "    return total_loss / (len(data_source) - 1)"
   ]
  },
  {
   "cell_type": "code",
   "execution_count": 34,
   "metadata": {},
   "outputs": [],
   "source": [
    "def train_nepochs(nepochs, best_val_loss, fname):\n",
    "    \n",
    "    train_loss = []\n",
    "    val_loss = []\n",
    "    \n",
    "    for epoch in range(1, nepochs+1):\n",
    "        \n",
    "        epoch_start_time = time.time()\n",
    "        train()\n",
    "        train_loss.append(evaluate(train_data))\n",
    "        val_loss.append(evaluate(val_data))\n",
    "        \n",
    "        time_epoch = time.time() - epoch_start_time\n",
    "        model.time += time_epoch\n",
    "        \n",
    "        print('|          {:3d} |   {:9.1f}s |   {:5.2f} |   {:5.2f} |    {:8.2f} |    {:8.2f} |'\\\n",
    "              .format(model.epoch, time_epoch, model.train_loss[-1], model.val_loss[-1], \n",
    "                  math.exp(model.train_loss[-1]), math.exp(model.val_loss[-1])))\n",
    "        print('-' * 78)\n",
    "        \n",
    "        # Save the model if the validation loss is the best we've seen so far.\n",
    "        if len(model.val_loss) == 1 or model.val_loss[-1] < min(model.val_loss[:-1]):\n",
    "            with open(fname_best, 'wb') as f:\n",
    "                torch.save(model, f)\n",
    "        \n",
    "        with open(fname, 'wb') as f:\n",
    "            torch.save(model, f)"
   ]
  },
  {
   "cell_type": "markdown",
   "metadata": {},
   "source": [
    "With everything in place, we can proceed with the training of our model:"
   ]
  },
  {
   "cell_type": "code",
   "execution_count": 33,
   "metadata": {},
   "outputs": [
    {
     "name": "stdout",
     "output_type": "stream",
     "text": [
      "---------------------------------------------------------------------------\n",
      "|              |          |       loss        |        perplexity         |\n",
      "| end of epoch |   time   |-------------------|---------------------------|\n",
      "|              |          |  train  |  valid  |    train    |    valid    |\n",
      "---------------------------------------------------------------------------\n",
      "---------------------------------------------------------------------------\n",
      "|            0 |    0.00s |    4.43 |    5.01 |       84.06 |      149.39 |\n",
      "---------------------------------------------------------------------------\n"
     ]
    }
   ],
   "source": [
    "# Loop over epochs.\n",
    "best_val_loss = None\n",
    "nepochs = 50\n",
    "log_interval = 1000\n",
    "clip = .1\n",
    "fname = 'exercise3_gc.torch'\n",
    "fname_best = 'exercise3_gc_best.torch'\n",
    "\n",
    "from fcns import print_log_head, load_model\n",
    "from os.path import exists\n",
    "\n",
    "if not exists(fname):\n",
    "    print_log_head()\n",
    "    train_nepochs(nepochs, fname, fname_best)\n",
    "else:\n",
    "    model = load_model(fname)"
   ]
  },
  {
   "cell_type": "markdown",
   "metadata": {},
   "source": [
    "We plot now the training and validation loss of the model in the figure below. Compared to the loss obtained in exercise 2, we find that the loss is a lot smoother as a function of epoch due to the effect of the gradient clipping. This indicates also, that the spikeyness observed in connection with exercise 2 is probably a mild form of the *exploding gradient* problem in RNNs. Furthermore gradient clipping allowed us to increase the learning rate and obatin a better validation loss than we got without gradient clipping."
   ]
  },
  {
   "cell_type": "code",
   "execution_count": null,
   "metadata": {},
   "outputs": [],
   "source": [
    "import matplotlib.pyplot as plt\n",
    "import numpy as np\n",
    "fig, ax = plt.subplots()\n",
    "\n",
    "ax.plot(np.arange(1, len(train_loss)+1), train_loss, label='train loss')\n",
    "ax.plot(np.arange(1, len(val_loss)+1), val_loss, label='validation loss')\n",
    "ax.legend()"
   ]
  },
  {
   "cell_type": "markdown",
   "metadata": {},
   "source": [
    "Overfitting to the training data from about epoch 26 on. Annealing of learning rate could be advisable."
   ]
  },
  {
   "cell_type": "markdown",
   "metadata": {},
   "source": [
    "## Improving the flow of information\n",
    "\n",
    "In order to improve the flow of information, we pass the hidden state on to the next training iteration. This is simply achieved by adding the hidden state to the inputs of the `model()` call. However we also need to prevent the model from backpropagating through the training iterations. We achieve this by wrapping the hidden state tensor into a new tensor, which is detached from its \"history\" in each iteration of the training loop. The following code snippets show the approach."
   ]
  },
  {
   "cell_type": "code",
   "execution_count": 9,
   "metadata": {},
   "outputs": [
    {
     "data": {
      "text/html": [
       "<style>pre { line-height: 125%; }\n",
       "td.linenos .normal { color: inherit; background-color: transparent; padding-left: 5px; padding-right: 5px; }\n",
       "span.linenos { color: inherit; background-color: transparent; padding-left: 5px; padding-right: 5px; }\n",
       "td.linenos .special { color: #000000; background-color: #ffffc0; padding-left: 5px; padding-right: 5px; }\n",
       "span.linenos.special { color: #000000; background-color: #ffffc0; padding-left: 5px; padding-right: 5px; }\n",
       ".output_html .hll { background-color: #ffffcc }\n",
       ".output_html { background: #f8f8f8; }\n",
       ".output_html .c { color: #3D7B7B; font-style: italic } /* Comment */\n",
       ".output_html .err { border: 1px solid #FF0000 } /* Error */\n",
       ".output_html .k { color: #008000; font-weight: bold } /* Keyword */\n",
       ".output_html .o { color: #666666 } /* Operator */\n",
       ".output_html .ch { color: #3D7B7B; font-style: italic } /* Comment.Hashbang */\n",
       ".output_html .cm { color: #3D7B7B; font-style: italic } /* Comment.Multiline */\n",
       ".output_html .cp { color: #9C6500 } /* Comment.Preproc */\n",
       ".output_html .cpf { color: #3D7B7B; font-style: italic } /* Comment.PreprocFile */\n",
       ".output_html .c1 { color: #3D7B7B; font-style: italic } /* Comment.Single */\n",
       ".output_html .cs { color: #3D7B7B; font-style: italic } /* Comment.Special */\n",
       ".output_html .gd { color: #A00000 } /* Generic.Deleted */\n",
       ".output_html .ge { font-style: italic } /* Generic.Emph */\n",
       ".output_html .gr { color: #E40000 } /* Generic.Error */\n",
       ".output_html .gh { color: #000080; font-weight: bold } /* Generic.Heading */\n",
       ".output_html .gi { color: #008400 } /* Generic.Inserted */\n",
       ".output_html .go { color: #717171 } /* Generic.Output */\n",
       ".output_html .gp { color: #000080; font-weight: bold } /* Generic.Prompt */\n",
       ".output_html .gs { font-weight: bold } /* Generic.Strong */\n",
       ".output_html .gu { color: #800080; font-weight: bold } /* Generic.Subheading */\n",
       ".output_html .gt { color: #0044DD } /* Generic.Traceback */\n",
       ".output_html .kc { color: #008000; font-weight: bold } /* Keyword.Constant */\n",
       ".output_html .kd { color: #008000; font-weight: bold } /* Keyword.Declaration */\n",
       ".output_html .kn { color: #008000; font-weight: bold } /* Keyword.Namespace */\n",
       ".output_html .kp { color: #008000 } /* Keyword.Pseudo */\n",
       ".output_html .kr { color: #008000; font-weight: bold } /* Keyword.Reserved */\n",
       ".output_html .kt { color: #B00040 } /* Keyword.Type */\n",
       ".output_html .m { color: #666666 } /* Literal.Number */\n",
       ".output_html .s { color: #BA2121 } /* Literal.String */\n",
       ".output_html .na { color: #687822 } /* Name.Attribute */\n",
       ".output_html .nb { color: #008000 } /* Name.Builtin */\n",
       ".output_html .nc { color: #0000FF; font-weight: bold } /* Name.Class */\n",
       ".output_html .no { color: #880000 } /* Name.Constant */\n",
       ".output_html .nd { color: #AA22FF } /* Name.Decorator */\n",
       ".output_html .ni { color: #717171; font-weight: bold } /* Name.Entity */\n",
       ".output_html .ne { color: #CB3F38; font-weight: bold } /* Name.Exception */\n",
       ".output_html .nf { color: #0000FF } /* Name.Function */\n",
       ".output_html .nl { color: #767600 } /* Name.Label */\n",
       ".output_html .nn { color: #0000FF; font-weight: bold } /* Name.Namespace */\n",
       ".output_html .nt { color: #008000; font-weight: bold } /* Name.Tag */\n",
       ".output_html .nv { color: #19177C } /* Name.Variable */\n",
       ".output_html .ow { color: #AA22FF; font-weight: bold } /* Operator.Word */\n",
       ".output_html .w { color: #bbbbbb } /* Text.Whitespace */\n",
       ".output_html .mb { color: #666666 } /* Literal.Number.Bin */\n",
       ".output_html .mf { color: #666666 } /* Literal.Number.Float */\n",
       ".output_html .mh { color: #666666 } /* Literal.Number.Hex */\n",
       ".output_html .mi { color: #666666 } /* Literal.Number.Integer */\n",
       ".output_html .mo { color: #666666 } /* Literal.Number.Oct */\n",
       ".output_html .sa { color: #BA2121 } /* Literal.String.Affix */\n",
       ".output_html .sb { color: #BA2121 } /* Literal.String.Backtick */\n",
       ".output_html .sc { color: #BA2121 } /* Literal.String.Char */\n",
       ".output_html .dl { color: #BA2121 } /* Literal.String.Delimiter */\n",
       ".output_html .sd { color: #BA2121; font-style: italic } /* Literal.String.Doc */\n",
       ".output_html .s2 { color: #BA2121 } /* Literal.String.Double */\n",
       ".output_html .se { color: #AA5D1F; font-weight: bold } /* Literal.String.Escape */\n",
       ".output_html .sh { color: #BA2121 } /* Literal.String.Heredoc */\n",
       ".output_html .si { color: #A45A77; font-weight: bold } /* Literal.String.Interpol */\n",
       ".output_html .sx { color: #008000 } /* Literal.String.Other */\n",
       ".output_html .sr { color: #A45A77 } /* Literal.String.Regex */\n",
       ".output_html .s1 { color: #BA2121 } /* Literal.String.Single */\n",
       ".output_html .ss { color: #19177C } /* Literal.String.Symbol */\n",
       ".output_html .bp { color: #008000 } /* Name.Builtin.Pseudo */\n",
       ".output_html .fm { color: #0000FF } /* Name.Function.Magic */\n",
       ".output_html .vc { color: #19177C } /* Name.Variable.Class */\n",
       ".output_html .vg { color: #19177C } /* Name.Variable.Global */\n",
       ".output_html .vi { color: #19177C } /* Name.Variable.Instance */\n",
       ".output_html .vm { color: #19177C } /* Name.Variable.Magic */\n",
       ".output_html .il { color: #666666 } /* Literal.Number.Integer.Long */</style><div class=\"highlight\"><pre><span></span><span class=\"k\">def</span> <span class=\"nf\">repackage_hidden</span><span class=\"p\">(</span><span class=\"n\">h</span><span class=\"p\">):</span>\n",
       "<span class=\"w\">    </span><span class=\"sd\">&quot;&quot;&quot; Credit for this function:</span>\n",
       "<span class=\"sd\">        https://github.com/pytorch/examples/blob/main/word_language_model/main.py</span>\n",
       "<span class=\"sd\">    &quot;&quot;&quot;</span>\n",
       "    <span class=\"k\">if</span> <span class=\"nb\">isinstance</span><span class=\"p\">(</span><span class=\"n\">h</span><span class=\"p\">,</span> <span class=\"n\">torch</span><span class=\"o\">.</span><span class=\"n\">Tensor</span><span class=\"p\">):</span>\n",
       "        <span class=\"k\">return</span> <span class=\"n\">h</span><span class=\"o\">.</span><span class=\"n\">detach</span><span class=\"p\">()</span>\n",
       "    <span class=\"k\">else</span><span class=\"p\">:</span>\n",
       "        <span class=\"k\">return</span> <span class=\"nb\">tuple</span><span class=\"p\">(</span><span class=\"n\">repackage_hidden</span><span class=\"p\">(</span><span class=\"n\">v</span><span class=\"p\">)</span> <span class=\"k\">for</span> <span class=\"n\">v</span> <span class=\"ow\">in</span> <span class=\"n\">h</span><span class=\"p\">)</span>\n",
       "</pre></div>\n"
      ],
      "text/latex": [
       "\\begin{Verbatim}[commandchars=\\\\\\{\\}]\n",
       "\\PY{k}{def} \\PY{n+nf}{repackage\\PYZus{}hidden}\\PY{p}{(}\\PY{n}{h}\\PY{p}{)}\\PY{p}{:}\n",
       "\\PY{+w}{    }\\PY{l+s+sd}{\\PYZdq{}\\PYZdq{}\\PYZdq{} Credit for this function:}\n",
       "\\PY{l+s+sd}{        https://github.com/pytorch/examples/blob/main/word\\PYZus{}language\\PYZus{}model/main.py}\n",
       "\\PY{l+s+sd}{    \\PYZdq{}\\PYZdq{}\\PYZdq{}}\n",
       "    \\PY{k}{if} \\PY{n+nb}{isinstance}\\PY{p}{(}\\PY{n}{h}\\PY{p}{,} \\PY{n}{torch}\\PY{o}{.}\\PY{n}{Tensor}\\PY{p}{)}\\PY{p}{:}\n",
       "        \\PY{k}{return} \\PY{n}{h}\\PY{o}{.}\\PY{n}{detach}\\PY{p}{(}\\PY{p}{)}\n",
       "    \\PY{k}{else}\\PY{p}{:}\n",
       "        \\PY{k}{return} \\PY{n+nb}{tuple}\\PY{p}{(}\\PY{n}{repackage\\PYZus{}hidden}\\PY{p}{(}\\PY{n}{v}\\PY{p}{)} \\PY{k}{for} \\PY{n}{v} \\PY{o+ow}{in} \\PY{n}{h}\\PY{p}{)}\n",
       "\\end{Verbatim}\n"
      ],
      "text/plain": [
       "def repackage_hidden(h):\n",
       "    \"\"\" Credit for this function:\n",
       "        https://github.com/pytorch/examples/blob/main/word_language_model/main.py\n",
       "    \"\"\"\n",
       "    if isinstance(h, torch.Tensor):\n",
       "        return h.detach()\n",
       "    else:\n",
       "        return tuple(repackage_hidden(v) for v in h)"
      ]
     },
     "execution_count": 9,
     "metadata": {},
     "output_type": "execute_result"
    }
   ],
   "source": [
    "from fcns import repackage_hidden\n",
    "from IPython.display import Code\n",
    "Code(data=''.join([line for line in open('fcns.py')][34:42]), language='python')"
   ]
  },
  {
   "cell_type": "code",
   "execution_count": 10,
   "metadata": {},
   "outputs": [
    {
     "data": {
      "text/html": [
       "<style>pre { line-height: 125%; }\n",
       "td.linenos .normal { color: inherit; background-color: transparent; padding-left: 5px; padding-right: 5px; }\n",
       "span.linenos { color: inherit; background-color: transparent; padding-left: 5px; padding-right: 5px; }\n",
       "td.linenos .special { color: #000000; background-color: #ffffc0; padding-left: 5px; padding-right: 5px; }\n",
       "span.linenos.special { color: #000000; background-color: #ffffc0; padding-left: 5px; padding-right: 5px; }\n",
       ".output_html .hll { background-color: #ffffcc }\n",
       ".output_html { background: #f8f8f8; }\n",
       ".output_html .c { color: #3D7B7B; font-style: italic } /* Comment */\n",
       ".output_html .err { border: 1px solid #FF0000 } /* Error */\n",
       ".output_html .k { color: #008000; font-weight: bold } /* Keyword */\n",
       ".output_html .o { color: #666666 } /* Operator */\n",
       ".output_html .ch { color: #3D7B7B; font-style: italic } /* Comment.Hashbang */\n",
       ".output_html .cm { color: #3D7B7B; font-style: italic } /* Comment.Multiline */\n",
       ".output_html .cp { color: #9C6500 } /* Comment.Preproc */\n",
       ".output_html .cpf { color: #3D7B7B; font-style: italic } /* Comment.PreprocFile */\n",
       ".output_html .c1 { color: #3D7B7B; font-style: italic } /* Comment.Single */\n",
       ".output_html .cs { color: #3D7B7B; font-style: italic } /* Comment.Special */\n",
       ".output_html .gd { color: #A00000 } /* Generic.Deleted */\n",
       ".output_html .ge { font-style: italic } /* Generic.Emph */\n",
       ".output_html .gr { color: #E40000 } /* Generic.Error */\n",
       ".output_html .gh { color: #000080; font-weight: bold } /* Generic.Heading */\n",
       ".output_html .gi { color: #008400 } /* Generic.Inserted */\n",
       ".output_html .go { color: #717171 } /* Generic.Output */\n",
       ".output_html .gp { color: #000080; font-weight: bold } /* Generic.Prompt */\n",
       ".output_html .gs { font-weight: bold } /* Generic.Strong */\n",
       ".output_html .gu { color: #800080; font-weight: bold } /* Generic.Subheading */\n",
       ".output_html .gt { color: #0044DD } /* Generic.Traceback */\n",
       ".output_html .kc { color: #008000; font-weight: bold } /* Keyword.Constant */\n",
       ".output_html .kd { color: #008000; font-weight: bold } /* Keyword.Declaration */\n",
       ".output_html .kn { color: #008000; font-weight: bold } /* Keyword.Namespace */\n",
       ".output_html .kp { color: #008000 } /* Keyword.Pseudo */\n",
       ".output_html .kr { color: #008000; font-weight: bold } /* Keyword.Reserved */\n",
       ".output_html .kt { color: #B00040 } /* Keyword.Type */\n",
       ".output_html .m { color: #666666 } /* Literal.Number */\n",
       ".output_html .s { color: #BA2121 } /* Literal.String */\n",
       ".output_html .na { color: #687822 } /* Name.Attribute */\n",
       ".output_html .nb { color: #008000 } /* Name.Builtin */\n",
       ".output_html .nc { color: #0000FF; font-weight: bold } /* Name.Class */\n",
       ".output_html .no { color: #880000 } /* Name.Constant */\n",
       ".output_html .nd { color: #AA22FF } /* Name.Decorator */\n",
       ".output_html .ni { color: #717171; font-weight: bold } /* Name.Entity */\n",
       ".output_html .ne { color: #CB3F38; font-weight: bold } /* Name.Exception */\n",
       ".output_html .nf { color: #0000FF } /* Name.Function */\n",
       ".output_html .nl { color: #767600 } /* Name.Label */\n",
       ".output_html .nn { color: #0000FF; font-weight: bold } /* Name.Namespace */\n",
       ".output_html .nt { color: #008000; font-weight: bold } /* Name.Tag */\n",
       ".output_html .nv { color: #19177C } /* Name.Variable */\n",
       ".output_html .ow { color: #AA22FF; font-weight: bold } /* Operator.Word */\n",
       ".output_html .w { color: #bbbbbb } /* Text.Whitespace */\n",
       ".output_html .mb { color: #666666 } /* Literal.Number.Bin */\n",
       ".output_html .mf { color: #666666 } /* Literal.Number.Float */\n",
       ".output_html .mh { color: #666666 } /* Literal.Number.Hex */\n",
       ".output_html .mi { color: #666666 } /* Literal.Number.Integer */\n",
       ".output_html .mo { color: #666666 } /* Literal.Number.Oct */\n",
       ".output_html .sa { color: #BA2121 } /* Literal.String.Affix */\n",
       ".output_html .sb { color: #BA2121 } /* Literal.String.Backtick */\n",
       ".output_html .sc { color: #BA2121 } /* Literal.String.Char */\n",
       ".output_html .dl { color: #BA2121 } /* Literal.String.Delimiter */\n",
       ".output_html .sd { color: #BA2121; font-style: italic } /* Literal.String.Doc */\n",
       ".output_html .s2 { color: #BA2121 } /* Literal.String.Double */\n",
       ".output_html .se { color: #AA5D1F; font-weight: bold } /* Literal.String.Escape */\n",
       ".output_html .sh { color: #BA2121 } /* Literal.String.Heredoc */\n",
       ".output_html .si { color: #A45A77; font-weight: bold } /* Literal.String.Interpol */\n",
       ".output_html .sx { color: #008000 } /* Literal.String.Other */\n",
       ".output_html .sr { color: #A45A77 } /* Literal.String.Regex */\n",
       ".output_html .s1 { color: #BA2121 } /* Literal.String.Single */\n",
       ".output_html .ss { color: #19177C } /* Literal.String.Symbol */\n",
       ".output_html .bp { color: #008000 } /* Name.Builtin.Pseudo */\n",
       ".output_html .fm { color: #0000FF } /* Name.Function.Magic */\n",
       ".output_html .vc { color: #19177C } /* Name.Variable.Class */\n",
       ".output_html .vg { color: #19177C } /* Name.Variable.Global */\n",
       ".output_html .vi { color: #19177C } /* Name.Variable.Instance */\n",
       ".output_html .vm { color: #19177C } /* Name.Variable.Magic */\n",
       ".output_html .il { color: #666666 } /* Literal.Number.Integer.Long */</style><div class=\"highlight\"><pre><span></span>    \n",
       "    <span class=\"k\">def</span> <span class=\"nf\">forward</span><span class=\"p\">(</span><span class=\"bp\">self</span><span class=\"p\">,</span> <span class=\"nb\">input</span><span class=\"p\">,</span> <span class=\"n\">hidden</span><span class=\"o\">=</span><span class=\"kc\">None</span><span class=\"p\">):</span>\n",
       "        <span class=\"c1\"># Apply word embedding to input</span>\n",
       "        <span class=\"n\">embedded</span> <span class=\"o\">=</span> <span class=\"bp\">self</span><span class=\"o\">.</span><span class=\"n\">embedding</span><span class=\"p\">(</span><span class=\"nb\">input</span><span class=\"p\">)</span>\n",
       "\n",
       "        <span class=\"c1\"># Forward pass through the RNN layer</span>\n",
       "        <span class=\"k\">if</span> <span class=\"n\">hidden</span> <span class=\"ow\">is</span> <span class=\"ow\">not</span> <span class=\"kc\">None</span><span class=\"p\">:</span>\n",
       "            <span class=\"n\">output</span><span class=\"p\">,</span> <span class=\"n\">hidden</span> <span class=\"o\">=</span> <span class=\"bp\">self</span><span class=\"o\">.</span><span class=\"n\">rnn</span><span class=\"p\">(</span><span class=\"n\">embedded</span><span class=\"p\">,</span> <span class=\"n\">hidden</span><span class=\"p\">)</span>\n",
       "        <span class=\"k\">else</span><span class=\"p\">:</span>\n",
       "            <span class=\"n\">output</span><span class=\"p\">,</span> <span class=\"n\">hidden</span> <span class=\"o\">=</span> <span class=\"bp\">self</span><span class=\"o\">.</span><span class=\"n\">rnn</span><span class=\"p\">(</span><span class=\"n\">embedded</span><span class=\"p\">)</span>\n",
       "\n",
       "        <span class=\"c1\"># Apply the output layer and return the output</span>\n",
       "        <span class=\"n\">output</span> <span class=\"o\">=</span> <span class=\"bp\">self</span><span class=\"o\">.</span><span class=\"n\">output_layer</span><span class=\"p\">(</span><span class=\"n\">output</span><span class=\"p\">)</span><span class=\"o\">.</span><span class=\"n\">view</span><span class=\"p\">(</span><span class=\"o\">-</span><span class=\"mi\">1</span><span class=\"p\">,</span> <span class=\"bp\">self</span><span class=\"o\">.</span><span class=\"n\">vocab_size</span><span class=\"p\">)</span>\n",
       "        \n",
       "</pre></div>\n"
      ],
      "text/latex": [
       "\\begin{Verbatim}[commandchars=\\\\\\{\\}]\n",
       "    \n",
       "    \\PY{k}{def} \\PY{n+nf}{forward}\\PY{p}{(}\\PY{n+nb+bp}{self}\\PY{p}{,} \\PY{n+nb}{input}\\PY{p}{,} \\PY{n}{hidden}\\PY{o}{=}\\PY{k+kc}{None}\\PY{p}{)}\\PY{p}{:}\n",
       "        \\PY{c+c1}{\\PYZsh{} Apply word embedding to input}\n",
       "        \\PY{n}{embedded} \\PY{o}{=} \\PY{n+nb+bp}{self}\\PY{o}{.}\\PY{n}{embedding}\\PY{p}{(}\\PY{n+nb}{input}\\PY{p}{)}\n",
       "\n",
       "        \\PY{c+c1}{\\PYZsh{} Forward pass through the RNN layer}\n",
       "        \\PY{k}{if} \\PY{n}{hidden} \\PY{o+ow}{is} \\PY{o+ow}{not} \\PY{k+kc}{None}\\PY{p}{:}\n",
       "            \\PY{n}{output}\\PY{p}{,} \\PY{n}{hidden} \\PY{o}{=} \\PY{n+nb+bp}{self}\\PY{o}{.}\\PY{n}{rnn}\\PY{p}{(}\\PY{n}{embedded}\\PY{p}{,} \\PY{n}{hidden}\\PY{p}{)}\n",
       "        \\PY{k}{else}\\PY{p}{:}\n",
       "            \\PY{n}{output}\\PY{p}{,} \\PY{n}{hidden} \\PY{o}{=} \\PY{n+nb+bp}{self}\\PY{o}{.}\\PY{n}{rnn}\\PY{p}{(}\\PY{n}{embedded}\\PY{p}{)}\n",
       "\n",
       "        \\PY{c+c1}{\\PYZsh{} Apply the output layer and return the output}\n",
       "        \\PY{n}{output} \\PY{o}{=} \\PY{n+nb+bp}{self}\\PY{o}{.}\\PY{n}{output\\PYZus{}layer}\\PY{p}{(}\\PY{n}{output}\\PY{p}{)}\\PY{o}{.}\\PY{n}{view}\\PY{p}{(}\\PY{o}{\\PYZhy{}}\\PY{l+m+mi}{1}\\PY{p}{,} \\PY{n+nb+bp}{self}\\PY{o}{.}\\PY{n}{vocab\\PYZus{}size}\\PY{p}{)}\n",
       "        \n",
       "\\end{Verbatim}\n"
      ],
      "text/plain": [
       "    \n",
       "    def forward(self, input, hidden=None):\n",
       "        # Apply word embedding to input\n",
       "        embedded = self.embedding(input)\n",
       "\n",
       "        # Forward pass through the RNN layer\n",
       "        if hidden is not None:\n",
       "            output, hidden = self.rnn(embedded, hidden)\n",
       "        else:\n",
       "            output, hidden = self.rnn(embedded)\n",
       "\n",
       "        # Apply the output layer and return the output\n",
       "        output = self.output_layer(output).view(-1, self.vocab_size)\n",
       "        "
      ]
     },
     "execution_count": 10,
     "metadata": {},
     "output_type": "execute_result"
    }
   ],
   "source": [
    "Code(data=''.join([line for line in open('mymodel.py')][31:45]), language='python')"
   ]
  },
  {
   "cell_type": "code",
   "execution_count": 11,
   "metadata": {},
   "outputs": [],
   "source": [
    "import time\n",
    "import math\n",
    "\n",
    "def train():\n",
    "    model.train()\n",
    "    hidden = model.init_hidden(batch_size)\n",
    "    \n",
    "    for batch, i in enumerate(range(0, train_data.size(0) - 1, l_seq)):\n",
    "        data, targets = get_batch(train_data, i, l_seq)\n",
    "        \n",
    "        optimizer.zero_grad()\n",
    "        hidden = repackage_hidden(hidden)\n",
    "        output, hidden = model(data, hidden)\n",
    "        loss = loss_fn(output, targets)\n",
    "        loss.backward()\n",
    "        \n",
    "        torch.nn.utils.clip_grad_norm_(model.parameters(), clip)\n",
    "        optimizer.step()"
   ]
  },
  {
   "cell_type": "markdown",
   "metadata": {},
   "source": [
    "Similarly we modify the `evaluate()`function to also pass the hidden state to the model:"
   ]
  },
  {
   "cell_type": "code",
   "execution_count": 12,
   "metadata": {},
   "outputs": [],
   "source": [
    "def evaluate(data_source):\n",
    "    # Turn on evaluation mode which disables dropout.\n",
    "    model.eval()\n",
    "    total_loss = 0.\n",
    "    ntokens = len(corpus.dictionary)\n",
    "    \n",
    "    hidden = model.init_hidden(batch_size)\n",
    "    \n",
    "    with torch.no_grad():\n",
    "        for i in range(0, data_source.size(0) - 1, l_seq):\n",
    "            data, targets = get_batch(data_source, i, l_seq)\n",
    "            output, hidden = model(data, hidden)\n",
    "            hidden = repackage_hidden(hidden)\n",
    "            total_loss += len(data) * loss_fn(output, targets).item()\n",
    "    return total_loss / (len(data_source) - 1)"
   ]
  },
  {
   "cell_type": "markdown",
   "metadata": {},
   "source": [
    "With all code modifications in place, we can now train our model with improved information flow."
   ]
  },
  {
   "cell_type": "code",
   "execution_count": 35,
   "metadata": {},
   "outputs": [
    {
     "name": "stdout",
     "output_type": "stream",
     "text": [
      "---------------------------------------------------------------------------\n",
      "|              |          |       loss        |        perplexity         |\n",
      "| end of epoch |   time   |-------------------|---------------------------|\n",
      "|              |          |  train  |  valid  |    train    |    valid    |\n",
      "---------------------------------------------------------------------------\n",
      "---------------------------------------------------------------------------\n"
     ]
    },
    {
     "ename": "NameError",
     "evalue": "name 'fname_best' is not defined",
     "output_type": "error",
     "traceback": [
      "\u001b[0;31m---------------------------------------------------------------------------\u001b[0m",
      "\u001b[0;31mNameError\u001b[0m                                 Traceback (most recent call last)",
      "Cell \u001b[0;32mIn[35], line 15\u001b[0m\n\u001b[1;32m     13\u001b[0m     optimizer \u001b[38;5;241m=\u001b[39m optim\u001b[38;5;241m.\u001b[39mSGD(model\u001b[38;5;241m.\u001b[39mparameters(), lr \u001b[38;5;241m=\u001b[39m lr, weight_decay \u001b[38;5;241m=\u001b[39m \u001b[38;5;241m0\u001b[39m, momentum \u001b[38;5;241m=\u001b[39m \u001b[38;5;241m0.0\u001b[39m)\n\u001b[1;32m     14\u001b[0m     print_log_head()\n\u001b[0;32m---> 15\u001b[0m     train_nepochs(nepochs, fname, \u001b[43mfname_best\u001b[49m)\n\u001b[1;32m     16\u001b[0m \u001b[38;5;28;01melse\u001b[39;00m:\n\u001b[1;32m     17\u001b[0m     model \u001b[38;5;241m=\u001b[39m load_model(fname)\n",
      "\u001b[0;31mNameError\u001b[0m: name 'fname_best' is not defined"
     ]
    }
   ],
   "source": [
    "# Loop over epochs.\n",
    "best_val_loss = None\n",
    "nepochs = 50\n",
    "lr = 5\n",
    "clip = .1\n",
    "fname = 'exercise3_iif.torch'\n",
    "fname_best = 'exercise3_iif_best.torch'\n",
    "\n",
    "if not exists(fname):\n",
    "    model = MyNetwork().to(device)\n",
    "    loss_fn = torch.nn.CrossEntropyLoss()\n",
    "    optimizer = optim.SGD(model.parameters(), lr = lr, weight_decay = 0, momentum = 0.0)\n",
    "    print_log_head()\n",
    "    train_nepochs(nepochs, fname, fname_best)\n",
    "else:\n",
    "    model = load_model(fname)"
   ]
  },
  {
   "cell_type": "code",
   "execution_count": 14,
   "metadata": {},
   "outputs": [
    {
     "data": {
      "text/plain": [
       "<matplotlib.legend.Legend at 0x7f6fceb39650>"
      ]
     },
     "execution_count": 14,
     "metadata": {},
     "output_type": "execute_result"
    },
    {
     "data": {
      "image/png": "[encoded data removed]",
      "text/plain": [
       "<Figure size 640x480 with 1 Axes>"
      ]
     },
     "metadata": {},
     "output_type": "display_data"
    }
   ],
   "source": [
    "import matplotlib.pyplot as plt\n",
    "import numpy as np\n",
    "fig, ax = plt.subplots()\n",
    "\n",
    "ax.plot(np.arange(1, len(model.train_loss)+1), train_loss, label='train loss')\n",
    "ax.plot(np.arange(1, len(model.val_loss)+1), val_loss, label='validation loss')\n",
    "ax.legend()"
   ]
  },
  {
   "cell_type": "markdown",
   "metadata": {},
   "source": [
    "## Gated units\n",
    "\n",
    "We now replace the Elman RNN by the LSTM. This is easily done "
   ]
  },
  {
   "cell_type": "code",
   "execution_count": 15,
   "metadata": {},
   "outputs": [],
   "source": [
    "model = MyNetwork(rnn_type='LSTM').to(device)\n",
    "loss_fn = torch.nn.CrossEntropyLoss()\n",
    "optimizer = optim.SGD(model.parameters(), lr = lr, weight_decay = 0, momentum = 0.0)"
   ]
  },
  {
   "cell_type": "code",
   "execution_count": 16,
   "metadata": {},
   "outputs": [
    {
     "name": "stdout",
     "output_type": "stream",
     "text": [
      "---------------------------------------------------------------------------\n",
      "|              |          |       loss        |        perplexity         |\n",
      "| end of epoch |   time   |-------------------|---------------------------|\n",
      "|              |          |  train  |  valid  |    train    |    valid    |\n",
      "---------------------------------------------------------------------------\n",
      "---------------------------------------------------------------------------\n",
      "|            1 |   30.51s |    6.18 |    6.17 |      482.93 |      477.86 |\n",
      "---------------------------------------------------------------------------\n",
      "|            2 |   30.67s |    5.95 |    5.95 |      383.73 |      383.15 |\n",
      "---------------------------------------------------------------------------\n",
      "|            3 |   31.06s |    5.80 |    5.81 |      329.02 |      332.11 |\n",
      "---------------------------------------------------------------------------\n",
      "|            4 |   31.42s |    5.68 |    5.70 |      292.76 |      299.81 |\n",
      "---------------------------------------------------------------------------\n",
      "|            5 |   31.58s |    5.59 |    5.63 |      267.35 |      278.14 |\n",
      "---------------------------------------------------------------------------\n",
      "|            6 |   31.06s |    5.51 |    5.57 |      247.83 |      261.94 |\n",
      "---------------------------------------------------------------------------\n",
      "|            7 |   31.68s |    5.45 |    5.52 |      232.23 |      249.28 |\n",
      "---------------------------------------------------------------------------\n",
      "|            8 |   31.44s |    5.39 |    5.48 |      219.40 |      239.00 |\n",
      "---------------------------------------------------------------------------\n",
      "|            9 |   31.37s |    5.34 |    5.44 |      208.68 |      230.57 |\n",
      "---------------------------------------------------------------------------\n",
      "|           10 |   31.49s |    5.30 |    5.41 |      199.57 |      223.58 |\n",
      "---------------------------------------------------------------------------\n",
      "|           11 |   31.77s |    5.26 |    5.38 |      191.63 |      217.58 |\n",
      "---------------------------------------------------------------------------\n",
      "|           12 |   31.46s |    5.22 |    5.36 |      184.58 |      212.29 |\n",
      "---------------------------------------------------------------------------\n",
      "|           13 |   31.33s |    5.18 |    5.34 |      178.36 |      207.67 |\n",
      "---------------------------------------------------------------------------\n",
      "|           14 |   31.81s |    5.15 |    5.32 |      172.84 |      203.62 |\n",
      "---------------------------------------------------------------------------\n",
      "|           15 |   31.85s |    5.12 |    5.30 |      167.88 |      200.03 |\n",
      "---------------------------------------------------------------------------\n",
      "|           16 |   31.51s |    5.10 |    5.28 |      163.37 |      196.81 |\n",
      "---------------------------------------------------------------------------\n",
      "|           17 |   31.50s |    5.07 |    5.27 |      159.25 |      193.92 |\n",
      "---------------------------------------------------------------------------\n",
      "|           18 |   31.83s |    5.05 |    5.25 |      155.48 |      191.33 |\n",
      "---------------------------------------------------------------------------\n",
      "|           19 |   31.78s |    5.02 |    5.24 |      152.01 |      189.00 |\n",
      "---------------------------------------------------------------------------\n",
      "|           20 |   31.52s |    5.00 |    5.23 |      148.79 |      186.90 |\n",
      "---------------------------------------------------------------------------\n",
      "|           21 |   31.66s |    4.98 |    5.22 |      145.81 |      185.01 |\n",
      "---------------------------------------------------------------------------\n",
      "|           22 |   31.93s |    4.96 |    5.21 |      143.04 |      183.29 |\n",
      "---------------------------------------------------------------------------\n",
      "|           23 |   31.61s |    4.94 |    5.20 |      140.45 |      181.72 |\n",
      "---------------------------------------------------------------------------\n",
      "|           24 |   31.58s |    4.93 |    5.19 |      138.02 |      180.27 |\n",
      "---------------------------------------------------------------------------\n",
      "|           25 |   31.64s |    4.91 |    5.19 |      135.73 |      178.93 |\n",
      "---------------------------------------------------------------------------\n",
      "|           26 |   31.91s |    4.89 |    5.18 |      133.57 |      177.69 |\n",
      "---------------------------------------------------------------------------\n",
      "|           27 |   31.97s |    4.88 |    5.17 |      131.53 |      176.55 |\n",
      "---------------------------------------------------------------------------\n",
      "|           28 |   32.04s |    4.86 |    5.17 |      129.61 |      175.52 |\n",
      "---------------------------------------------------------------------------\n",
      "|           29 |   31.82s |    4.85 |    5.16 |      127.78 |      174.58 |\n",
      "---------------------------------------------------------------------------\n",
      "|           30 |   31.60s |    4.84 |    5.16 |      126.03 |      173.69 |\n",
      "---------------------------------------------------------------------------\n",
      "|           31 |   31.34s |    4.82 |    5.15 |      124.36 |      172.86 |\n",
      "---------------------------------------------------------------------------\n",
      "|           32 |   31.33s |    4.81 |    5.15 |      122.76 |      172.06 |\n",
      "---------------------------------------------------------------------------\n",
      "|           33 |   31.14s |    4.80 |    5.14 |      121.22 |      171.32 |\n",
      "---------------------------------------------------------------------------\n",
      "|           34 |   31.13s |    4.79 |    5.14 |      119.72 |      170.59 |\n",
      "---------------------------------------------------------------------------\n",
      "|           35 |   31.16s |    4.77 |    5.14 |      118.29 |      169.93 |\n",
      "---------------------------------------------------------------------------\n",
      "|           36 |   31.05s |    4.76 |    5.13 |      116.91 |      169.31 |\n",
      "---------------------------------------------------------------------------\n",
      "|           37 |   30.94s |    4.75 |    5.13 |      115.58 |      168.74 |\n",
      "---------------------------------------------------------------------------\n",
      "|           38 |   30.79s |    4.74 |    5.13 |      114.31 |      168.20 |\n",
      "---------------------------------------------------------------------------\n",
      "|           39 |   30.86s |    4.73 |    5.12 |      113.10 |      167.72 |\n",
      "---------------------------------------------------------------------------\n",
      "|           40 |   30.80s |    4.72 |    5.12 |      111.92 |      167.25 |\n",
      "---------------------------------------------------------------------------\n",
      "|           41 |   30.88s |    4.71 |    5.12 |      110.78 |      166.83 |\n",
      "---------------------------------------------------------------------------\n",
      "|           42 |   31.18s |    4.70 |    5.11 |      109.69 |      166.44 |\n",
      "---------------------------------------------------------------------------\n",
      "|           43 |   30.86s |    4.69 |    5.11 |      108.64 |      166.09 |\n",
      "---------------------------------------------------------------------------\n",
      "|           44 |   30.96s |    4.68 |    5.11 |      107.64 |      165.78 |\n",
      "---------------------------------------------------------------------------\n",
      "|           45 |   30.68s |    4.67 |    5.11 |      106.67 |      165.50 |\n",
      "---------------------------------------------------------------------------\n",
      "|           46 |   30.89s |    4.66 |    5.11 |      105.74 |      165.26 |\n",
      "---------------------------------------------------------------------------\n",
      "|           47 |   30.85s |    4.65 |    5.11 |      104.82 |      165.02 |\n",
      "---------------------------------------------------------------------------\n",
      "|           48 |   30.62s |    4.64 |    5.10 |      103.95 |      164.81 |\n",
      "---------------------------------------------------------------------------\n",
      "|           49 |   30.62s |    4.64 |    5.10 |      103.08 |      164.59 |\n",
      "---------------------------------------------------------------------------\n",
      "|           50 |   30.60s |    4.63 |    5.10 |      102.24 |      164.38 |\n",
      "---------------------------------------------------------------------------\n"
     ]
    }
   ],
   "source": [
    "# Loop over epochs.\n",
    "best_val_loss = None\n",
    "nepochs = 50\n",
    "log_interval = 1000\n",
    "clip = .1\n",
    "fname = 'exercise3_lstm.torch'\n",
    "fname_best = 'exercise3_lstm_best.torch'\n",
    "\n",
    "if not exists(fname):\n",
    "    print_log_head()\n",
    "    train_nepochs(nepochs, fname, fname_best)\n",
    "else:\n",
    "    model = load_model(fname)"
   ]
  },
  {
   "cell_type": "code",
   "execution_count": 36,
   "metadata": {},
   "outputs": [
    {
     "ename": "AttributeError",
     "evalue": "'MyNetwork' object has no attribute 'train_loss'",
     "output_type": "error",
     "traceback": [
      "\u001b[0;31m---------------------------------------------------------------------------\u001b[0m",
      "\u001b[0;31mAttributeError\u001b[0m                            Traceback (most recent call last)",
      "Cell \u001b[0;32mIn[36], line 5\u001b[0m\n\u001b[1;32m      2\u001b[0m \u001b[38;5;28;01mimport\u001b[39;00m \u001b[38;5;21;01mnumpy\u001b[39;00m \u001b[38;5;28;01mas\u001b[39;00m \u001b[38;5;21;01mnp\u001b[39;00m\n\u001b[1;32m      3\u001b[0m fig, ax \u001b[38;5;241m=\u001b[39m plt\u001b[38;5;241m.\u001b[39msubplots()\n\u001b[0;32m----> 5\u001b[0m ax\u001b[38;5;241m.\u001b[39mplot(np\u001b[38;5;241m.\u001b[39marange(\u001b[38;5;241m1\u001b[39m, \u001b[38;5;28mlen\u001b[39m(\u001b[43mmodel\u001b[49m\u001b[38;5;241;43m.\u001b[39;49m\u001b[43mtrain_loss\u001b[49m)\u001b[38;5;241m+\u001b[39m\u001b[38;5;241m1\u001b[39m), train_loss, label\u001b[38;5;241m=\u001b[39m\u001b[38;5;124m'\u001b[39m\u001b[38;5;124mtrain loss\u001b[39m\u001b[38;5;124m'\u001b[39m)\n\u001b[1;32m      6\u001b[0m ax\u001b[38;5;241m.\u001b[39mplot(np\u001b[38;5;241m.\u001b[39marange(\u001b[38;5;241m1\u001b[39m, \u001b[38;5;28mlen\u001b[39m(model\u001b[38;5;241m.\u001b[39mval_loss)\u001b[38;5;241m+\u001b[39m\u001b[38;5;241m1\u001b[39m), val_loss, label\u001b[38;5;241m=\u001b[39m\u001b[38;5;124m'\u001b[39m\u001b[38;5;124mvalidation loss\u001b[39m\u001b[38;5;124m'\u001b[39m)\n\u001b[1;32m      7\u001b[0m ax\u001b[38;5;241m.\u001b[39mlegend()\n",
      "File \u001b[0;32m~/code/python-venvs/pytorch/lib64/python3.11/site-packages/torch/nn/modules/module.py:1614\u001b[0m, in \u001b[0;36mModule.__getattr__\u001b[0;34m(self, name)\u001b[0m\n\u001b[1;32m   1612\u001b[0m     \u001b[38;5;28;01mif\u001b[39;00m name \u001b[38;5;129;01min\u001b[39;00m modules:\n\u001b[1;32m   1613\u001b[0m         \u001b[38;5;28;01mreturn\u001b[39;00m modules[name]\n\u001b[0;32m-> 1614\u001b[0m \u001b[38;5;28;01mraise\u001b[39;00m \u001b[38;5;167;01mAttributeError\u001b[39;00m(\u001b[38;5;124m\"\u001b[39m\u001b[38;5;124m'\u001b[39m\u001b[38;5;132;01m{}\u001b[39;00m\u001b[38;5;124m'\u001b[39m\u001b[38;5;124m object has no attribute \u001b[39m\u001b[38;5;124m'\u001b[39m\u001b[38;5;132;01m{}\u001b[39;00m\u001b[38;5;124m'\u001b[39m\u001b[38;5;124m\"\u001b[39m\u001b[38;5;241m.\u001b[39mformat(\n\u001b[1;32m   1615\u001b[0m     \u001b[38;5;28mtype\u001b[39m(\u001b[38;5;28mself\u001b[39m)\u001b[38;5;241m.\u001b[39m\u001b[38;5;18m__name__\u001b[39m, name))\n",
      "\u001b[0;31mAttributeError\u001b[0m: 'MyNetwork' object has no attribute 'train_loss'"
     ]
    },
    {
     "data": {
      "image/png": "[encoded data removed]",
      "text/plain": [
       "<Figure size 640x480 with 1 Axes>"
      ]
     },
     "metadata": {},
     "output_type": "display_data"
    }
   ],
   "source": [
    "import matplotlib.pyplot as plt\n",
    "import numpy as np\n",
    "fig, ax = plt.subplots()\n",
    "\n",
    "ax.plot(np.arange(1, len(model.train_loss)+1), train_loss, label='train loss')\n",
    "ax.plot(np.arange(1, len(model.val_loss)+1), val_loss, label='validation loss')\n",
    "ax.legend()"
   ]
  },
  {
   "cell_type": "code",
   "execution_count": 18,
   "metadata": {},
   "outputs": [
    {
     "name": "stdout",
     "output_type": "stream",
     "text": [
      "The perpelexity in the test set is   155.05\n"
     ]
    }
   ],
   "source": [
    "model = torch.load('exercise3_lstm.torch')\n",
    "test_loss = evaluate(test_data)\n",
    "print('The perpelexity in the test set is {:8.2f}'.format(math.exp(test_loss)))"
   ]
  },
  {
   "cell_type": "markdown",
   "metadata": {},
   "source": [
    "## Improving the model further"
   ]
  },
  {
   "cell_type": "markdown",
   "metadata": {},
   "source": [
    "### Increasing the number of layers"
   ]
  },
  {
   "cell_type": "code",
   "execution_count": 19,
   "metadata": {},
   "outputs": [
    {
     "name": "stdout",
     "output_type": "stream",
     "text": [
      "---------------------------------------------------------------------------\n",
      "|              |          |       loss        |        perplexity         |\n",
      "| end of epoch |   time   |-------------------|---------------------------|\n",
      "|              |          |  train  |  valid  |    train    |    valid    |\n",
      "---------------------------------------------------------------------------\n",
      "---------------------------------------------------------------------------\n",
      "|            1 |   35.19s |    6.50 |    6.49 |      664.68 |      659.69 |\n",
      "---------------------------------------------------------------------------\n",
      "|            2 |   36.14s |    6.24 |    6.24 |      513.63 |      512.40 |\n",
      "---------------------------------------------------------------------------\n",
      "|            3 |   37.14s |    6.01 |    6.01 |      406.12 |      405.51 |\n",
      "---------------------------------------------------------------------------\n",
      "|            4 |   35.70s |    5.85 |    5.86 |      346.08 |      350.06 |\n",
      "---------------------------------------------------------------------------\n",
      "|            5 |   35.18s |    5.72 |    5.74 |      304.98 |      312.10 |\n",
      "---------------------------------------------------------------------------\n",
      "|            6 |   34.91s |    5.62 |    5.65 |      275.62 |      285.42 |\n",
      "---------------------------------------------------------------------------\n",
      "|            7 |   34.79s |    5.54 |    5.58 |      253.61 |      265.98 |\n",
      "---------------------------------------------------------------------------\n",
      "|            8 |   34.64s |    5.47 |    5.53 |      236.36 |      251.28 |\n",
      "---------------------------------------------------------------------------\n",
      "|            9 |   34.48s |    5.41 |    5.48 |      222.66 |      239.82 |\n",
      "---------------------------------------------------------------------------\n",
      "|           10 |   34.52s |    5.35 |    5.44 |      210.84 |      230.19 |\n",
      "---------------------------------------------------------------------------\n",
      "|           11 |   34.58s |    5.30 |    5.40 |      201.01 |      222.34 |\n",
      "---------------------------------------------------------------------------\n",
      "|           12 |   34.64s |    5.26 |    5.37 |      192.69 |      215.79 |\n",
      "---------------------------------------------------------------------------\n",
      "|           13 |   34.75s |    5.22 |    5.35 |      185.43 |      210.15 |\n",
      "---------------------------------------------------------------------------\n",
      "|           14 |   34.75s |    5.19 |    5.32 |      179.03 |      205.25 |\n",
      "---------------------------------------------------------------------------\n",
      "|           15 |   34.60s |    5.16 |    5.30 |      173.35 |      200.94 |\n",
      "---------------------------------------------------------------------------\n",
      "|           16 |   34.89s |    5.13 |    5.28 |      168.28 |      197.04 |\n",
      "---------------------------------------------------------------------------\n",
      "|           17 |   34.75s |    5.10 |    5.27 |      163.63 |      193.58 |\n",
      "---------------------------------------------------------------------------\n",
      "|           18 |   34.81s |    5.07 |    5.25 |      159.34 |      190.46 |\n",
      "---------------------------------------------------------------------------\n",
      "|           19 |   34.72s |    5.05 |    5.23 |      155.44 |      187.51 |\n",
      "---------------------------------------------------------------------------\n",
      "|           20 |   34.76s |    5.02 |    5.22 |      151.94 |      184.82 |\n",
      "---------------------------------------------------------------------------\n",
      "|           21 |   34.71s |    5.00 |    5.21 |      148.88 |      182.55 |\n",
      "---------------------------------------------------------------------------\n",
      "|           22 |   34.79s |    4.98 |    5.20 |      146.04 |      180.54 |\n",
      "---------------------------------------------------------------------------\n",
      "|           23 |   34.77s |    4.96 |    5.19 |      143.25 |      178.65 |\n",
      "---------------------------------------------------------------------------\n",
      "|           24 |   34.80s |    4.95 |    5.18 |      140.55 |      176.87 |\n",
      "---------------------------------------------------------------------------\n",
      "|           25 |   34.94s |    4.93 |    5.17 |      138.12 |      175.30 |\n",
      "---------------------------------------------------------------------------\n",
      "|           26 |   35.01s |    4.91 |    5.16 |      135.86 |      173.85 |\n",
      "---------------------------------------------------------------------------\n",
      "|           27 |   34.98s |    4.90 |    5.15 |      133.66 |      172.50 |\n",
      "---------------------------------------------------------------------------\n",
      "|           28 |   34.89s |    4.88 |    5.14 |      131.58 |      171.24 |\n",
      "---------------------------------------------------------------------------\n",
      "|           29 |   34.87s |    4.86 |    5.14 |      129.55 |      170.08 |\n",
      "---------------------------------------------------------------------------\n",
      "|           30 |   34.89s |    4.85 |    5.13 |      127.59 |      168.99 |\n",
      "---------------------------------------------------------------------------\n",
      "|           31 |   35.52s |    4.83 |    5.12 |      125.67 |      167.92 |\n",
      "---------------------------------------------------------------------------\n",
      "|           32 |   35.37s |    4.82 |    5.12 |      123.81 |      166.97 |\n",
      "---------------------------------------------------------------------------\n",
      "|           33 |   35.08s |    4.81 |    5.11 |      122.12 |      166.17 |\n",
      "---------------------------------------------------------------------------\n",
      "|           34 |   35.19s |    4.79 |    5.11 |      120.44 |      165.34 |\n",
      "---------------------------------------------------------------------------\n",
      "|           35 |   35.14s |    4.78 |    5.10 |      118.83 |      164.59 |\n",
      "---------------------------------------------------------------------------\n",
      "|           36 |   35.12s |    4.76 |    5.10 |      117.31 |      163.94 |\n",
      "---------------------------------------------------------------------------\n",
      "|           37 |   35.07s |    4.75 |    5.10 |      115.81 |      163.27 |\n",
      "---------------------------------------------------------------------------\n",
      "|           38 |   35.05s |    4.74 |    5.09 |      114.35 |      162.62 |\n",
      "---------------------------------------------------------------------------\n",
      "|           39 |   35.12s |    4.73 |    5.09 |      113.00 |      162.08 |\n",
      "---------------------------------------------------------------------------\n",
      "|           40 |   35.27s |    4.72 |    5.09 |      111.74 |      161.61 |\n",
      "---------------------------------------------------------------------------\n",
      "|           41 |   35.26s |    4.71 |    5.08 |      110.52 |      161.11 |\n",
      "---------------------------------------------------------------------------\n",
      "|           42 |   35.42s |    4.69 |    5.08 |      109.37 |      160.72 |\n",
      "---------------------------------------------------------------------------\n",
      "|           43 |   35.68s |    4.68 |    5.08 |      108.29 |      160.36 |\n",
      "---------------------------------------------------------------------------\n",
      "|           44 |   35.54s |    4.68 |    5.08 |      107.30 |      160.18 |\n",
      "---------------------------------------------------------------------------\n",
      "|           45 |   35.28s |    4.67 |    5.07 |      106.32 |      159.92 |\n",
      "---------------------------------------------------------------------------\n",
      "|           46 |   35.29s |    4.66 |    5.07 |      105.31 |      159.63 |\n",
      "---------------------------------------------------------------------------\n",
      "|           47 |   35.32s |    4.65 |    5.07 |      104.44 |      159.52 |\n",
      "---------------------------------------------------------------------------\n",
      "|           48 |   35.37s |    4.64 |    5.07 |      103.46 |      159.22 |\n",
      "---------------------------------------------------------------------------\n",
      "|           49 |   35.31s |    4.63 |    5.07 |      102.58 |      159.04 |\n",
      "---------------------------------------------------------------------------\n",
      "|           50 |   35.27s |    4.62 |    5.07 |      101.68 |      158.86 |\n",
      "---------------------------------------------------------------------------\n"
     ]
    }
   ],
   "source": [
    "# Loop over epochs.\n",
    "best_val_loss = None\n",
    "nepochs = 50\n",
    "log_interval = 1000\n",
    "clip = .1\n",
    "fname = 'exercise3_lnl.torch'\n",
    "fname_best = 'exercise3_lnl_best.torch'\n",
    "\n",
    "if not exists(fname):\n",
    "    model = MyNetwork(rnn_type='LSTM', nlayers=2).to(device)\n",
    "    loss_fn = torch.nn.CrossEntropyLoss()\n",
    "    optimizer = optim.SGD(model.parameters(), lr = lr, weight_decay = 0, momentum = 0.0)\n",
    "    print_log_head()\n",
    "    train_nepochs(nepochs, fname, fname_best)\n",
    "else:\n",
    "    model = load_model(fname)"
   ]
  },
  {
   "cell_type": "code",
   "execution_count": 20,
   "metadata": {},
   "outputs": [
    {
     "data": {
      "text/plain": [
       "<matplotlib.legend.Legend at 0x7f6fce069650>"
      ]
     },
     "execution_count": 20,
     "metadata": {},
     "output_type": "execute_result"
    },
    {
     "data": {
      "image/png": "[encoded data removed]",
      "text/plain": [
       "<Figure size 640x480 with 1 Axes>"
      ]
     },
     "metadata": {},
     "output_type": "display_data"
    }
   ],
   "source": [
    "import matplotlib.pyplot as plt\n",
    "import numpy as np\n",
    "fig, ax = plt.subplots()\n",
    "\n",
    "ax.plot(np.arange(1, len(model.train_loss)+1), train_loss, label='train loss')\n",
    "ax.plot(np.arange(1, len(model.val_loss)+1), val_loss, label='validation loss')\n",
    "ax.legend()"
   ]
  },
  {
   "cell_type": "code",
   "execution_count": 21,
   "metadata": {},
   "outputs": [
    {
     "name": "stdout",
     "output_type": "stream",
     "text": [
      "The perpelexity in the test set is   177.91\n"
     ]
    }
   ],
   "source": [
    "model = torch.load(fname_best)\n",
    "test_loss = evaluate(test_data)\n",
    "print('The perpelexity in the test set is {:8.2f}'.format(math.exp(test_loss)))"
   ]
  },
  {
   "cell_type": "markdown",
   "metadata": {},
   "source": [
    "### Use a learning rate scheduler"
   ]
  },
  {
   "cell_type": "code",
   "execution_count": 22,
   "metadata": {},
   "outputs": [],
   "source": [
    "def train_nepochs(nepochs, best_val_loss, fname):\n",
    "    \n",
    "    train_loss = []\n",
    "    val_loss = []\n",
    "    \n",
    "    for epoch in range(1, nepochs+1):\n",
    "        \n",
    "        epoch_start_time = time.time()\n",
    "        train()\n",
    "        train_loss.append(evaluate(train_data))\n",
    "        val_loss.append(evaluate(val_data))\n",
    "\n",
    "        scheduler.step(val_loss[-1])\n",
    "        \n",
    "        time_epoch = time.time() - epoch_start_time\n",
    "        model.time += time_epoch\n",
    "        \n",
    "        print('|          {:3d} |   {:9.1f}s |   {:5.2f} |   {:5.2f} |    {:8.2f} |    {:8.2f} |'\\\n",
    "              .format(model.epoch, time_epoch, model.train_loss[-1], model.val_loss[-1], \n",
    "                  math.exp(model.train_loss[-1]), math.exp(model.val_loss[-1])))\n",
    "        print('-' * 78)\n",
    "        \n",
    "        # Save the model if the validation loss is the best we've seen so far.\n",
    "        if len(model.val_loss) == 1 or model.val_loss[-1] < min(model.val_loss[:-1]):\n",
    "            with open(fname_best, 'wb') as f:\n",
    "                torch.save(model, f)\n",
    "        \n",
    "        with open(fname, 'wb') as f:\n",
    "            torch.save(model, f)"
   ]
  },
  {
   "cell_type": "code",
   "execution_count": 23,
   "metadata": {},
   "outputs": [
    {
     "name": "stdout",
     "output_type": "stream",
     "text": [
      "---------------------------------------------------------------------------\n",
      "|              |          |       loss        |        perplexity         |\n",
      "| end of epoch |   time   |-------------------|---------------------------|\n",
      "|              |          |  train  |  valid  |    train    |    valid    |\n",
      "---------------------------------------------------------------------------\n",
      "---------------------------------------------------------------------------\n",
      "|            1 |   35.31s |    6.22 |    6.20 |      501.61 |      494.23 |\n",
      "---------------------------------------------------------------------------\n",
      "|            2 |   35.50s |    5.81 |    5.82 |      334.07 |      337.13 |\n",
      "---------------------------------------------------------------------------\n",
      "|            3 |   35.51s |    5.59 |    5.62 |      267.91 |      276.97 |\n",
      "---------------------------------------------------------------------------\n",
      "|            4 |   35.67s |    5.44 |    5.50 |      230.46 |      244.77 |\n",
      "---------------------------------------------------------------------------\n",
      "|            5 |   35.58s |    5.32 |    5.41 |      205.28 |      224.08 |\n",
      "---------------------------------------------------------------------------\n",
      "|            6 |   35.50s |    5.23 |    5.35 |      187.52 |      209.99 |\n",
      "---------------------------------------------------------------------------\n",
      "|            7 |   35.54s |    5.16 |    5.29 |      173.36 |      198.96 |\n",
      "---------------------------------------------------------------------------\n",
      "|            8 |   35.82s |    5.09 |    5.25 |      162.08 |      190.30 |\n",
      "---------------------------------------------------------------------------\n",
      "|            9 |   35.81s |    5.03 |    5.21 |      153.28 |      183.94 |\n",
      "---------------------------------------------------------------------------\n",
      "|           10 |   35.27s |    4.98 |    5.19 |      145.87 |      178.83 |\n",
      "---------------------------------------------------------------------------\n",
      "|           11 |   35.13s |    4.94 |    5.16 |      139.68 |      174.77 |\n",
      "---------------------------------------------------------------------------\n",
      "|           12 |   35.27s |    4.90 |    5.14 |      134.29 |      171.39 |\n",
      "---------------------------------------------------------------------------\n",
      "|           13 |   35.06s |    4.86 |    5.13 |      129.53 |      168.48 |\n",
      "---------------------------------------------------------------------------\n",
      "|           14 |   34.91s |    4.83 |    5.11 |      125.38 |      166.06 |\n",
      "---------------------------------------------------------------------------\n",
      "|           15 |   34.84s |    4.80 |    5.10 |      121.64 |      164.03 |\n",
      "---------------------------------------------------------------------------\n",
      "|           16 |   34.78s |    4.77 |    5.09 |      118.28 |      162.34 |\n",
      "---------------------------------------------------------------------------\n",
      "|           17 |   34.75s |    4.75 |    5.08 |      115.12 |      160.83 |\n",
      "---------------------------------------------------------------------------\n",
      "|           18 |   34.75s |    4.72 |    5.07 |      112.12 |      159.43 |\n",
      "---------------------------------------------------------------------------\n",
      "|           19 |   35.03s |    4.70 |    5.06 |      109.43 |      158.22 |\n",
      "---------------------------------------------------------------------------\n",
      "|           20 |   34.72s |    4.67 |    5.06 |      107.03 |      157.21 |\n",
      "---------------------------------------------------------------------------\n",
      "|           21 |   34.57s |    4.65 |    5.05 |      104.90 |      156.45 |\n",
      "---------------------------------------------------------------------------\n",
      "|           22 |   34.54s |    4.63 |    5.05 |      102.90 |      155.95 |\n",
      "---------------------------------------------------------------------------\n",
      "|           23 |   34.78s |    4.62 |    5.05 |      101.04 |      155.55 |\n",
      "---------------------------------------------------------------------------\n",
      "|           24 |   34.70s |    4.60 |    5.04 |       99.30 |      155.15 |\n",
      "---------------------------------------------------------------------------\n",
      "|           25 |   34.86s |    4.58 |    5.04 |       97.76 |      154.80 |\n",
      "---------------------------------------------------------------------------\n",
      "|           26 |   35.01s |    4.57 |    5.04 |       96.38 |      154.74 |\n",
      "---------------------------------------------------------------------------\n",
      "|           27 |   34.89s |    4.55 |    5.04 |       95.06 |      154.82 |\n",
      "---------------------------------------------------------------------------\n",
      "|           28 |   35.44s |    4.54 |    5.04 |       93.75 |      154.92 |\n",
      "---------------------------------------------------------------------------\n",
      "|           29 |   35.42s |    4.53 |    5.04 |       92.52 |      155.13 |\n",
      "---------------------------------------------------------------------------\n",
      "|           30 |   34.85s |    4.46 |    5.01 |       86.87 |      150.02 |\n",
      "---------------------------------------------------------------------------\n",
      "|           31 |   34.63s |    4.45 |    5.01 |       86.04 |      149.73 |\n",
      "---------------------------------------------------------------------------\n",
      "|           32 |   34.61s |    4.45 |    5.01 |       85.56 |      149.67 |\n",
      "---------------------------------------------------------------------------\n",
      "|           33 |   34.59s |    4.44 |    5.01 |       85.19 |      149.67 |\n",
      "---------------------------------------------------------------------------\n",
      "|           34 |   34.53s |    4.44 |    5.01 |       84.88 |      149.70 |\n",
      "---------------------------------------------------------------------------\n",
      "|           35 |   34.60s |    4.44 |    5.01 |       84.61 |      149.74 |\n",
      "---------------------------------------------------------------------------\n",
      "|           36 |   34.59s |    4.43 |    5.01 |       84.21 |      149.41 |\n",
      "---------------------------------------------------------------------------\n",
      "|           37 |   34.56s |    4.43 |    5.01 |       84.12 |      149.39 |\n",
      "---------------------------------------------------------------------------\n",
      "|           38 |   34.50s |    4.43 |    5.01 |       84.06 |      149.39 |\n",
      "---------------------------------------------------------------------------\n",
      "|           39 |   34.35s |    4.43 |    5.01 |       84.02 |      149.39 |\n",
      "---------------------------------------------------------------------------\n",
      "|           40 |   34.36s |    4.43 |    5.01 |       83.98 |      149.40 |\n",
      "---------------------------------------------------------------------------\n",
      "|           41 |   34.39s |    4.43 |    5.01 |       83.96 |      149.40 |\n",
      "---------------------------------------------------------------------------\n",
      "|           42 |   34.31s |    4.43 |    5.01 |       83.95 |      149.40 |\n",
      "---------------------------------------------------------------------------\n",
      "|           43 |   34.41s |    4.43 |    5.01 |       83.95 |      149.40 |\n",
      "---------------------------------------------------------------------------\n",
      "|           44 |   34.27s |    4.43 |    5.01 |       83.94 |      149.41 |\n",
      "---------------------------------------------------------------------------\n",
      "|           45 |   34.48s |    4.43 |    5.01 |       83.94 |      149.41 |\n",
      "---------------------------------------------------------------------------\n",
      "|           46 |   34.46s |    4.43 |    5.01 |       83.94 |      149.41 |\n",
      "---------------------------------------------------------------------------\n",
      "|           47 |   34.46s |    4.43 |    5.01 |       83.94 |      149.41 |\n",
      "---------------------------------------------------------------------------\n",
      "|           48 |   34.68s |    4.43 |    5.01 |       83.94 |      149.40 |\n",
      "---------------------------------------------------------------------------\n",
      "|           49 |   34.49s |    4.43 |    5.01 |       83.94 |      149.40 |\n",
      "---------------------------------------------------------------------------\n",
      "|           50 |   34.42s |    4.43 |    5.01 |       83.94 |      149.40 |\n",
      "---------------------------------------------------------------------------\n"
     ]
    }
   ],
   "source": [
    "# Loop over epochs.\n",
    "best_val_loss = None\n",
    "nepochs = 50\n",
    "log_interval = 1000\n",
    "lr = 10\n",
    "clip = .1\n",
    "fname = 'exercise3_lrsched.torch'\n",
    "fname_best = 'exercise3_lrsched_best.torch'\n",
    "\n",
    "if not exists(fname):\n",
    "    model = MyNetwork(rnn_type='LSTM', nlayers=2).to(device)\n",
    "    loss_fn = torch.nn.CrossEntropyLoss()\n",
    "    optimizer = optim.SGD(model.parameters(), lr = lr, weight_decay = 0, momentum = 0.0)\n",
    "    scheduler = torch.optim.lr_scheduler.ReduceLROnPlateau(optimizer, 'min', patience=3)\n",
    "    print_log_head()\n",
    "    train_nepochs(nepochs, fname, fname_best)\n",
    "else:\n",
    "    model = load_model(fname)"
   ]
  },
  {
   "cell_type": "code",
   "execution_count": 24,
   "metadata": {},
   "outputs": [
    {
     "data": {
      "text/plain": [
       "<matplotlib.legend.Legend at 0x7f6fce0f1650>"
      ]
     },
     "execution_count": 24,
     "metadata": {},
     "output_type": "execute_result"
    },
    {
     "data": {
      "image/png": "[encoded data removed]",
      "text/plain": [
       "<Figure size 640x480 with 1 Axes>"
      ]
     },
     "metadata": {},
     "output_type": "display_data"
    }
   ],
   "source": [
    "import matplotlib.pyplot as plt\n",
    "import numpy as np\n",
    "fig, ax = plt.subplots()\n",
    "\n",
    "ax.plot(np.arange(1, len(model.train_loss)+1), train_loss, label='train loss')\n",
    "ax.plot(np.arange(1, len(model.val_loss)+1), val_loss, label='validation loss')\n",
    "ax.legend()"
   ]
  },
  {
   "cell_type": "markdown",
   "metadata": {},
   "source": [
    "With the 2 layers in the LSTM network and using a learning rate shceduler we reach an improved perplexity rating of 142.38 on the test set:"
   ]
  },
  {
   "cell_type": "code",
   "execution_count": 25,
   "metadata": {},
   "outputs": [
    {
     "name": "stdout",
     "output_type": "stream",
     "text": [
      "The perpelexity in the test set is   143.66\n"
     ]
    }
   ],
   "source": [
    "model = torch.load(fname_best)\n",
    "test_loss = evaluate(test_data)\n",
    "print('The perpelexity in the test set is {:8.2f}'.format(math.exp(test_loss)))"
   ]
  }
 ],
 "metadata": {
  "kernelspec": {
   "display_name": "pytorch",
   "language": "python",
   "name": "pytorch"
  },
  "language_info": {
   "codemirror_mode": {
    "name": "ipython",
    "version": 3
   },
   "file_extension": ".py",
   "mimetype": "text/x-python",
   "name": "python",
   "nbconvert_exporter": "python",
   "pygments_lexer": "ipython3",
   "version": "3.11.5"
  },
  "widgets": {
   "application/vnd.jupyter.widget-state+json": {
    "state": {},
    "version_major": 2,
    "version_minor": 0
   }
  }
 },
 "nbformat": 4,
 "nbformat_minor": 4
}
