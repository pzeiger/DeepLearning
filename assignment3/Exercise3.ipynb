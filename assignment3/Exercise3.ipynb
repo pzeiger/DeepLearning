{
 "cells": [
  {
   "cell_type": "markdown",
   "metadata": {
    "jupyter": {
     "source_hidden": true
    }
   },
   "source": [
    "# Exercise 3 -- Improving the recurrent model\n",
    "\n",
    "In this exercise we will try different ways to improve the performance of the RNN model on the PTB data set."
   ]
  },
  {
   "cell_type": "markdown",
   "metadata": {},
   "source": [
    "## Gradient clipping\n",
    "\n",
    "As a first step, we consider the effect of gradient clipping. Gradient clipping reduces the maximum magnitude of the gradient during parameter update to a selectable value $M$. In other words during gradient descent, new parameters $\\theta_k$ are determined by applying\n",
    "$$\n",
    "\\theta_k = \\theta_{k-1} - \\gamma \\nabla J(\\theta_{k-1})\n",
    "$$\n",
    "where $\\nabla J(\\theta_{k-1})$ is the gradient and $\\gamma$ the learning rate. Gradient clipping then corresponds to introduction of a function\n",
    "$$\n",
    "clip_M(\\theta) = \n",
    "\\begin{cases}\n",
    "\\theta & \\mathrm{if} ||\\theta|| \\leq M \\\\\n",
    "M \\frac{\\theta}{||\\theta||} \\qquad & \\mathrm{if} ||\\theta|| \\leq M\n",
    "\\end{cases}\n",
    "$$\n",
    "which is applied during parameter update as follows:\n",
    "$$\n",
    "\\theta_k = \\theta_{k-1} - \\gamma clip_M(\\theta)(\\nabla J(\\theta_{k-1})).\n",
    "$$\n",
    "We set our model and training loops up as in exercise 2, but use the gradient clipping routine `clip_grad_norm_()` provided by pytorch in the `train()` function and also increase the learning rate as that should be safely possible with gradient clipping. "
   ]
  },
  {
   "cell_type": "code",
   "execution_count": 1,
   "metadata": {},
   "outputs": [],
   "source": [
    "import torch\n",
    "from mymodel import MyNetwork\n",
    "torch.manual_seed(3932324365)\n",
    "device = torch.device(\"cuda\")\n",
    "model = MyNetwork().to(device)"
   ]
  },
  {
   "cell_type": "code",
   "execution_count": 2,
   "metadata": {},
   "outputs": [],
   "source": [
    "from corpus import Corpus\n",
    "corpus = Corpus('ptb_data')\n",
    "\n",
    "batch_size = 100\n",
    "l_seq = 20\n",
    "\n",
    "from fcns import batchify, get_batch\n",
    "train_data = batchify(corpus.train, batch_size).to(device)\n",
    "val_data = batchify(corpus.valid, batch_size).to(device)\n",
    "test_data = batchify(corpus.test, batch_size).to(device)"
   ]
  },
  {
   "cell_type": "code",
   "execution_count": 3,
   "metadata": {},
   "outputs": [],
   "source": [
    "import torch.optim as optim\n",
    "lr = 5\n",
    "loss_fn = torch.nn.CrossEntropyLoss()\n",
    "optimizer = optim.SGD(model.parameters(), lr = lr, weight_decay = 0, momentum = 0.0)"
   ]
  },
  {
   "cell_type": "code",
   "execution_count": 4,
   "metadata": {},
   "outputs": [],
   "source": [
    "import time\n",
    "import math\n",
    "\n",
    "def train():\n",
    "    model.train()\n",
    "    \n",
    "    for batch, i in enumerate(range(0, train_data.size(0) - 1, l_seq)):\n",
    "        data, targets = get_batch(train_data, i, l_seq)\n",
    "        \n",
    "        optimizer.zero_grad()\n",
    "        \n",
    "        output, hidden = model(data)\n",
    "        loss = loss_fn(output, targets)\n",
    "        loss.backward()\n",
    "        \n",
    "        torch.nn.utils.clip_grad_norm_(model.parameters(), clip)\n",
    "        optimizer.step()\n",
    "    \n",
    "    model.epoch += 1"
   ]
  },
  {
   "cell_type": "code",
   "execution_count": 5,
   "metadata": {},
   "outputs": [],
   "source": [
    "def evaluate(data_source):\n",
    "    # Turn on evaluation mode which disables dropout.\n",
    "    model.eval()\n",
    "    total_loss = 0.\n",
    "    ntokens = len(corpus.dictionary)\n",
    "    \n",
    "    hidden = model.init_hidden(batch_size)\n",
    "    \n",
    "    with torch.no_grad():\n",
    "        for i in range(0, data_source.size(0) - 1, l_seq):\n",
    "            data, targets = get_batch(data_source, i, l_seq)\n",
    "            output, hidden = model(data, hidden)\n",
    "            total_loss += len(data) * loss_fn(output, targets).item()\n",
    "    return total_loss / (len(data_source) - 1)"
   ]
  },
  {
   "cell_type": "code",
   "execution_count": 6,
   "metadata": {},
   "outputs": [],
   "source": [
    "def train_nepochs(nepochs, fname, fname_best):\n",
    "    \n",
    "    for epoch in range(1, nepochs+1):\n",
    "        \n",
    "        epoch_start_time = time.time()\n",
    "        train()\n",
    "        \n",
    "        model.train_loss.append(evaluate(train_data))\n",
    "        model.val_loss.append(evaluate(val_data))\n",
    "        \n",
    "        time_epoch = time.time() - epoch_start_time\n",
    "        model.time += time_epoch\n",
    "        \n",
    "        print('|          {:3d} |   {:9.1f}s |   {:5.2f} |   {:5.2f} |    {:8.2f} |    {:8.2f} |'\\\n",
    "              .format(model.epoch, time_epoch, model.train_loss[-1], model.val_loss[-1], \n",
    "                  math.exp(model.train_loss[-1]), math.exp(model.val_loss[-1])))\n",
    "        print('-' * 78)\n",
    "        \n",
    "        # Save the model if the validation loss is the best we've seen so far.\n",
    "        if len(model.val_loss) == 1 or model.val_loss[-1] < min(model.val_loss[:-1]):\n",
    "            with open(fname_best, 'wb') as f:\n",
    "                torch.save(model, f)\n",
    "        \n",
    "        with open(fname, 'wb') as f:\n",
    "            torch.save(model, f)"
   ]
  },
  {
   "cell_type": "markdown",
   "metadata": {},
   "source": [
    "With everything in place, we can proceed with the training of our model:"
   ]
  },
  {
   "cell_type": "code",
   "execution_count": 7,
   "metadata": {},
   "outputs": [
    {
     "name": "stdout",
     "output_type": "stream",
     "text": [
      "------------------------------------------------------------------------------\n",
      "|              |             |       loss        |        perplexity         |\n",
      "| end of epoch |     time    |-------------------|---------------------------|\n",
      "|              |             |  train  |  valid  |    train    |    valid    |\n",
      "------------------------------------------------------------------------------\n",
      "------------------------------------------------------------------------------\n",
      "|           50 |      1326.4s |    4.57 |    5.34 |       96.87 |      209.00 |\n",
      "------------------------------------------------------------------------------\n"
     ]
    }
   ],
   "source": [
    "# Loop over epochs.\n",
    "best_val_loss = None\n",
    "nepochs = 50\n",
    "log_interval = 1000\n",
    "clip = .25\n",
    "fname = 'exercise3_gc.torch'\n",
    "fname_best = 'exercise3_gc_best.torch'\n",
    "\n",
    "from fcns import print_log_head, load_model\n",
    "from os.path import exists\n",
    "\n",
    "if not exists(fname):\n",
    "    print_log_head()\n",
    "    train_nepochs(nepochs, fname, fname_best)\n",
    "else:\n",
    "    model = load_model(fname)"
   ]
  },
  {
   "cell_type": "markdown",
   "metadata": {},
   "source": [
    "We plot now the training and validation loss of the model in the figure below. Compared to the loss obtained in exercise 2, we find that the loss is a lot smoother as a function of epoch due to the effect of the gradient clipping. This indicates also, that the spikeyness observed in connection with exercise 2 is related to the *exploding gradient* problem in RNNs. Furthermore we observe a tendency to overfit to the training data from about epoch 5 onwards. Despite this the validation loss continues to improve until about epoch 30."
   ]
  },
  {
   "cell_type": "code",
   "execution_count": 8,
   "metadata": {},
   "outputs": [
    {
     "data": {
      "text/plain": [
       "<matplotlib.legend.Legend at 0x7f3da4beb950>"
      ]
     },
     "execution_count": 8,
     "metadata": {},
     "output_type": "execute_result"
    },
    {
     "data": {
      "image/png": "[encoded data removed]",
      "text/plain": [
       "<Figure size 640x480 with 1 Axes>"
      ]
     },
     "metadata": {},
     "output_type": "display_data"
    }
   ],
   "source": [
    "import matplotlib.pyplot as plt\n",
    "import numpy as np\n",
    "fig, ax = plt.subplots()\n",
    "\n",
    "ax.plot(np.arange(1, len(model.train_loss)+1), model.train_loss, label='train loss')\n",
    "ax.plot(np.arange(1, len(model.val_loss)+1), model.val_loss, label='validation loss')\n",
    "ax.legend()"
   ]
  },
  {
   "cell_type": "markdown",
   "metadata": {},
   "source": [
    "As a last performance metric for the evaluation of gradient clipping, we compute the perplexity of the best obtained model on the test data."
   ]
  },
  {
   "cell_type": "code",
   "execution_count": 9,
   "metadata": {},
   "outputs": [
    {
     "name": "stdout",
     "output_type": "stream",
     "text": [
      "Best model obtained in epoch                   24\n",
      "The perpelexity in the validation set is   199.17\n",
      "The perpelexity in the test set is         188.60\n"
     ]
    }
   ],
   "source": [
    "model = torch.load(fname_best)\n",
    "test_loss = evaluate(val_data)\n",
    "print('Best model obtained in epoch                  ', model.epoch)\n",
    "print('The perpelexity in the validation set is {:8.2f}'.format(math.exp(test_loss)))\n",
    "test_loss = evaluate(test_data)\n",
    "print('The perpelexity in the test set is       {:8.2f}'.format(math.exp(test_loss)))"
   ]
  },
  {
   "cell_type": "markdown",
   "metadata": {},
   "source": [
    "The best loss was obtained after 24 epochs of training, showing that the higher learning rate enabled by gradient clipping allowed us to train our model faster and more efficiently. In comparison with the performance observed in exercise 2, we get here slightly worse performance, which is likely connected to the 5 times larger learning rate and a smaller learning rate would probably allow for better performance of the model. We will explore the effect of a learning rate scheduler further below."
   ]
  },
  {
   "cell_type": "markdown",
   "metadata": {},
   "source": [
    "## Improving the flow of information\n",
    "\n",
    "In order to improve the flow of information, we pass the hidden state on to the next training iteration. This is simply achieved by adding the hidden state to the inputs of the `model()` call. However we also need to prevent the model from backpropagating through the training iterations. We achieve this by wrapping the hidden state tensor into a new tensor, which is detached from its \"history\" in each iteration of the training loop. The following code snippets show the approach.\n",
    "\n",
    "We first define a function to detach the hidden state from backpropagation."
   ]
  },
  {
   "cell_type": "code",
   "execution_count": 10,
   "metadata": {},
   "outputs": [
    {
     "data": {
      "text/html": [
       "<style>pre { line-height: 125%; }\n",
       "td.linenos .normal { color: inherit; background-color: transparent; padding-left: 5px; padding-right: 5px; }\n",
       "span.linenos { color: inherit; background-color: transparent; padding-left: 5px; padding-right: 5px; }\n",
       "td.linenos .special { color: #000000; background-color: #ffffc0; padding-left: 5px; padding-right: 5px; }\n",
       "span.linenos.special { color: #000000; background-color: #ffffc0; padding-left: 5px; padding-right: 5px; }\n",
       ".output_html .hll { background-color: #ffffcc }\n",
       ".output_html { background: #f8f8f8; }\n",
       ".output_html .c { color: #3D7B7B; font-style: italic } /* Comment */\n",
       ".output_html .err { border: 1px solid #FF0000 } /* Error */\n",
       ".output_html .k { color: #008000; font-weight: bold } /* Keyword */\n",
       ".output_html .o { color: #666666 } /* Operator */\n",
       ".output_html .ch { color: #3D7B7B; font-style: italic } /* Comment.Hashbang */\n",
       ".output_html .cm { color: #3D7B7B; font-style: italic } /* Comment.Multiline */\n",
       ".output_html .cp { color: #9C6500 } /* Comment.Preproc */\n",
       ".output_html .cpf { color: #3D7B7B; font-style: italic } /* Comment.PreprocFile */\n",
       ".output_html .c1 { color: #3D7B7B; font-style: italic } /* Comment.Single */\n",
       ".output_html .cs { color: #3D7B7B; font-style: italic } /* Comment.Special */\n",
       ".output_html .gd { color: #A00000 } /* Generic.Deleted */\n",
       ".output_html .ge { font-style: italic } /* Generic.Emph */\n",
       ".output_html .gr { color: #E40000 } /* Generic.Error */\n",
       ".output_html .gh { color: #000080; font-weight: bold } /* Generic.Heading */\n",
       ".output_html .gi { color: #008400 } /* Generic.Inserted */\n",
       ".output_html .go { color: #717171 } /* Generic.Output */\n",
       ".output_html .gp { color: #000080; font-weight: bold } /* Generic.Prompt */\n",
       ".output_html .gs { font-weight: bold } /* Generic.Strong */\n",
       ".output_html .gu { color: #800080; font-weight: bold } /* Generic.Subheading */\n",
       ".output_html .gt { color: #0044DD } /* Generic.Traceback */\n",
       ".output_html .kc { color: #008000; font-weight: bold } /* Keyword.Constant */\n",
       ".output_html .kd { color: #008000; font-weight: bold } /* Keyword.Declaration */\n",
       ".output_html .kn { color: #008000; font-weight: bold } /* Keyword.Namespace */\n",
       ".output_html .kp { color: #008000 } /* Keyword.Pseudo */\n",
       ".output_html .kr { color: #008000; font-weight: bold } /* Keyword.Reserved */\n",
       ".output_html .kt { color: #B00040 } /* Keyword.Type */\n",
       ".output_html .m { color: #666666 } /* Literal.Number */\n",
       ".output_html .s { color: #BA2121 } /* Literal.String */\n",
       ".output_html .na { color: #687822 } /* Name.Attribute */\n",
       ".output_html .nb { color: #008000 } /* Name.Builtin */\n",
       ".output_html .nc { color: #0000FF; font-weight: bold } /* Name.Class */\n",
       ".output_html .no { color: #880000 } /* Name.Constant */\n",
       ".output_html .nd { color: #AA22FF } /* Name.Decorator */\n",
       ".output_html .ni { color: #717171; font-weight: bold } /* Name.Entity */\n",
       ".output_html .ne { color: #CB3F38; font-weight: bold } /* Name.Exception */\n",
       ".output_html .nf { color: #0000FF } /* Name.Function */\n",
       ".output_html .nl { color: #767600 } /* Name.Label */\n",
       ".output_html .nn { color: #0000FF; font-weight: bold } /* Name.Namespace */\n",
       ".output_html .nt { color: #008000; font-weight: bold } /* Name.Tag */\n",
       ".output_html .nv { color: #19177C } /* Name.Variable */\n",
       ".output_html .ow { color: #AA22FF; font-weight: bold } /* Operator.Word */\n",
       ".output_html .w { color: #bbbbbb } /* Text.Whitespace */\n",
       ".output_html .mb { color: #666666 } /* Literal.Number.Bin */\n",
       ".output_html .mf { color: #666666 } /* Literal.Number.Float */\n",
       ".output_html .mh { color: #666666 } /* Literal.Number.Hex */\n",
       ".output_html .mi { color: #666666 } /* Literal.Number.Integer */\n",
       ".output_html .mo { color: #666666 } /* Literal.Number.Oct */\n",
       ".output_html .sa { color: #BA2121 } /* Literal.String.Affix */\n",
       ".output_html .sb { color: #BA2121 } /* Literal.String.Backtick */\n",
       ".output_html .sc { color: #BA2121 } /* Literal.String.Char */\n",
       ".output_html .dl { color: #BA2121 } /* Literal.String.Delimiter */\n",
       ".output_html .sd { color: #BA2121; font-style: italic } /* Literal.String.Doc */\n",
       ".output_html .s2 { color: #BA2121 } /* Literal.String.Double */\n",
       ".output_html .se { color: #AA5D1F; font-weight: bold } /* Literal.String.Escape */\n",
       ".output_html .sh { color: #BA2121 } /* Literal.String.Heredoc */\n",
       ".output_html .si { color: #A45A77; font-weight: bold } /* Literal.String.Interpol */\n",
       ".output_html .sx { color: #008000 } /* Literal.String.Other */\n",
       ".output_html .sr { color: #A45A77 } /* Literal.String.Regex */\n",
       ".output_html .s1 { color: #BA2121 } /* Literal.String.Single */\n",
       ".output_html .ss { color: #19177C } /* Literal.String.Symbol */\n",
       ".output_html .bp { color: #008000 } /* Name.Builtin.Pseudo */\n",
       ".output_html .fm { color: #0000FF } /* Name.Function.Magic */\n",
       ".output_html .vc { color: #19177C } /* Name.Variable.Class */\n",
       ".output_html .vg { color: #19177C } /* Name.Variable.Global */\n",
       ".output_html .vi { color: #19177C } /* Name.Variable.Instance */\n",
       ".output_html .vm { color: #19177C } /* Name.Variable.Magic */\n",
       ".output_html .il { color: #666666 } /* Literal.Number.Integer.Long */</style><div class=\"highlight\"><pre><span></span><span class=\"k\">def</span> <span class=\"nf\">repackage_hidden</span><span class=\"p\">(</span><span class=\"n\">h</span><span class=\"p\">):</span>\n",
       "<span class=\"w\">    </span><span class=\"sd\">&quot;&quot;&quot; Credit for this function:</span>\n",
       "<span class=\"sd\">        https://github.com/pytorch/examples/blob/main/word_language_model/main.py</span>\n",
       "<span class=\"sd\">    &quot;&quot;&quot;</span>\n",
       "    <span class=\"k\">if</span> <span class=\"nb\">isinstance</span><span class=\"p\">(</span><span class=\"n\">h</span><span class=\"p\">,</span> <span class=\"n\">torch</span><span class=\"o\">.</span><span class=\"n\">Tensor</span><span class=\"p\">):</span>\n",
       "        <span class=\"k\">return</span> <span class=\"n\">h</span><span class=\"o\">.</span><span class=\"n\">detach</span><span class=\"p\">()</span>\n",
       "    <span class=\"k\">else</span><span class=\"p\">:</span>\n",
       "        <span class=\"k\">return</span> <span class=\"nb\">tuple</span><span class=\"p\">(</span><span class=\"n\">repackage_hidden</span><span class=\"p\">(</span><span class=\"n\">v</span><span class=\"p\">)</span> <span class=\"k\">for</span> <span class=\"n\">v</span> <span class=\"ow\">in</span> <span class=\"n\">h</span><span class=\"p\">)</span>\n",
       "</pre></div>\n"
      ],
      "text/latex": [
       "\\begin{Verbatim}[commandchars=\\\\\\{\\}]\n",
       "\\PY{k}{def} \\PY{n+nf}{repackage\\PYZus{}hidden}\\PY{p}{(}\\PY{n}{h}\\PY{p}{)}\\PY{p}{:}\n",
       "\\PY{+w}{    }\\PY{l+s+sd}{\\PYZdq{}\\PYZdq{}\\PYZdq{} Credit for this function:}\n",
       "\\PY{l+s+sd}{        https://github.com/pytorch/examples/blob/main/word\\PYZus{}language\\PYZus{}model/main.py}\n",
       "\\PY{l+s+sd}{    \\PYZdq{}\\PYZdq{}\\PYZdq{}}\n",
       "    \\PY{k}{if} \\PY{n+nb}{isinstance}\\PY{p}{(}\\PY{n}{h}\\PY{p}{,} \\PY{n}{torch}\\PY{o}{.}\\PY{n}{Tensor}\\PY{p}{)}\\PY{p}{:}\n",
       "        \\PY{k}{return} \\PY{n}{h}\\PY{o}{.}\\PY{n}{detach}\\PY{p}{(}\\PY{p}{)}\n",
       "    \\PY{k}{else}\\PY{p}{:}\n",
       "        \\PY{k}{return} \\PY{n+nb}{tuple}\\PY{p}{(}\\PY{n}{repackage\\PYZus{}hidden}\\PY{p}{(}\\PY{n}{v}\\PY{p}{)} \\PY{k}{for} \\PY{n}{v} \\PY{o+ow}{in} \\PY{n}{h}\\PY{p}{)}\n",
       "\\end{Verbatim}\n"
      ],
      "text/plain": [
       "def repackage_hidden(h):\n",
       "    \"\"\" Credit for this function:\n",
       "        https://github.com/pytorch/examples/blob/main/word_language_model/main.py\n",
       "    \"\"\"\n",
       "    if isinstance(h, torch.Tensor):\n",
       "        return h.detach()\n",
       "    else:\n",
       "        return tuple(repackage_hidden(v) for v in h)"
      ]
     },
     "execution_count": 10,
     "metadata": {},
     "output_type": "execute_result"
    }
   ],
   "source": [
    "from fcns import repackage_hidden\n",
    "from IPython.display import Code\n",
    "Code(data=''.join([line for line in open('fcns.py')][34:42]), language='python')"
   ]
  },
  {
   "cell_type": "markdown",
   "metadata": {},
   "source": [
    "Next we update the `forward()` function of our model to include the hidden state passing."
   ]
  },
  {
   "cell_type": "code",
   "execution_count": 11,
   "metadata": {},
   "outputs": [
    {
     "data": {
      "text/html": [
       "<style>pre { line-height: 125%; }\n",
       "td.linenos .normal { color: inherit; background-color: transparent; padding-left: 5px; padding-right: 5px; }\n",
       "span.linenos { color: inherit; background-color: transparent; padding-left: 5px; padding-right: 5px; }\n",
       "td.linenos .special { color: #000000; background-color: #ffffc0; padding-left: 5px; padding-right: 5px; }\n",
       "span.linenos.special { color: #000000; background-color: #ffffc0; padding-left: 5px; padding-right: 5px; }\n",
       ".output_html .hll { background-color: #ffffcc }\n",
       ".output_html { background: #f8f8f8; }\n",
       ".output_html .c { color: #3D7B7B; font-style: italic } /* Comment */\n",
       ".output_html .err { border: 1px solid #FF0000 } /* Error */\n",
       ".output_html .k { color: #008000; font-weight: bold } /* Keyword */\n",
       ".output_html .o { color: #666666 } /* Operator */\n",
       ".output_html .ch { color: #3D7B7B; font-style: italic } /* Comment.Hashbang */\n",
       ".output_html .cm { color: #3D7B7B; font-style: italic } /* Comment.Multiline */\n",
       ".output_html .cp { color: #9C6500 } /* Comment.Preproc */\n",
       ".output_html .cpf { color: #3D7B7B; font-style: italic } /* Comment.PreprocFile */\n",
       ".output_html .c1 { color: #3D7B7B; font-style: italic } /* Comment.Single */\n",
       ".output_html .cs { color: #3D7B7B; font-style: italic } /* Comment.Special */\n",
       ".output_html .gd { color: #A00000 } /* Generic.Deleted */\n",
       ".output_html .ge { font-style: italic } /* Generic.Emph */\n",
       ".output_html .gr { color: #E40000 } /* Generic.Error */\n",
       ".output_html .gh { color: #000080; font-weight: bold } /* Generic.Heading */\n",
       ".output_html .gi { color: #008400 } /* Generic.Inserted */\n",
       ".output_html .go { color: #717171 } /* Generic.Output */\n",
       ".output_html .gp { color: #000080; font-weight: bold } /* Generic.Prompt */\n",
       ".output_html .gs { font-weight: bold } /* Generic.Strong */\n",
       ".output_html .gu { color: #800080; font-weight: bold } /* Generic.Subheading */\n",
       ".output_html .gt { color: #0044DD } /* Generic.Traceback */\n",
       ".output_html .kc { color: #008000; font-weight: bold } /* Keyword.Constant */\n",
       ".output_html .kd { color: #008000; font-weight: bold } /* Keyword.Declaration */\n",
       ".output_html .kn { color: #008000; font-weight: bold } /* Keyword.Namespace */\n",
       ".output_html .kp { color: #008000 } /* Keyword.Pseudo */\n",
       ".output_html .kr { color: #008000; font-weight: bold } /* Keyword.Reserved */\n",
       ".output_html .kt { color: #B00040 } /* Keyword.Type */\n",
       ".output_html .m { color: #666666 } /* Literal.Number */\n",
       ".output_html .s { color: #BA2121 } /* Literal.String */\n",
       ".output_html .na { color: #687822 } /* Name.Attribute */\n",
       ".output_html .nb { color: #008000 } /* Name.Builtin */\n",
       ".output_html .nc { color: #0000FF; font-weight: bold } /* Name.Class */\n",
       ".output_html .no { color: #880000 } /* Name.Constant */\n",
       ".output_html .nd { color: #AA22FF } /* Name.Decorator */\n",
       ".output_html .ni { color: #717171; font-weight: bold } /* Name.Entity */\n",
       ".output_html .ne { color: #CB3F38; font-weight: bold } /* Name.Exception */\n",
       ".output_html .nf { color: #0000FF } /* Name.Function */\n",
       ".output_html .nl { color: #767600 } /* Name.Label */\n",
       ".output_html .nn { color: #0000FF; font-weight: bold } /* Name.Namespace */\n",
       ".output_html .nt { color: #008000; font-weight: bold } /* Name.Tag */\n",
       ".output_html .nv { color: #19177C } /* Name.Variable */\n",
       ".output_html .ow { color: #AA22FF; font-weight: bold } /* Operator.Word */\n",
       ".output_html .w { color: #bbbbbb } /* Text.Whitespace */\n",
       ".output_html .mb { color: #666666 } /* Literal.Number.Bin */\n",
       ".output_html .mf { color: #666666 } /* Literal.Number.Float */\n",
       ".output_html .mh { color: #666666 } /* Literal.Number.Hex */\n",
       ".output_html .mi { color: #666666 } /* Literal.Number.Integer */\n",
       ".output_html .mo { color: #666666 } /* Literal.Number.Oct */\n",
       ".output_html .sa { color: #BA2121 } /* Literal.String.Affix */\n",
       ".output_html .sb { color: #BA2121 } /* Literal.String.Backtick */\n",
       ".output_html .sc { color: #BA2121 } /* Literal.String.Char */\n",
       ".output_html .dl { color: #BA2121 } /* Literal.String.Delimiter */\n",
       ".output_html .sd { color: #BA2121; font-style: italic } /* Literal.String.Doc */\n",
       ".output_html .s2 { color: #BA2121 } /* Literal.String.Double */\n",
       ".output_html .se { color: #AA5D1F; font-weight: bold } /* Literal.String.Escape */\n",
       ".output_html .sh { color: #BA2121 } /* Literal.String.Heredoc */\n",
       ".output_html .si { color: #A45A77; font-weight: bold } /* Literal.String.Interpol */\n",
       ".output_html .sx { color: #008000 } /* Literal.String.Other */\n",
       ".output_html .sr { color: #A45A77 } /* Literal.String.Regex */\n",
       ".output_html .s1 { color: #BA2121 } /* Literal.String.Single */\n",
       ".output_html .ss { color: #19177C } /* Literal.String.Symbol */\n",
       ".output_html .bp { color: #008000 } /* Name.Builtin.Pseudo */\n",
       ".output_html .fm { color: #0000FF } /* Name.Function.Magic */\n",
       ".output_html .vc { color: #19177C } /* Name.Variable.Class */\n",
       ".output_html .vg { color: #19177C } /* Name.Variable.Global */\n",
       ".output_html .vi { color: #19177C } /* Name.Variable.Instance */\n",
       ".output_html .vm { color: #19177C } /* Name.Variable.Magic */\n",
       ".output_html .il { color: #666666 } /* Literal.Number.Integer.Long */</style><div class=\"highlight\"><pre><span></span>    <span class=\"k\">def</span> <span class=\"nf\">forward</span><span class=\"p\">(</span><span class=\"bp\">self</span><span class=\"p\">,</span> <span class=\"nb\">input</span><span class=\"p\">,</span> <span class=\"n\">hidden</span><span class=\"o\">=</span><span class=\"kc\">None</span><span class=\"p\">):</span>\n",
       "        <span class=\"c1\"># Apply word embedding to input</span>\n",
       "        <span class=\"n\">embedded</span> <span class=\"o\">=</span> <span class=\"bp\">self</span><span class=\"o\">.</span><span class=\"n\">embedding</span><span class=\"p\">(</span><span class=\"nb\">input</span><span class=\"p\">)</span>\n",
       "\n",
       "        <span class=\"c1\"># Forward pass through the RNN layer</span>\n",
       "        <span class=\"k\">if</span> <span class=\"n\">hidden</span> <span class=\"ow\">is</span> <span class=\"ow\">not</span> <span class=\"kc\">None</span><span class=\"p\">:</span>\n",
       "            <span class=\"n\">output</span><span class=\"p\">,</span> <span class=\"n\">hidden</span> <span class=\"o\">=</span> <span class=\"bp\">self</span><span class=\"o\">.</span><span class=\"n\">rnn</span><span class=\"p\">(</span><span class=\"n\">embedded</span><span class=\"p\">,</span> <span class=\"n\">hidden</span><span class=\"p\">)</span>\n",
       "        <span class=\"k\">else</span><span class=\"p\">:</span>\n",
       "            <span class=\"n\">output</span><span class=\"p\">,</span> <span class=\"n\">hidden</span> <span class=\"o\">=</span> <span class=\"bp\">self</span><span class=\"o\">.</span><span class=\"n\">rnn</span><span class=\"p\">(</span><span class=\"n\">embedded</span><span class=\"p\">)</span>\n",
       "</pre></div>\n"
      ],
      "text/latex": [
       "\\begin{Verbatim}[commandchars=\\\\\\{\\}]\n",
       "    \\PY{k}{def} \\PY{n+nf}{forward}\\PY{p}{(}\\PY{n+nb+bp}{self}\\PY{p}{,} \\PY{n+nb}{input}\\PY{p}{,} \\PY{n}{hidden}\\PY{o}{=}\\PY{k+kc}{None}\\PY{p}{)}\\PY{p}{:}\n",
       "        \\PY{c+c1}{\\PYZsh{} Apply word embedding to input}\n",
       "        \\PY{n}{embedded} \\PY{o}{=} \\PY{n+nb+bp}{self}\\PY{o}{.}\\PY{n}{embedding}\\PY{p}{(}\\PY{n+nb}{input}\\PY{p}{)}\n",
       "\n",
       "        \\PY{c+c1}{\\PYZsh{} Forward pass through the RNN layer}\n",
       "        \\PY{k}{if} \\PY{n}{hidden} \\PY{o+ow}{is} \\PY{o+ow}{not} \\PY{k+kc}{None}\\PY{p}{:}\n",
       "            \\PY{n}{output}\\PY{p}{,} \\PY{n}{hidden} \\PY{o}{=} \\PY{n+nb+bp}{self}\\PY{o}{.}\\PY{n}{rnn}\\PY{p}{(}\\PY{n}{embedded}\\PY{p}{,} \\PY{n}{hidden}\\PY{p}{)}\n",
       "        \\PY{k}{else}\\PY{p}{:}\n",
       "            \\PY{n}{output}\\PY{p}{,} \\PY{n}{hidden} \\PY{o}{=} \\PY{n+nb+bp}{self}\\PY{o}{.}\\PY{n}{rnn}\\PY{p}{(}\\PY{n}{embedded}\\PY{p}{)}\n",
       "\\end{Verbatim}\n"
      ],
      "text/plain": [
       "    def forward(self, input, hidden=None):\n",
       "        # Apply word embedding to input\n",
       "        embedded = self.embedding(input)\n",
       "\n",
       "        # Forward pass through the RNN layer\n",
       "        if hidden is not None:\n",
       "            output, hidden = self.rnn(embedded, hidden)\n",
       "        else:\n",
       "            output, hidden = self.rnn(embedded)\n"
      ]
     },
     "execution_count": 11,
     "metadata": {},
     "output_type": "execute_result"
    }
   ],
   "source": [
    "Code(data=''.join([line for line in open('mymodel.py')][35:45]), language='python')"
   ]
  },
  {
   "cell_type": "markdown",
   "metadata": {},
   "source": [
    "We the need to modify the call to `model()` and use our new function `repackage_hidden()` to detach the hidden stat in each iteration."
   ]
  },
  {
   "cell_type": "code",
   "execution_count": 12,
   "metadata": {},
   "outputs": [],
   "source": [
    "import time\n",
    "import math\n",
    "\n",
    "def train():\n",
    "    model.train()\n",
    "    hidden = model.init_hidden(batch_size)\n",
    "    \n",
    "    for batch, i in enumerate(range(0, train_data.size(0) - 1, l_seq)):\n",
    "        data, targets = get_batch(train_data, i, l_seq)\n",
    "        \n",
    "        optimizer.zero_grad()\n",
    "        hidden = repackage_hidden(hidden)\n",
    "        output, hidden = model(data, hidden)\n",
    "        loss = loss_fn(output, targets)\n",
    "        loss.backward()\n",
    "        \n",
    "        torch.nn.utils.clip_grad_norm_(model.parameters(), clip)\n",
    "        optimizer.step()\n",
    "    \n",
    "    model.epoch += 1"
   ]
  },
  {
   "cell_type": "markdown",
   "metadata": {},
   "source": [
    "Similarly we modify the `evaluate()`function to also pass the hidden state to the model and detach the hidden state:"
   ]
  },
  {
   "cell_type": "code",
   "execution_count": 13,
   "metadata": {},
   "outputs": [],
   "source": [
    "def evaluate(data_source):\n",
    "    # Turn on evaluation mode which disables dropout.\n",
    "    model.eval()\n",
    "    total_loss = 0.\n",
    "    ntokens = len(corpus.dictionary)\n",
    "    \n",
    "    hidden = model.init_hidden(batch_size)\n",
    "    \n",
    "    with torch.no_grad():\n",
    "        for i in range(0, data_source.size(0) - 1, l_seq):\n",
    "            data, targets = get_batch(data_source, i, l_seq)\n",
    "            output, hidden = model(data, hidden)\n",
    "            hidden = repackage_hidden(hidden)\n",
    "            total_loss += len(data) * loss_fn(output, targets).item()\n",
    "    return total_loss / (len(data_source) - 1)"
   ]
  },
  {
   "cell_type": "markdown",
   "metadata": {},
   "source": [
    "With all code modifications in place, we can now train our model with improved information flow."
   ]
  },
  {
   "cell_type": "code",
   "execution_count": 14,
   "metadata": {},
   "outputs": [
    {
     "name": "stdout",
     "output_type": "stream",
     "text": [
      "------------------------------------------------------------------------------\n",
      "|              |             |       loss        |        perplexity         |\n",
      "| end of epoch |     time    |-------------------|---------------------------|\n",
      "|              |             |  train  |  valid  |    train    |    valid    |\n",
      "------------------------------------------------------------------------------\n",
      "------------------------------------------------------------------------------\n",
      "|           50 |      1322.0s |    4.55 |    5.31 |       94.87 |      202.31 |\n",
      "------------------------------------------------------------------------------\n"
     ]
    }
   ],
   "source": [
    "# Loop over epochs.\n",
    "best_val_loss = None\n",
    "fname = 'exercise3_iif.torch'\n",
    "fname_best = 'exercise3_iif_best.torch'\n",
    "\n",
    "from fcns import print_log_head, load_model\n",
    "from os.path import exists\n",
    "\n",
    "if not exists(fname):\n",
    "    model = MyNetwork().to(device)\n",
    "    loss_fn = torch.nn.CrossEntropyLoss()\n",
    "    optimizer = optim.SGD(model.parameters(), lr = lr, weight_decay = 0, momentum = 0.0)\n",
    "    print_log_head()\n",
    "    train_nepochs(nepochs, fname, fname_best)\n",
    "else:\n",
    "    model = load_model(fname)"
   ]
  },
  {
   "cell_type": "markdown",
   "metadata": {},
   "source": [
    "We plot the train and validation loss as a function of epoch below. Overall the loss looks very similar to the previous part, where we introduced gradient clipping. "
   ]
  },
  {
   "cell_type": "code",
   "execution_count": 15,
   "metadata": {},
   "outputs": [
    {
     "data": {
      "text/plain": [
       "<matplotlib.legend.Legend at 0x7f3da4156110>"
      ]
     },
     "execution_count": 15,
     "metadata": {},
     "output_type": "execute_result"
    },
    {
     "data": {
      "image/png": "[encoded data removed]",
      "text/plain": [
       "<Figure size 640x480 with 1 Axes>"
      ]
     },
     "metadata": {},
     "output_type": "display_data"
    }
   ],
   "source": [
    "import matplotlib.pyplot as plt\n",
    "import numpy as np\n",
    "fig, ax = plt.subplots()\n",
    "\n",
    "ax.plot(np.arange(1, len(model.train_loss)+1), model.train_loss, label='train loss')\n",
    "ax.plot(np.arange(1, len(model.val_loss)+1), model.val_loss, label='validation loss')\n",
    "ax.legend()"
   ]
  },
  {
   "cell_type": "markdown",
   "metadata": {},
   "source": [
    "The best loss was obtained after 26 epochs of training and we achieved slightly better performance without modifying the learning rate compared to the previous section, but still not as good as we observed in exercise 2. This shows that improving the information flow by passing the hidden state does not just straight-up improve the RNN by enabling to learn longer term dependencies, but the RNN must also be able to learn these long-term dependencies, which is sensitively dependent on other design- and hyper-parameters."
   ]
  },
  {
   "cell_type": "code",
   "execution_count": 16,
   "metadata": {},
   "outputs": [
    {
     "name": "stdout",
     "output_type": "stream",
     "text": [
      "Best model obtained in epoch                   26\n",
      "The perpelexity in the validation set is   196.72\n",
      "The perpelexity in the test set is         187.00\n"
     ]
    }
   ],
   "source": [
    "model = torch.load(fname_best)\n",
    "test_loss = evaluate(val_data)\n",
    "print('Best model obtained in epoch                  ', model.epoch)\n",
    "print('The perpelexity in the validation set is {:8.2f}'.format(math.exp(test_loss)))\n",
    "test_loss = evaluate(test_data)\n",
    "print('The perpelexity in the test set is       {:8.2f}'.format(math.exp(test_loss)))"
   ]
  },
  {
   "cell_type": "markdown",
   "metadata": {},
   "source": [
    "## Gated units\n",
    "\n",
    "We now replace the Elman RNN by the LSTM. This is easily done using pytorch's `LSTM()` layer. We have followed the ideas outlined in https://github.com/pytorch/examples/blob/main/word_language_model/main.py and included an argument `rnn_type` in the definition of the `MyNetwork()` class, which allows to switch over from the Elman RNN to the LSTM unit."
   ]
  },
  {
   "cell_type": "code",
   "execution_count": 17,
   "metadata": {},
   "outputs": [],
   "source": [
    "model = MyNetwork(rnn_type='LSTM').to(device)\n",
    "loss_fn = torch.nn.CrossEntropyLoss()\n",
    "optimizer = optim.SGD(model.parameters(), lr = lr, weight_decay = 0, momentum = 0.0)"
   ]
  },
  {
   "cell_type": "code",
   "execution_count": 18,
   "metadata": {},
   "outputs": [
    {
     "name": "stdout",
     "output_type": "stream",
     "text": [
      "------------------------------------------------------------------------------\n",
      "|              |             |       loss        |        perplexity         |\n",
      "| end of epoch |     time    |-------------------|---------------------------|\n",
      "|              |             |  train  |  valid  |    train    |    valid    |\n",
      "------------------------------------------------------------------------------\n",
      "------------------------------------------------------------------------------\n",
      "|           50 |      1498.2s |    4.31 |    5.14 |       74.41 |      171.24 |\n",
      "------------------------------------------------------------------------------\n"
     ]
    }
   ],
   "source": [
    "fname = 'exercise3_lstm.torch'\n",
    "fname_best = 'exercise3_lstm_best.torch'\n",
    "\n",
    "if not exists(fname):\n",
    "    print_log_head()\n",
    "    train_nepochs(nepochs, fname, fname_best)\n",
    "else:\n",
    "    model = load_model(fname)"
   ]
  },
  {
   "cell_type": "markdown",
   "metadata": {},
   "source": [
    "We observe that the loss in the LSTM is a lot smoother as a function of epoch than what we have obtained thus far for the Elman RNN, suggesting that the LSTM is a bit easier to train. We observe quite some overfitting to the training data from about epoch 27 onwards."
   ]
  },
  {
   "cell_type": "code",
   "execution_count": 19,
   "metadata": {},
   "outputs": [
    {
     "data": {
      "text/plain": [
       "<matplotlib.legend.Legend at 0x7f3da41d2d50>"
      ]
     },
     "execution_count": 19,
     "metadata": {},
     "output_type": "execute_result"
    },
    {
     "data": {
      "image/png": "[encoded data removed]",
      "text/plain": [
       "<Figure size 640x480 with 1 Axes>"
      ]
     },
     "metadata": {},
     "output_type": "display_data"
    }
   ],
   "source": [
    "import matplotlib.pyplot as plt\n",
    "import numpy as np\n",
    "fig, ax = plt.subplots()\n",
    "\n",
    "ax.plot(np.arange(1, len(model.train_loss)+1), model.train_loss, label='train loss')\n",
    "ax.plot(np.arange(1, len(model.val_loss)+1), model.val_loss, label='validation loss')\n",
    "ax.legend()"
   ]
  },
  {
   "cell_type": "markdown",
   "metadata": {},
   "source": [
    "The best model was obtained after 27 epochs of training. It performs much better than the Elman RNN judging from the perplexity scores. We continue to see the trend, that the perplexity on the validation data is worse than it is on the test data."
   ]
  },
  {
   "cell_type": "code",
   "execution_count": 20,
   "metadata": {},
   "outputs": [
    {
     "name": "stdout",
     "output_type": "stream",
     "text": [
      "Best model obtained in epoch                   27\n",
      "The perpelexity in the validation set is   163.27\n",
      "The perpelexity in the test set is         154.51\n"
     ]
    }
   ],
   "source": [
    "model = torch.load(fname_best)\n",
    "test_loss = evaluate(val_data)\n",
    "print('Best model obtained in epoch                  ', model.epoch)\n",
    "print('The perpelexity in the validation set is {:8.2f}'.format(math.exp(test_loss)))\n",
    "test_loss = evaluate(test_data)\n",
    "print('The perpelexity in the test set is       {:8.2f}'.format(math.exp(test_loss)))"
   ]
  },
  {
   "cell_type": "markdown",
   "metadata": {},
   "source": [
    "## Improving the model further\n",
    "\n",
    "As a last part of this assignment we consider further improvements to the model."
   ]
  },
  {
   "cell_type": "markdown",
   "metadata": {},
   "source": [
    "### Increasing the number of layers\n",
    "\n",
    "First we will increase the number of layers to increase the expressiveness of the model."
   ]
  },
  {
   "cell_type": "code",
   "execution_count": 21,
   "metadata": {},
   "outputs": [
    {
     "name": "stdout",
     "output_type": "stream",
     "text": [
      "------------------------------------------------------------------------------\n",
      "|              |             |       loss        |        perplexity         |\n",
      "| end of epoch |     time    |-------------------|---------------------------|\n",
      "|              |             |  train  |  valid  |    train    |    valid    |\n",
      "------------------------------------------------------------------------------\n",
      "------------------------------------------------------------------------------\n",
      "|           50 |      1708.6s |    4.25 |    5.12 |       69.98 |      166.55 |\n",
      "------------------------------------------------------------------------------\n"
     ]
    }
   ],
   "source": [
    "fname = 'exercise3_lnl.torch'\n",
    "fname_best = 'exercise3_lnl_best.torch'\n",
    "\n",
    "if not exists(fname):\n",
    "    model = MyNetwork(rnn_type='LSTM', nlayers=2).to(device)\n",
    "    loss_fn = torch.nn.CrossEntropyLoss()\n",
    "    optimizer = optim.SGD(model.parameters(), lr = lr, weight_decay = 0, momentum = 0.0)\n",
    "    print_log_head()\n",
    "    train_nepochs(nepochs, fname, fname_best)\n",
    "else:\n",
    "    model = load_model(fname)"
   ]
  },
  {
   "cell_type": "markdown",
   "metadata": {},
   "source": [
    "The loss as a function of epoch continues to look similar to the other loss curves we have observed thus far. There is a strong overfitting to the training data present after about epoch 20."
   ]
  },
  {
   "cell_type": "code",
   "execution_count": 22,
   "metadata": {},
   "outputs": [
    {
     "data": {
      "text/plain": [
       "<matplotlib.legend.Legend at 0x7f3da4226110>"
      ]
     },
     "execution_count": 22,
     "metadata": {},
     "output_type": "execute_result"
    },
    {
     "data": {
      "image/png": "[encoded data removed]",
      "text/plain": [
       "<Figure size 640x480 with 1 Axes>"
      ]
     },
     "metadata": {},
     "output_type": "display_data"
    }
   ],
   "source": [
    "import matplotlib.pyplot as plt\n",
    "import numpy as np\n",
    "fig, ax = plt.subplots()\n",
    "\n",
    "ax.plot(np.arange(1, len(model.train_loss)+1), model.train_loss, label='train loss')\n",
    "ax.plot(np.arange(1, len(model.val_loss)+1), model.val_loss, label='validation loss')\n",
    "ax.legend()"
   ]
  },
  {
   "cell_type": "markdown",
   "metadata": {},
   "source": [
    "The best model was now obtained after 22 epochs of training and it performed a bit better than the model considering only one layer., suggesting that the model is able to learn more of the patterns inherent to the data set."
   ]
  },
  {
   "cell_type": "code",
   "execution_count": 23,
   "metadata": {},
   "outputs": [
    {
     "name": "stdout",
     "output_type": "stream",
     "text": [
      "Best model obtained in epoch                   22\n",
      "The perpelexity in the validation set is   154.07\n",
      "The perpelexity in the test set is         147.82\n"
     ]
    }
   ],
   "source": [
    "model = torch.load(fname_best)\n",
    "test_loss = evaluate(val_data)\n",
    "print('Best model obtained in epoch                  ', model.epoch)\n",
    "print('The perpelexity in the validation set is {:8.2f}'.format(math.exp(test_loss)))\n",
    "test_loss = evaluate(test_data)\n",
    "print('The perpelexity in the test set is       {:8.2f}'.format(math.exp(test_loss)))"
   ]
  },
  {
   "cell_type": "markdown",
   "metadata": {},
   "source": [
    "### Use a learning rate scheduler\n",
    "\n",
    "As a second improvement we consider the effect of introducing a learning rate scheduler. To that end we modify the code in the `train_nepochs()` function to include the scheduler code. We use here the pytorch `torch.optim.lr_scheduler.ReduceLROnPlateau` scheduler, which reduces the learning rate after a selectable period of no improvements in the loss."
   ]
  },
  {
   "cell_type": "code",
   "execution_count": 24,
   "metadata": {},
   "outputs": [],
   "source": [
    "def train_nepochs(nepochs, fname, fname_best):\n",
    "    \n",
    "    for epoch in range(1, nepochs+1):\n",
    "        \n",
    "        epoch_start_time = time.time()\n",
    "        train()\n",
    "        \n",
    "        model.train_loss.append(evaluate(train_data))\n",
    "        model.val_loss.append(evaluate(val_data))\n",
    "\n",
    "        scheduler.step(model.val_loss[-1])\n",
    "        \n",
    "        time_epoch = time.time() - epoch_start_time\n",
    "        model.time += time_epoch\n",
    "        \n",
    "        print('|          {:3d} |   {:9.1f}s |   {:5.2f} |   {:5.2f} |    {:8.2f} |    {:8.2f} |'\\\n",
    "              .format(model.epoch, time_epoch, model.train_loss[-1], model.val_loss[-1], \n",
    "                  math.exp(model.train_loss[-1]), math.exp(model.val_loss[-1])))\n",
    "        print('-' * 78)\n",
    "        \n",
    "        # Save the model if the validation loss is the best we've seen so far.\n",
    "        if len(model.val_loss) == 1 or model.val_loss[-1] < min(model.val_loss[:-1]):\n",
    "            with open(fname_best, 'wb') as f:\n",
    "                torch.save(model, f)\n",
    "        \n",
    "        with open(fname, 'wb') as f:\n",
    "            torch.save(model, f)"
   ]
  },
  {
   "cell_type": "markdown",
   "metadata": {},
   "source": [
    "We train the network starting with the same parameters as before. The learning rate scheduler should reduce the learning rate step by step as we approch the minimum of the loss."
   ]
  },
  {
   "cell_type": "code",
   "execution_count": 25,
   "metadata": {},
   "outputs": [
    {
     "name": "stdout",
     "output_type": "stream",
     "text": [
      "------------------------------------------------------------------------------\n",
      "|              |             |       loss        |        perplexity         |\n",
      "| end of epoch |     time    |-------------------|---------------------------|\n",
      "|              |             |  train  |  valid  |    train    |    valid    |\n",
      "------------------------------------------------------------------------------\n",
      "------------------------------------------------------------------------------\n",
      "|            1 |        34.6s |    6.08 |    6.07 |      435.58 |      430.86 |\n",
      "------------------------------------------------------------------------------\n",
      "|            2 |        35.3s |    5.69 |    5.71 |      294.42 |      300.64 |\n",
      "------------------------------------------------------------------------------\n",
      "|            3 |        35.6s |    5.47 |    5.52 |      237.21 |      250.47 |\n",
      "------------------------------------------------------------------------------\n",
      "|            4 |        35.5s |    5.32 |    5.41 |      203.91 |      222.73 |\n",
      "------------------------------------------------------------------------------\n",
      "|            5 |        36.0s |    5.21 |    5.33 |      183.09 |      206.08 |\n",
      "------------------------------------------------------------------------------\n",
      "|            6 |        37.4s |    5.13 |    5.27 |      168.37 |      194.81 |\n",
      "------------------------------------------------------------------------------\n",
      "|            7 |        36.3s |    5.05 |    5.23 |      156.79 |      186.34 |\n",
      "------------------------------------------------------------------------------\n",
      "|            8 |        35.9s |    4.99 |    5.19 |      147.56 |      179.67 |\n",
      "------------------------------------------------------------------------------\n",
      "|            9 |        36.1s |    4.94 |    5.16 |      140.01 |      174.38 |\n",
      "------------------------------------------------------------------------------\n",
      "|           10 |        37.0s |    4.89 |    5.14 |      133.25 |      169.96 |\n",
      "------------------------------------------------------------------------------\n",
      "|           11 |        37.0s |    4.85 |    5.12 |      127.66 |      166.62 |\n",
      "------------------------------------------------------------------------------\n",
      "|           12 |        38.0s |    4.81 |    5.10 |      122.88 |      164.09 |\n",
      "------------------------------------------------------------------------------\n",
      "|           13 |        36.1s |    4.78 |    5.09 |      118.62 |      161.98 |\n",
      "------------------------------------------------------------------------------\n",
      "|           14 |        35.6s |    4.74 |    5.08 |      114.80 |      160.26 |\n",
      "------------------------------------------------------------------------------\n",
      "|           15 |        35.4s |    4.71 |    5.07 |      111.33 |      158.77 |\n",
      "------------------------------------------------------------------------------\n",
      "|           16 |        35.4s |    4.69 |    5.06 |      108.40 |      158.01 |\n",
      "------------------------------------------------------------------------------\n",
      "|           17 |        35.3s |    4.66 |    5.06 |      105.69 |      157.14 |\n",
      "------------------------------------------------------------------------------\n",
      "|           18 |        35.2s |    4.64 |    5.05 |      103.25 |      156.39 |\n",
      "------------------------------------------------------------------------------\n",
      "|           19 |        35.2s |    4.62 |    5.05 |      101.31 |      155.82 |\n",
      "------------------------------------------------------------------------------\n",
      "|           20 |        35.2s |    4.59 |    5.05 |       98.94 |      155.42 |\n",
      "------------------------------------------------------------------------------\n",
      "|           21 |        35.4s |    4.57 |    5.04 |       96.78 |      154.73 |\n",
      "------------------------------------------------------------------------------\n",
      "|           22 |        35.4s |    4.55 |    5.04 |       95.05 |      154.80 |\n",
      "------------------------------------------------------------------------------\n",
      "|           23 |        35.3s |    4.54 |    5.04 |       93.61 |      155.20 |\n",
      "------------------------------------------------------------------------------\n",
      "|           24 |        35.3s |    4.52 |    5.04 |       92.02 |      155.16 |\n",
      "------------------------------------------------------------------------------\n",
      "|           25 |        35.3s |    4.51 |    5.05 |       90.58 |      155.36 |\n",
      "------------------------------------------------------------------------------\n",
      "|           26 |        35.3s |    4.46 |    5.03 |       86.49 |      152.98 |\n",
      "------------------------------------------------------------------------------\n",
      "|           27 |        35.4s |    4.45 |    5.03 |       85.57 |      153.40 |\n",
      "------------------------------------------------------------------------------\n",
      "|           28 |        35.3s |    4.44 |    5.04 |       84.79 |      153.86 |\n",
      "------------------------------------------------------------------------------\n",
      "|           29 |        35.4s |    4.43 |    5.04 |       84.02 |      154.17 |\n",
      "------------------------------------------------------------------------------\n",
      "|           30 |        35.3s |    4.42 |    5.04 |       83.23 |      154.44 |\n",
      "------------------------------------------------------------------------------\n",
      "|           31 |        35.3s |    4.39 |    5.03 |       80.65 |      153.00 |\n",
      "------------------------------------------------------------------------------\n",
      "|           32 |        35.4s |    4.38 |    5.03 |       80.06 |      153.18 |\n",
      "------------------------------------------------------------------------------\n",
      "|           33 |        35.3s |    4.38 |    5.03 |       79.57 |      153.41 |\n",
      "------------------------------------------------------------------------------\n",
      "|           34 |        35.3s |    4.37 |    5.03 |       79.13 |      153.64 |\n",
      "------------------------------------------------------------------------------\n",
      "|           35 |        35.3s |    4.35 |    5.03 |       77.77 |      152.36 |\n",
      "------------------------------------------------------------------------------\n",
      "|           36 |        35.3s |    4.35 |    5.03 |       77.45 |      152.44 |\n",
      "------------------------------------------------------------------------------\n",
      "|           37 |        35.3s |    4.35 |    5.03 |       77.18 |      152.55 |\n",
      "------------------------------------------------------------------------------\n",
      "|           38 |        35.4s |    4.34 |    5.03 |       76.93 |      152.68 |\n",
      "------------------------------------------------------------------------------\n",
      "|           39 |        35.3s |    4.34 |    5.03 |       76.69 |      152.80 |\n",
      "------------------------------------------------------------------------------\n",
      "|           40 |        35.3s |    4.33 |    5.03 |       76.05 |      152.34 |\n",
      "------------------------------------------------------------------------------\n",
      "|           41 |        35.3s |    4.33 |    5.03 |       75.89 |      152.39 |\n",
      "------------------------------------------------------------------------------\n",
      "|           42 |        35.4s |    4.33 |    5.03 |       75.75 |      152.46 |\n",
      "------------------------------------------------------------------------------\n",
      "|           43 |        35.3s |    4.33 |    5.03 |       75.62 |      152.53 |\n",
      "------------------------------------------------------------------------------\n",
      "|           44 |        35.4s |    4.32 |    5.03 |       75.32 |      152.29 |\n",
      "------------------------------------------------------------------------------\n",
      "|           45 |        35.5s |    4.32 |    5.03 |       75.24 |      152.32 |\n",
      "------------------------------------------------------------------------------\n",
      "|           46 |        35.2s |    4.32 |    5.03 |       75.16 |      152.36 |\n",
      "------------------------------------------------------------------------------\n",
      "|           47 |        35.4s |    4.32 |    5.03 |       75.10 |      152.40 |\n",
      "------------------------------------------------------------------------------\n",
      "|           48 |        35.3s |    4.32 |    5.03 |       74.97 |      152.30 |\n",
      "------------------------------------------------------------------------------\n",
      "|           49 |        35.3s |    4.32 |    5.03 |       74.92 |      152.32 |\n",
      "------------------------------------------------------------------------------\n",
      "|           50 |        35.4s |    4.32 |    5.03 |       74.89 |      152.34 |\n",
      "------------------------------------------------------------------------------\n"
     ]
    }
   ],
   "source": [
    "fname = 'exercise3_lrsched.torch'\n",
    "fname_best = 'exercise3_lrsched_best.torch'\n",
    "\n",
    "if not exists(fname):\n",
    "    model = MyNetwork(rnn_type='LSTM', nlayers=2).to(device)\n",
    "    loss_fn = torch.nn.CrossEntropyLoss()\n",
    "    optimizer = optim.SGD(model.parameters(), lr = lr, weight_decay = 0, momentum = 0.0)\n",
    "    scheduler = torch.optim.lr_scheduler.ReduceLROnPlateau(optimizer, 'min', patience=3, factor=0.5)\n",
    "    print_log_head()\n",
    "    train_nepochs(nepochs, fname, fname_best)\n",
    "else:\n",
    "    model = load_model(fname)"
   ]
  },
  {
   "cell_type": "markdown",
   "metadata": {},
   "source": [
    "Using the learning rate scheduler we obtain a loss curve, which flattens out after about 35 epochs of training. There is quite a clear evidence of the learning rate scheduler adjusting the learning rate as we observe some jumps in the learning rate. A strong overfitting on the training set continues to be present."
   ]
  },
  {
   "cell_type": "code",
   "execution_count": 26,
   "metadata": {},
   "outputs": [
    {
     "data": {
      "text/plain": [
       "<matplotlib.legend.Legend at 0x7f3da40fe110>"
      ]
     },
     "execution_count": 26,
     "metadata": {},
     "output_type": "execute_result"
    },
    {
     "data": {
      "image/png": "[encoded data removed]",
      "text/plain": [
       "<Figure size 640x480 with 1 Axes>"
      ]
     },
     "metadata": {},
     "output_type": "display_data"
    }
   ],
   "source": [
    "import matplotlib.pyplot as plt\n",
    "import numpy as np\n",
    "fig, ax = plt.subplots()\n",
    "\n",
    "ax.plot(np.arange(1, len(model.train_loss)+1), model.train_loss, label='train loss')\n",
    "ax.plot(np.arange(1, len(model.val_loss)+1), model.val_loss, label='validation loss')\n",
    "ax.legend()"
   ]
  },
  {
   "cell_type": "markdown",
   "metadata": {},
   "source": [
    "With the 2 layers in the LSTM network and using a learning rate shceduler we reach an improved perplexity rating of 146.25 on the test set:"
   ]
  },
  {
   "cell_type": "code",
   "execution_count": 27,
   "metadata": {},
   "outputs": [
    {
     "name": "stdout",
     "output_type": "stream",
     "text": [
      "Best model obtained in epoch                   44\n",
      "The perpelexity in the validation set is   152.29\n",
      "The perpelexity in the test set is         146.25\n"
     ]
    }
   ],
   "source": [
    "model = torch.load(fname_best)\n",
    "test_loss = evaluate(val_data)\n",
    "print('Best model obtained in epoch                  ', model.epoch)\n",
    "print('The perpelexity in the validation set is {:8.2f}'.format(math.exp(test_loss)))\n",
    "test_loss = evaluate(test_data)\n",
    "print('The perpelexity in the test set is       {:8.2f}'.format(math.exp(test_loss)))"
   ]
  }
 ],
 "metadata": {
  "kernelspec": {
   "display_name": "pytorch",
   "language": "python",
   "name": "pytorch"
  },
  "language_info": {
   "codemirror_mode": {
    "name": "ipython",
    "version": 3
   },
   "file_extension": ".py",
   "mimetype": "text/x-python",
   "name": "python",
   "nbconvert_exporter": "python",
   "pygments_lexer": "ipython3",
   "version": "3.11.5"
  },
  "widgets": {
   "application/vnd.jupyter.widget-state+json": {
    "state": {},
    "version_major": 2,
    "version_minor": 0
   }
  }
 },
 "nbformat": 4,
 "nbformat_minor": 4
}
